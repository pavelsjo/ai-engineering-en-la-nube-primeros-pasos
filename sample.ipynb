{
 "cells": [
  {
   "cell_type": "code",
   "execution_count": 2,
   "metadata": {},
   "outputs": [],
   "source": [
    "import oci"
   ]
  },
  {
   "cell_type": "code",
   "execution_count": 7,
   "metadata": {},
   "outputs": [
    {
     "name": "stdout",
     "output_type": "stream",
     "text": [
      "**************************Chat Result**************************\n",
      "{'status': 200, 'headers': {'content-type': 'application/json', 'opc-request-id': '53C26F85AB4B457BBD58C94E75DF4309/55BB58CF1CFA6E42D7CAB76BBC1FDAD5/39852615D13DCC2860D32241E4AFA205', 'content-encoding': 'gzip', 'content-length': '344'}, 'data': {\n",
      "  \"chat_response\": {\n",
      "    \"api_format\": \"GENERIC\",\n",
      "    \"choices\": [\n",
      "      {\n",
      "        \"finish_reason\": \"stop\",\n",
      "        \"index\": 0,\n",
      "        \"logprobs\": {\n",
      "          \"text_offset\": null,\n",
      "          \"token_logprobs\": null,\n",
      "          \"tokens\": null,\n",
      "          \"top_logprobs\": null\n",
      "        },\n",
      "        \"message\": {\n",
      "          \"content\": [\n",
      "            {\n",
      "              \"text\": \"How's it going? Is there something I can help you with or would you like to chat?\",\n",
      "              \"type\": \"TEXT\"\n",
      "            }\n",
      "          ],\n",
      "          \"name\": null,\n",
      "          \"role\": \"ASSISTANT\"\n",
      "        }\n",
      "      }\n",
      "    ],\n",
      "    \"time_created\": \"2024-09-20T18:51:08.842000+00:00\"\n",
      "  },\n",
      "  \"model_id\": \"ocid1.generativeaimodel.oc1.us-chicago-1.amaaaaaask7dceyarleil5jr7k2rykljkhapnvhrqvzx4cwuvtfedlfxet4q\",\n",
      "  \"model_version\": \"1.0.0\"\n",
      "}, 'request': <oci.request.Request object at 0xe0d62225a8f0>, 'next_page': None, 'request_id': '53C26F85AB4B457BBD58C94E75DF4309/55BB58CF1CFA6E42D7CAB76BBC1FDAD5/39852615D13DCC2860D32241E4AFA205'}\n"
     ]
    }
   ],
   "source": [
    "compartment_id = \"ocid1.tenancy.oc1..aaaaaaaaogia3wprum3yvc5qhcrdcxzrtwloiusgk5dbb5uibgcayapljwtq\"\n",
    "\n",
    "# Crear un proveedor de autenticación de instancias principales\n",
    "signer = oci.auth.signers.InstancePrincipalsSecurityTokenSigner()\n",
    "\n",
    "# Service endpoint\n",
    "endpoint = \"https://inference.generativeai.us-chicago-1.oci.oraclecloud.com\"\n",
    "\n",
    "generative_ai_inference_client = oci.generative_ai_inference.GenerativeAiInferenceClient(config={}, signer=signer, service_endpoint=endpoint, retry_strategy=oci.retry.NoneRetryStrategy(), timeout=(10,240))\n",
    "chat_detail = oci.generative_ai_inference.models.ChatDetails()\n",
    "\n",
    "prompt = 'Hi'\n",
    "content = oci.generative_ai_inference.models.TextContent()\n",
    "content.text = f\"{prompt}\"\n",
    "message = oci.generative_ai_inference.models.Message()\n",
    "message.role = \"USER\"\n",
    "message.content = [content]\n",
    "chat_request = oci.generative_ai_inference.models.GenericChatRequest()\n",
    "chat_request.api_format = oci.generative_ai_inference.models.BaseChatRequest.API_FORMAT_GENERIC\n",
    "chat_request.messages = [message]\n",
    "chat_request.max_tokens = 600\n",
    "chat_request.temperature = 1\n",
    "chat_request.frequency_penalty = 0\n",
    "chat_request.presence_penalty = 0\n",
    "chat_request.top_p = 0.75\n",
    "chat_request.top_k = -1\n",
    "\n",
    "chat_detail.serving_mode = oci.generative_ai_inference.models.OnDemandServingMode(model_id=\"ocid1.generativeaimodel.oc1.us-chicago-1.amaaaaaask7dceyarleil5jr7k2rykljkhapnvhrqvzx4cwuvtfedlfxet4q\")\n",
    "chat_detail.chat_request = chat_request\n",
    "chat_detail.compartment_id = compartment_id\n",
    "chat_response = generative_ai_inference_client.chat(chat_detail)\n",
    "# Print result\n",
    "print(\"**************************Chat Result**************************\")\n",
    "print(vars(chat_response))\n"
   ]
  },
  {
   "cell_type": "code",
   "execution_count": null,
   "metadata": {},
   "outputs": [],
   "source": []
  }
 ],
 "metadata": {
  "kernelspec": {
   "display_name": "Python 3",
   "language": "python",
   "name": "python3"
  },
  "language_info": {
   "codemirror_mode": {
    "name": "ipython",
    "version": 3
   },
   "file_extension": ".py",
   "mimetype": "text/x-python",
   "name": "python",
   "nbconvert_exporter": "python",
   "pygments_lexer": "ipython3",
   "version": "3.10.12"
  }
 },
 "nbformat": 4,
 "nbformat_minor": 2
}
