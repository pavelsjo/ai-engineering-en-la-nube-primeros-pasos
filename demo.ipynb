{
 "cells": [
  {
   "cell_type": "code",
   "execution_count": 1,
   "metadata": {},
   "outputs": [],
   "source": [
    "import os\n",
    "\n",
    "def loadFAQs(directory_path):\n",
    "   faqs = {}\n",
    "\n",
    "   for filename in os.listdir(directory_path):\n",
    "      if filename.endswith(\".txt\"):  # assuming FAQs are in .txt files\n",
    "         file_path = os.path.join(directory_path, filename)\n",
    "\n",
    "         with open(file_path) as f:\n",
    "            raw_faq = f.read()\n",
    "\n",
    "         filename_without_ext = os.path.splitext(filename)[0]  # remove .txt extension\n",
    "         faqs[filename_without_ext] = [text.strip() for text in raw_faq.split('=====')]\n",
    "\n",
    "   return faqs"
   ]
  },
  {
   "cell_type": "code",
   "execution_count": 2,
   "metadata": {},
   "outputs": [
    {
     "data": {
      "text/plain": [
       "{'requierements': ['oracledb\\ntqdm\\nipywidgets\\nsentence_transformers\\noci'],\n",
       " 'links': ['https://apexapps.oracle.com/pls/apex/r/dbpm/livelabs/run-workshop?p210_wid=3939&p210_wec=&session=115486261083319\\nhttps://medium.com/@deepalimittal23/accessing-oci-object-storage-using-instance-principals-203ac93cb77'],\n",
       " 'faq': ['Who are you and what can you do?\\n\\nI am DORA, the Digital ORacle Assistant, a digital assistant working for Oracle EMEA. I can answer questions about Oracle Cloud (OCI) and especially about the Free Trial and Always Free programs.',\n",
       "  'What is Oracle Cloud Free Tier?\\n\\nOracle Cloud Free Tier allows you to sign up for an Oracle Cloud account which provides a number of Always Free services and a Free Trial with US$300 of free credit to use on all eligible Oracle Cloud Infrastructure services for up to 30 days. The Always Free services are available for an unlimited period of time. The Free Trial services may be used until your US$300 of free credits are consumed or the 30 days has expired, whichever comes first.',\n",
       "  'Who should use Oracle Cloud Free Tier?\\n\\nOracle Cloud Free Tier services are for everyone. Whether you’re a developer building and testing applications, a startup founder creating new systems with the intention of scaling later, an enterprise looking to test things before moving to cloud, a student wanting to learn, or an academic developing curriculum in the cloud, Oracle Cloud Free Tier enables you to learn, explore, build and test for free.',\n",
       "  'Who is eligible for Oracle Cloud Free Tier?\\n\\nOne Oracle Cloud Free Trial or Always Free account is permitted per person. Please note:\\n\\nCreating or attempting to create multiple free accounts is prohibited.\\nAll contact and billing information provided must be accurate, valid, and used with consent for the duration of the account.\\nFailure to comply with these requirements may result in the suspension or termination of your account.',\n",
       "  'Why do I need to provide credit or debit card information when I sign up for Oracle Cloud Free Tier?\\n\\nTo provide free Oracle Cloud accounts to our valued customers, we need to ensure that you are who you say you are. We use your contact information and credit/debit card information for account setup and identity verification. Oracle may periodically check the validity of your card, resulting in a temporary “authorization” hold. These holds are removed by your bank, typically within three to five days, and do not result in actual charges to your account.',\n",
       "  'What payment methods does Oracle accept?\\n\\nWe accept credit cards and debit cards that function like credit cards. We do not accept debit cards with a PIN or virtual, single-use, or prepaid cards.',\n",
       "  'Is Oracle Cloud Free Tier available in all countries?\\n\\nOracle Cloud Free Tier is currently available in all regions where commercial Oracle Cloud Infrastructure service is available. See the data regions page for detailed service availability. * If your first-choice data region isn’t available, please select an adjacent region. If you are unable to find the country or territory you require, please contact Oracle Sales or Cloud Support using the Chat link in the menu bar. The Oracle Sales team can help you sign up for Oracle Cloud Free Tier.',\n",
       "  'How do I sign up for Oracle Cloud Free Tier?\\n\\nYou can sign up on the Oracle Cloud Free Tier sign up page.',\n",
       "  'How do I get help if I have problems signing up or signing in?\\n\\nContact the Oracle Cloud support team using the Chat link in the menu bar.',\n",
       "  'Does Oracle Cloud Free Tier include service level agreements (SLAs) and technical support?\\n\\nOracle Cloud Free Tier does not include SLAs. Community support through our forums is available to all customers. Customers using only Always Free resources are not eligible for Oracle Support. Limited support is available for Oracle Cloud Free Tier with Free Trial credits. After you use all of your credits or after your trial period ends (whichever comes first), you must upgrade to a paid account to access Oracle Support. If you choose not to upgrade and continue to use Always Free Services, you will not be eligible to raise a service request in My Oracle Support.',\n",
       "  'What are Always Free services?\\n\\nAlways Free services are part of Oracle Cloud Free Tier. Always Free services are available for an unlimited time. Some limitations apply. As new Always Free services become available, you will automatically be able to use those as well.\\n\\nThe following services are available as Always Free:\\n\\nAMD-based Compute\\nArm-based Ampere A1 Compute\\nBlock Volume\\nObject Storage\\nArchive Storage\\nFlexible Load Balancer\\nFlexible Network Load Balancer\\nVPN Connect\\nAutonomous Data Warehouse\\nAutonomous Transaction Processing\\nAutonomous JSON Database\\nNoSQL Database (Phoenix Region only)\\nAPEX Application Development\\nResource Manager (Terraform)\\nMonitoring\\nNotifications\\nLogging\\nApplication Performance Monitoring\\nService Connector Hub\\nVault\\nBastions\\nSecurity Advisor\\nVirtual Cloud Networks\\nSite-to-Site VPN\\nContent Management Starter Edition\\nEmail Delivery',\n",
       "  'What can I do with Always Free Oracle Autonomous Database?\\n\\nWith Oracle Autonomous Database now always free, developers can access a full database experience and built-in development tools for free—without worrying about losing work at the end of a trial period. Autonomous Database is a multimodel database for virtually any type of data (including relational, JSON, spatial, graph, multimedia, XML, files, and more), any workload (transactional, data warehouse, and analytics), and any interface (full SQL, REST data access, and language drivers). The service includes free development tools such as SQL Developer IDE, Oracle Application Express (APEX) for low-code app creation, Oracle REST Data Services, and powerful command-line utilities. To keep building even when you are disconnected from Oracle Cloud, you can mix Always Free Oracle Autonomous Database with a compatible always-free version of Oracle Database that runs on your laptop (see Oracle Database XE).',\n",
       "  'What can I do with Always Free Oracle Cloud Infrastructure?\\n\\nWith Always Free Oracle Cloud Infrastructure services, you get the essentials you need to build and test applications in the cloud. This includes two compute instances, NVMe SSD-powered block storage, high-bandwidtou’ll be notified by email when billing begins.h object storage, archive storage, and load balancing, all on our enterprise-grade virtual networks. These resources enable you to prototype two-tier high availability applications, test server cloning and other advanced storage features, or build basic data pipelines with object storage, as just a few examples. Coupling with Always Free Autonomous Database or our Free Tier gives you even more options. Our cloud infrastructure includes rich APIs, SDKs for Java, Python, Ruby, and Go, and cool plug-ins for Jenkins, Packer, and Grafana. And you can automate it all with Terraform.',\n",
       "  'I need more instances or larger sizes of Always Free services. What should I do?\\n\\nIf your cloud account is in Free Trial period or has paid status, you can directly upgrade an Always Free resource to a paid resource to get more processing power, data storage, and network bandwidth. If your account has finished Free Trial without upgrading to paid status, you can continue using Always Free resources but you cannot upgrade Always Free resources to paid resources until the account is first upgraded to paid status.\\n\\nYou may upgrade an account to paid status at any time from the Account Management area in Oracle Cloud Console. You will be able to choose between Pay As You Go or Monthly Flex plans. Alternatively, you may contact Oracle Sales for assistance. See cloud cost estimator for details.\\n\\nIn addition, you may spend free credits during a Free Trial period to create more instances or larger instances than allowed for Always Free. Note that paid instances created during a trial period will be reclaimed when the Free Trial ends, whereas Always Free resources will continue to be available even after the Free Trial period.',\n",
       "  'I just signed up and I can’t access specific services. What can I do?\\n\\nRegistering your account with all services and regions can take a few minutes. Check again after a few minutes have passed.',\n",
       "  'How do I change which resources I want to designate as Always Free?\\n\\nIn short, you can’t. Eligible resources are designated Always Free when they are created. After you provision an Always Free resource, the Always Free status is not transferable to another resource. However, you can delete an existing Always Free resource in order to create a new Always Free resource in its place.',\n",
       "  'My resources no longer appear. How can I restore them?\\n\\nIf you have a Free Tier account and your resources no longer appear, it’s likely that your Free Trial has expired and your paid resources have been reclaimed (terminated). You can verify if this is the case by doing the following: \\nLog in to the Console\\nCheck for a banner at the top of the Console with the following text: “You are using a Free Tier account. To access all services and resources, upgrade to a paid account.”\\n\\nIf you see this message, your resources have been reclaimed and can’t be restored.',\n",
       "  'I get an “out of host capacity” error when I try to create an Always Free Compute instance. What can I do?\\n\\nAn \"out of host capacity\" error indicates a temporary lack of Always Free shapes in your home region. Oracle is working to provide more capacity, though it might take several days before additional capacity is available in your home region. If your home region has multiple availability domains, try creating the instance in a different availability domain. If that doesn’t work, wait a while, and then try to launch the instance again.',\n",
       "  'Is my Free Tier account eligible for support?\\n\\nCommunity support through our forums is available to all customers. Customers using only Always Free resources are not eligible for Oracle Support. Limited support is available to Free Tier accounts with Free Trial credits. After you use all of your credits or after your trial period ends (whichever comes first), you must upgrade to a paid account to access Oracle Support. If you choose not to upgrade and continue to use Always Free Services, you will not be eligible to raise a service request in My Oracle Support. See Getting Help and Contacting Support.',\n",
       "  'Are Always Free services available for paid accounts?\\n\\nYes, for paid accounts using universal credit pricing.',\n",
       "  'What is Free Trial?\\n\\nFree Trial is part of Oracle Cloud Free Tier and provides US$300 of free credits to use on all eligible Oracle Cloud Infrastructure services for up to 30 days. The Free Trial period may end either because all free credits are spent or 30 days has been reached.',\n",
       "  'For how long can I use my Free Trial credits?\\n\\nYou must use all your Free Trial credits within 30 days of signing up for Oracle Cloud Free Tier. Any credits that are unused at the end of the 30-day period will automatically expire. The Always Free services will continue to be available for unlimited time as long as you use the services.',\n",
       "  \"Is it possible to extend my Free Trial?\\n\\nIf you need additional credits or time, you can schedule a call with an Oracle sales representative using the Upgrade page in the Console. Sales representatives have the authority to extend trials or issue additional credits if appropriate.\\n\\nIf you don't see an Upgrade link on the Console page you’re viewing, you can click the Oracle Cloud logo at the top of the Console and then look for the Upgrade link in the sidebar on the right side of the page.\",\n",
       "  \"What happens when my Free Trial expires or my credits are used up?\\n\\nWhen you've reached the end of your 30-day trial or used all your Free Trial credits (whichever comes first), you’ll be notified and will have a grace period of 30 days, starting from the expiration date, to upgrade to paid. You will no longer be able to create new paid resources, but your account will remain active. Your resources will continue to exist for a few days, allowing you to upgrade your account and keep your resources before they're reclaimed by Oracle. If you do not upgrade to paid by the end of the grace period, your Free Trial service instances and data will be deleted. (Note that reclaimed resources can’t be recovered—they are permanently deleted.)\\n\\nResources identified as Always Free will not be reclaimed. After your Free Trial expires, you'll continue to be able to use and manage your existing Always Free resources, and can create new Always Free resources according to tenancy limits.\\n\\nHowever, if you have more Ampere A1 Compute instances provisioned than are available for an Always Free tenancy, all existing Ampere A1 instances are disabled and then deleted after 30 days, unless you upgrade to a paid account. To continue using your existing Arm-based instances as an Always Free user, before your trial ends, ensure that your total use of OCPUs and memory across all the Ampere A1 Compute instances in your tenancy is within the Always Free limit.\",\n",
       "  \"If I upgrade, do I keep my Free Trial credit balance?\\n\\nYes, if you upgrade during the Free Trial period, you won’t be billed until you've reached the end of your 30-day trial or used all of your Free Trial credits (whichever comes first). You’ll be notified by email when billing begins.\",\n",
       "  'After I upgrade my account, can I downgrade?\\n\\nThere is no option to downgrade your account. However, with a paid account, you’ll continue to have access to Always Free resources, and you’ll only pay for the standard resources you use. No minimums and no prepayment are required for your paid account.',\n",
       "  'How do I recover my data once the 30-day Free Trial comes to an end?\\n\\nYou are responsible for exporting and importing all of your data manually or using tools supported by the object storage.',\n",
       "  'What is Oracle Cloud Promotion?\\n\\nOracle Cloud Promotion is another term for Free Trial.',\n",
       "  'How do I convert my Oracle Cloud Free Tier account to a paid account?\\n\\nYou can upgrade your cloud account to paid at any time. Simply go to Account Management in the Oracle Cloud Console and complete the upgrade steps.',\n",
       "  'Is my credit usage rate discounted during Free Trial?\\n\\nYes, during the Free Trial period of 30 days, your usage rates are discounted. This will let you gain free, hands-on experience with the wide range of Oracle Cloud services.',\n",
       "  'What are the discounted rates?\\n\\nDuring the 30-day Free Trial period, you will consume your trial credits at the deeply discounted Oracle IaaS rates for all platform services including Oracle Database Cloud, Java Cloud Service (WebLogic), and other services, as compared to a regular OCI Rate Card',\n",
       "  'How do I terminate my Free Tier account?\\n\\nPlease refer to the documentation section on deleting a Free Tier Tenancy and Cloud Account for details on account termination.',\n",
       "  'Free Tier is currently available in all regions where commercial Oracle Cloud Infrastructure service is available. See the data regions page for detailed service availability. The US$300 free credit is available in select countries and valid for up to 30 days. Oracle Cloud credits are consumed at discounted rates during the 30-day promotional period. The capacity limits listed under each service are only estimates and reflect the maximum capacity you can get if you consume your entire credit on one service during the promotional period. The maximum capacity per service you get can be less if you consume multiple services. The list of services and capacity estimates are subject to change. Your credit balance is available to you in the Oracle Cloud Infrastructure Console.',\n",
       "  '1 OCPU on x86 CPU Architecture (AMD and Intel) = 2 vCPUs; 1 OCPU on Arm CPU Architecture (Ampere) = 1 vCPU',\n",
       "  'Availability to Free Tier is subject to capacity limits.',\n",
       "  'What is Oracle Cloud Infrastructure Compute?\\n\\nOracle Cloud Infrastructure Compute allows you to provision and manage compute hosts, known as instances, to meet your compute and application requirements.',\n",
       "  'What can you do with Oracle Cloud Infrastructure Compute instances?\\n\\nYou can access instances securely, restart them, attach and detach volumes, and terminate them when no longer needed. Local drive changes are lost upon termination, but saved volume changes are retained.',\n",
       "  'What types of instances are available in Oracle Cloud Infrastructure?\\n\\nOracle Cloud Infrastructure offers both bare metal and virtual machine instances.',\n",
       "  'What is the advantage of using a bare metal compute instance?\\n\\nBare metal instances provide dedicated physical server access for highest performance and strong isolation.',\n",
       "  'What is a virtual machine (VM) instance in Oracle Cloud Infrastructure?\\n\\nA virtual machine (VM) is an independent computing environment running on top of physical bare metal hardware, allowing isolation and the ability to run multiple VMs.',\n",
       "  'How do Oracle Cloud Infrastructure VM compute instances compare to bare metal instances?\\n\\nVM compute instances run on the same hardware as bare metal instances, leveraging the same cloud-optimized hardware, firmware, software stack, and networking infrastructure.',\n",
       "  'Where can I find more information about the Compute service and related services?\\n\\nYou can learn more about the Compute service and related services in the provided link.',\n",
       "  'What should I review when working with Compute instances in Oracle Cloud Infrastructure?\\n\\nYou should review the \"Best Practices for Your Compute Instances\" for important information about working with your Compute instances.',\n",
       "  'How can Linux instances on Oracle Cloud Infrastructure apply critical kernel patches without rebooting?\\n\\nLinux instances can use Oracle Ksplice to apply critical kernel patches without rebooting. It works for Oracle Linux, CentOS, and Ubuntu.',\n",
       "  'Is Compute Always Free eligible in Oracle Cloud Infrastructure?\\n\\nYes, Compute is Always Free eligible. You can find more information about Always Free resources in the provided link, including capabilities and limitations.',\n",
       "  'What factors should you consider when creating a compute instance in Oracle Cloud Infrastructure?\\n\\nWhen creating a compute instance, consider factors like the number of CPUs, amount of memory, and network resources to select the most appropriate instance type for your applications.',\n",
       "  'What are burstable instances in Oracle Cloud Infrastructure?\\n\\nBurstable instances are virtual machine (VM) instances that provide a baseline level of CPU performance with the ability to burst to a higher level for occasional spikes in usage.',\n",
       "  'What do shielded instances do in Oracle Cloud Infrastructure?\\n\\nShielded instances harden the firmware security on bare metal hosts and VMs to defend against malicious boot-level software.',\n",
       "  'What are extended memory VM instances in Oracle Cloud Infrastructure?\\n\\nExtended memory VM instances provide more memory and cores than standard shapes, catering to workloads that require extra resources.',\n",
       "  'What types of shape categories are offered by Oracle Cloud Infrastructure?\\n\\nOracle Cloud Infrastructure offers standard shapes, DenseIO shapes, GPU shapes, and high-performance computing (HPC) and optimized shapes.',\n",
       "  'What are standard shapes in Oracle Cloud Infrastructure used for?\\n\\nStandard shapes are designed for general-purpose workloads and are suitable for a wide range of applications, offering a balance of cores, memory, and network resources.',\n",
       "  'What are DenseIO shapes in Oracle Cloud Infrastructure used for?\\n\\nDenseIO shapes are designed for large databases, big data workloads, and applications requiring high-performance local storage with locally-attached NVMe-based SSDs.',\n",
       "  'What are GPU shapes in Oracle Cloud Infrastructure designed for?\\n\\nGPU shapes are designed for hardware-accelerated workloads, with Intel or AMD CPUs and NVIDIA graphics processors. Some bare metal GPU shapes support cluster networking.',\n",
       "  'What are HPC and optimized shapes in Oracle Cloud Infrastructure for?\\n\\nHPC and optimized shapes are designed for high-performance computing workloads that require high-frequency processor cores, and they support cluster networking.',\n",
       "  'Where can I find more information about the available shapes in Oracle Cloud Infrastructure?\\n\\nYou can find more information about the available bare metal and VM shapes in the provided links.',\n",
       "  'How do you provision and manage compute hosts in Oracle Cloud Infrastructure?\\n\\nYou can provision and manage compute hosts using Oracle Cloud Infrastructure Compute.',\n",
       "  'What happens to local drive changes when you terminate an instance in Oracle Cloud Infrastructure?\\n\\nLocal drive changes are lost when you terminate an instance.',\n",
       "  'What is the primary benefit of using bare metal compute instances in Oracle Cloud Infrastructure?\\n\\nBare metal compute instances provide dedicated physical server access for the highest performance and strong isolation.',\n",
       "  'What is the purpose of a virtual machine (VM) instance in Oracle Cloud Infrastructure?\\n\\nA VM instance is an independent computing environment that runs on top of physical bare metal hardware, allowing isolation and the ability to run multiple VMs.',\n",
       "  'Where can I find additional information about the Compute service and related services in Oracle Cloud Infrastructure?\\n\\nYou can find more information about the Compute service and related services by following the provided link.',\n",
       "  'What important information should you review when working with Compute instances in Oracle Cloud Infrastructure?\\n\\nIt is essential to review the \"Best Practices for Your Compute Instances\" for important guidance on working with your Compute instances.',\n",
       "  'How can you apply critical kernel patches to Linux instances in Oracle Cloud Infrastructure without rebooting?\\n\\nYou can use Oracle Ksplice to apply critical kernel patches to Linux instances without the need for a reboot. This works for Oracle Linux, CentOS, and Ubuntu.',\n",
       "  \"Is Compute part of Oracle Cloud Infrastructure's Always Free resources?\\n\\nYes, Compute is Always Free eligible. You can find more details, including capabilities and limitations, in the provided link.\",\n",
       "  'What considerations should you take into account when selecting an instance type for your applications in Oracle Cloud Infrastructure?\\n\\nWhen creating a compute instance, you should consider factors like the number of CPUs, amount of memory, and network resources to choose the most suitable instance type for your applications.',\n",
       "  'What are burstable instances, and how do they function in Oracle Cloud Infrastructure?\\n\\nBurstable instances in Oracle Cloud Infrastructure are virtual machine (VM) instances that provide a baseline level of CPU performance but can burst to a higher level to support occasional spikes in usage.',\n",
       "  'What is the purpose of shielded instances in Oracle Cloud Infrastructure?\\n\\nShielded instances in Oracle Cloud Infrastructure enhance the firmware security on both bare metal hosts and VMs to defend against malicious boot-level software.',\n",
       "  'What distinguishes extended memory VM instances in Oracle Cloud Infrastructure from standard shapes?\\n\\nExtended memory VM instances offer more memory and cores than standard shapes, making them ideal for workloads that require additional resources.',\n",
       "  'What categories of shapes are available in Oracle Cloud Infrastructure to meet different compute and application requirements?\\n\\nOracle Cloud Infrastructure provides various shape categories, including standard shapes, DenseIO shapes, GPU shapes, and high-performance computing (HPC) and optimized shapes.',\n",
       "  'When would you choose DenseIO shapes for your workloads in Oracle Cloud Infrastructure?\\n\\nDenseIO shapes are suitable for large databases, big data workloads, and applications that require high-performance local storage with locally-attached NVMe-based SSDs.',\n",
       "  'What are GPU shapes typically used for in Oracle Cloud Infrastructure?\\n\\nGPU shapes in Oracle Cloud Infrastructure are designed for hardware-accelerated workloads and include Intel or AMD CPUs and NVIDIA graphics processors. Some bare metal GPU shapes support cluster networking.',\n",
       "  'In which scenarios are HPC and optimized shapes in Oracle Cloud Infrastructure beneficial?\\n\\nHPC and optimized shapes are designed for high-performance computing workloads that require high-frequency processor cores and are suitable for applications that need cluster networking.',\n",
       "  'Where can I access more detailed information about the available shapes in Oracle Cloud Infrastructure?\\n\\nYou can find more detailed information about the available bare metal and VM shapes in the provided links.',\n",
       "  'How does Oracle Cloud Infrastructure Compute pricing work?\\n\\nOracle Cloud Infrastructure Compute pricing is based on the resources you consume, including instances, storage, and networking. It varies depending on the instance type and usage.',\n",
       "  \"Can you resize a compute instance in Oracle Cloud Infrastructure after it's been created?\\n\\nYes, you can resize a compute instance in Oracle Cloud Infrastructure to change its shape and allocate more or fewer resources as needed.\",\n",
       "  'What is the process of attaching a volume to a compute instance in Oracle Cloud Infrastructure?\\n\\nTo attach a volume to a compute instance, you can use the Oracle Cloud Infrastructure Console, the command line interface, or the API to specify the instance and the volume to attach.',\n",
       "  'How do you detach a volume from a compute instance in Oracle Cloud Infrastructure?\\n\\nTo detach a volume from a compute instance, you can use the Oracle Cloud Infrastructure Console, the command line interface, or the API to specify the instance and the volume to detach.',\n",
       "  \"What is the purpose of creating a snapshot of a volume in Oracle Cloud Infrastructure?\\n\\nCreating a snapshot of a volume in Oracle Cloud Infrastructure allows you to capture a point-in-time copy of the volume's data for backup or cloning purposes.\",\n",
       "  'Can you access compute instances in Oracle Cloud Infrastructure from a remote location?\\n\\nYes, you can access compute instances in Oracle Cloud Infrastructure securely from a remote location using SSH or RDP, depending on the operating system.',\n",
       "  'How can you restart a compute instance in Oracle Cloud Infrastructure?\\n\\nYou can restart a compute instance in Oracle Cloud Infrastructure using the Oracle Cloud Infrastructure Console, the command line interface, or the API.',\n",
       "  'What happens to local drives when you restart a compute instance in Oracle Cloud Infrastructure?\\n\\nLocal drive contents remain intact when you restart a compute instance in Oracle Cloud Infrastructure.',\n",
       "  'How does Oracle Cloud Infrastructure handle saved changes to volumes attached to a compute instance when it is terminated?\\n\\nOracle Cloud Infrastructure retains saved changes to volumes attached to a compute instance even when the instance is terminated.',\n",
       "  'What is the purpose of Oracle Cloud Infrastructure Always Free resources?\\n\\nOracle Cloud Infrastructure Always Free resources provide a way to use certain services and resources in the cloud for free, with limitations on usage.',\n",
       "  'Are there any limitations to using Oracle Cloud Infrastructure Always Free resources?\\n\\nYes, Always Free resources in Oracle Cloud Infrastructure have usage limitations and are subject to specific terms and conditions.',\n",
       "  'What considerations should be taken into account when selecting the appropriate instance type for an application in Oracle Cloud Infrastructure?\\n\\nFactors such as CPU count, memory size, and network resources should be considered when choosing the right instance type for an application in Oracle Cloud Infrastructure.',\n",
       "  'How do burstable instances differ from standard instances in Oracle Cloud Infrastructure?\\n\\nBurstable instances provide a baseline level of CPU performance but can burst to a higher level for brief periods, whereas standard instances offer consistent CPU performance.',\n",
       "  'What are the characteristics of shielded instances in Oracle Cloud Infrastructure?\\n\\nShielded instances have enhanced firmware security on both bare metal hosts and VMs to protect against malicious boot-level software.',\n",
       "  'When is it beneficial to use extended memory VM instances in Oracle Cloud Infrastructure?\\n\\nExtended memory VM instances are useful for workloads that require more memory and cores than what is available with standard shapes.',\n",
       "  'Can you run multiple VMs on the same hardware with Oracle Cloud Infrastructure VM compute instances?\\n\\nYes, Oracle Cloud Infrastructure VM compute instances allow you to run multiple VMs on the same physical hardware, providing isolation.',\n",
       "  'What are the main differences between Intel and AMD processors in Oracle Cloud Infrastructure GPU shapes?\\n\\nGPU shapes in Oracle Cloud Infrastructure come with either Intel or AMD CPUs and NVIDIA graphics processors, but the primary difference lies in the CPU manufacturer.',\n",
       "  'What is cluster networking, and which Oracle Cloud Infrastructure shapes support it?\\n\\nCluster networking allows high-performance networking between instances. Some bare metal GPU shapes in Oracle Cloud Infrastructure support cluster networking.',\n",
       "  'What advantages do standard shapes offer for general-purpose workloads in Oracle Cloud Infrastructure?\\n\\nStandard shapes provide a balanced combination of cores, memory, and network resources, making them suitable for a wide range of applications.',\n",
       "  'How can DenseIO shapes benefit workloads that require high-performance local storage?\\n\\nDenseIO shapes in Oracle Cloud Infrastructure are equipped with locally-attached NVMe-based SSDs, making them ideal for workloads demanding high-performance local storage.',\n",
       "  'What types of workloads benefit from Oracle Cloud Infrastructure GPU shapes?\\n\\nOracle Cloud Infrastructure GPU shapes are designed for hardware-accelerated workloads, including those that require GPU acceleration for specific tasks.',\n",
       "  'What is the key advantage of HPC and optimized shapes in Oracle Cloud Infrastructure?\\n\\nHPC and optimized shapes offer high-frequency processor cores, making them suitable for high-performance computing workloads.',\n",
       "  'How does Oracle Cloud Infrastructure charge for compute instances?\\n\\nOracle Cloud Infrastructure charges for compute instances based on factors like the instance type, storage usage, and network data transfer.',\n",
       "  'Can you modify the configuration of a running compute instance in Oracle Cloud Infrastructure?\\n\\nYes, you can modify the configuration of a running compute instance in Oracle Cloud Infrastructure, including resizing the instance.',\n",
       "  'What is the Oracle Cloud Infrastructure Console, and how can it be used to manage compute instances?\\n\\nThe Oracle Cloud Infrastructure Console is a web-based interface that allows you to manage compute instances, create and modify resources, and monitor your cloud environment.',\n",
       "  'Is there a command line interface available for managing compute instances in Oracle Cloud Infrastructure?\\n\\nYes, Oracle Cloud Infrastructure provides a command line interface (CLI) that you can use to manage compute instances, volumes, and other resources.',\n",
       "  'What is the API, and how is it used to interact with Oracle Cloud Infrastructure Compute services?\\n\\nThe API (Application Programming Interface) allows developers to interact with Oracle Cloud Infrastructure Compute services programmatically, enabling automation and integration with other applications.',\n",
       "  'What is the purpose of an instance shape in Oracle Cloud Infrastructure?\\n\\nAn instance shape in Oracle Cloud Infrastructure defines the number of CPUs, amount of memory, and network resources allocated to a compute instance.',\n",
       "  'Can you change the shape of a running compute instance in Oracle Cloud Infrastructure?\\n\\nYes, you can change the shape of a running compute instance in Oracle Cloud Infrastructure by resizing it to a different instance shape.',\n",
       "  'How can you allocate more resources to a compute instance in Oracle Cloud Infrastructure?\\n\\nYou can allocate more resources to a compute instance by resizing it to a larger instance shape that offers more CPUs, memory, and network resources.',\n",
       "  'What is the recommended practice for backing up data in Oracle Cloud Infrastructure?\\n\\nThe recommended practice for backing up data in Oracle Cloud Infrastructure is to create snapshots of volumes to capture point-in-time copies of data.',\n",
       "  \"What is the purpose of SSH in Oracle Cloud Infrastructure, and how is it used for secure access?\\n\\nSSH (Secure Shell) is used for secure remote access to compute instances in Oracle Cloud Infrastructure, allowing secure communication between the user's computer and the instance.\",\n",
       "  \"How do you use RDP to access Windows-based compute instances in Oracle Cloud Infrastructure?\\n\\nRemote Desktop Protocol (RDP) is used to access Windows-based compute instances in Oracle Cloud Infrastructure, enabling remote graphical access to the instance's desktop.\",\n",
       "  'What are the options for securely accessing Linux-based compute instances in Oracle Cloud Infrastructure?\\n\\nSecure access to Linux-based compute instances in Oracle Cloud Infrastructure can be achieved using SSH, which provides secure command-line access.',\n",
       "  'What are the primary security considerations when accessing compute instances in Oracle Cloud Infrastructure?\\n\\nSecurity considerations when accessing compute instances in Oracle Cloud Infrastructure include proper authentication, secure access methods, and the use of security groups and firewalls to control network traffic.',\n",
       "  'What is the Oracle Cloud Infrastructure Marketplace, and how does it relate to compute instances?\\n\\nThe Oracle Cloud Infrastructure Marketplace is a platform that offers a wide range of pre-configured software and solutions that can be easily deployed on compute instances.',\n",
       "  'How can you deploy applications and services on compute instances in Oracle Cloud Infrastructure?\\n\\nYou can deploy applications and services on compute instances in Oracle Cloud Infrastructure by configuring the instance with the required software, libraries, and configurations.',\n",
       "  'What is the significance of using Oracle Ksplice for critical kernel patches in Oracle Cloud Infrastructure?\\n\\nOracle Ksplice allows critical kernel patches to be applied to Linux instances without the need to reboot, ensuring continuous availability and reducing downtime.',\n",
       "  'How do extended memory VM instances differ from standard VM instances in Oracle Cloud Infrastructure?\\n\\nExtended memory VM instances provide more memory and cores than standard VM instances, making them suitable for memory-intensive workloads.',\n",
       "  'What types of workloads benefit from using Oracle Cloud Infrastructure standard shapes?\\n\\nOracle Cloud Infrastructure standard shapes are versatile and can accommodate a wide range of general-purpose workloads, including web applications, databases, and development environments.',\n",
       "  'What is the advantage of using DenseIO shapes in Oracle Cloud Infrastructure for workloads?\\n\\nDenseIO shapes are ideal for workloads that require high-performance local storage, such as large databases, big data analytics, and applications that depend on low-latency storage.',\n",
       "  'How can GPU shapes in Oracle Cloud Infrastructure accelerate workloads?\\n\\nGPU shapes in Oracle Cloud Infrastructure come with graphics processors that accelerate workloads like machine learning, rendering, and video processing by offloading computation to the GPU.',\n",
       "  'In which situations would you use HPC and optimized shapes in Oracle Cloud Infrastructure?\\n\\nHPC and optimized shapes are designed for high-performance computing workloads, including scientific simulations, modeling, and rendering tasks that require maximum processing power.',\n",
       "  'What is cluster networking, and why is it important for certain workloads in Oracle Cloud Infrastructure?\\n\\nCluster networking allows instances to communicate efficiently with each other over a high-speed, low-latency network, making it crucial for workloads requiring coordinated parallel processing.',\n",
       "  'How do Intel-based and AMD-based GPU shapes in Oracle Cloud Infrastructure differ in terms of performance?\\n\\nIntel-based and AMD-based GPU shapes may offer different performance levels, and the choice between them depends on the specific requirements of your workload.',\n",
       "  'What is the primary benefit of Oracle Cloud Infrastructure Compute Shapes?\\n\\nOracle Cloud Infrastructure Compute Shapes offer a wide range of options to match your specific workload requirements, from general-purpose to high-performance computing.',\n",
       "  'How does Oracle Cloud Infrastructure charge for storage usage in compute instances?\\n\\nOracle Cloud Infrastructure charges for storage usage based on the amount of storage attached to your compute instances, with pricing varying depending on the type and volume of storage.',\n",
       "  'Can you change the shape of a compute instance while it is running in Oracle Cloud Infrastructure?\\n\\nYes, you can change the shape of a running compute instance in Oracle Cloud Infrastructure to allocate more or fewer resources as needed.',\n",
       "  'What is the Oracle Cloud Infrastructure Compute API, and how can it be used?\\n\\nThe Oracle Cloud Infrastructure Compute API allows developers to programmatically manage and interact with compute instances, including creating, modifying, and terminating instances.',\n",
       "  'What options are available for monitoring and managing compute instances in Oracle Cloud Infrastructure?\\n\\nYou can use the Oracle Cloud Infrastructure Console, the command line interface (CLI), and the API for monitoring and managing compute instances.',\n",
       "  'How can you automate the management of compute instances in Oracle Cloud Infrastructure?\\n\\nYou can automate the management of compute instances by using scripts and tools that interact with the Oracle Cloud Infrastructure API, allowing for programmatic control and automation.',\n",
       "  \"What is the primary purpose of a snapshot in Oracle Cloud Infrastructure?\\n\\nA snapshot in Oracle Cloud Infrastructure is used to capture a point-in-time copy of a volume's data, providing a backup or cloning mechanism.\",\n",
       "  'Can you modify the configuration of a compute instance in Oracle Cloud Infrastructure while it is running?\\n\\nYes, you can modify the configuration of a running compute instance in Oracle Cloud Infrastructure, including resizing the instance to allocate more or fewer resources.',\n",
       "  \"What are the key differences between Oracle Cloud Infrastructure's bare metal compute instances and virtual machine (VM) instances, and how do these differences impact application performance?\\n\\nBare metal compute instances provide dedicated physical server access, offering superior performance and isolation compared to VM instances that share hardware. The impact on application performance depends on the specific workload; applications requiring high isolation and performance may benefit from bare metal instances, while VMs are suitable for less resource-intensive workloads.\",\n",
       "  'Can you explain the process of securely attaching volumes to a compute instance in Oracle Cloud Infrastructure, and how does this capability facilitate data management and application scalability?\\n\\nSecurely attaching volumes to a compute instance involves using the Oracle Cloud Infrastructure Console, CLI, or API to specify the instance and volume for attachment. This capability facilitates data management by enabling the expansion of storage without impacting existing data, and it supports application scalability as more storage can be added as needed.',\n",
       "  'What is the significance of creating snapshots for volumes in Oracle Cloud Infrastructure, and how does this practice contribute to data protection and disaster recovery strategies?\\n\\nCreating snapshots for volumes allows users to capture point-in-time copies of data, which is crucial for data protection and disaster recovery. Snapshots serve as backup copies that can be restored in case of data loss or system failures, enhancing the overall resilience of applications and systems.',\n",
       "  'In Oracle Cloud Infrastructure, how do you effectively access compute instances from remote locations, and what role do SSH and RDP play in this process?\\n\\nSecure access to compute instances from remote locations in Oracle Cloud Infrastructure can be achieved using SSH for Linux-based instances and RDP for Windows-based instances. SSH and RDP facilitate secure and encrypted connections, allowing remote management and administration of instances from anywhere with an internet connection.',\n",
       "  'Could you elaborate on the concept of Always Free resources in Oracle Cloud Infrastructure, and how can users leverage them for various use cases while staying within the specified limitations?\\n\\nAlways Free resources in Oracle Cloud Infrastructure are services and resources that can be used without incurring charges, subject to certain usage limitations. Users can leverage these resources for development, testing, small-scale applications, and learning purposes, all while adhering to the restrictions outlined in the terms and conditions.',\n",
       "  'When selecting the appropriate instance type for an application in Oracle Cloud Infrastructure, what key factors should be considered, and how do these factors influence the overall performance and resource allocation of the instances?\\n\\nSelecting the right instance type in Oracle Cloud Infrastructure involves evaluating factors such as CPU count, memory size, and network resources. These factors determine the performance and resource allocation of instances, ensuring they meet the specific demands of the application, whether it requires high CPU power, ample memory, or extensive network capabilities.',\n",
       "  'What role do burstable instances play in Oracle Cloud Infrastructure, and how can they balance CPU performance for applications with variable workloads? Can you provide an example of a use case?\\n\\nBurstable instances in Oracle Cloud Infrastructure provide a baseline level of CPU performance with the ability to burst to a higher level when required. They are ideal for applications with variable workloads, such as web servers that experience occasional traffic spikes. The baseline ensures consistent performance, while the burst capability handles increased load.',\n",
       "  'How do shielded instances enhance security in Oracle Cloud Infrastructure, and what types of security threats do they protect against? Can you provide an example of a scenario where shielded instances are beneficial?\\n\\nShielded instances in Oracle Cloud Infrastructure harden firmware security to defend against malicious boot-level software and firmware-based attacks. They protect against threats such as rootkits and other malicious code that might compromise system integrity. For instance, shielded instances are valuable in financial institutions where security and compliance are paramount.',\n",
       "  'What is the primary use case for extended memory VM instances in Oracle Cloud Infrastructure, and how do they contribute to the performance and scalability of memory-intensive workloads?\\n\\nExtended memory VM instances are designed for memory-intensive workloads that require more memory and cores. They enhance the performance and scalability of such workloads, allowing them to handle larger datasets, in-memory processing, and applications like real-time analytics or high-performance databases.',\n",
       "  \"How can Oracle Cloud Infrastructure's shape categories, including standard, DenseIO, GPU, and HPC/optimized shapes, meet the diverse needs of various applications? Can you provide examples of applications that benefit from each shape category?\\n\\nOracle Cloud Infrastructure's shape categories cater to a wide range of applications. Standard shapes suit general-purpose workloads, while DenseIO shapes are ideal for data-intensive applications. GPU shapes are tailored for machine learning and graphics-heavy workloads. HPC/optimized shapes are intended for high-performance computing, making them suitable for scientific simulations and research applications.\",\n",
       "  'What is cluster networking in Oracle Cloud Infrastructure, and how does it optimize communication between instances in a cluster? Could you provide an example of a use case where cluster networking is advantageous?\\n\\nCluster networking in Oracle Cloud Infrastructure enables instances to communicate efficiently with low latency, optimizing coordination between instances in a cluster. It is beneficial for applications like scientific simulations where multiple instances must work together to solve complex problems, requiring rapid data exchange between nodes.',\n",
       "  \"In Oracle Cloud Infrastructure, what are the key differences between Intel and AMD processors in GPU shapes, and how does the choice impact GPU-accelerated workloads?\\n\\nIntel and AMD processors in GPU shapes may offer different performance characteristics, and the choice depends on the specific requirements of GPU-accelerated workloads. For example, an application favoring Intel's CPU architecture may benefit from Intel-based GPU shapes, while others optimized for AMD may choose AMD-based GPU shapes.\",\n",
       "  'How do Oracle Cloud Infrastructure Compute Shapes address the needs of various applications, from general-purpose workloads to high-performance computing, and how can users make informed decisions when selecting the most suitable shape for their applications?\\n\\nOracle Cloud Infrastructure Compute Shapes offer a range of options, ensuring users can match specific workload requirements. General-purpose shapes are well-suited for diverse applications, while specialized shapes like HPC/optimized are tailored for high-performance computing. Users should assess their application requirements in terms of CPU power, memory, and network resources to make informed shape selections.',\n",
       "  'What factors influence Oracle Cloud Infrastructure Compute pricing, and how can users manage their costs effectively while provisioning and managing instances?\\n\\nOracle Cloud Infrastructure Compute pricing is influenced by instance type, storage usage, and network data transfer. To manage costs effectively, users should select the most appropriate instance type for their workloads, optimize storage usage, and monitor network data transfer, ensuring that resources are\\n\\n allocated efficiently.',\n",
       "  'Can you elaborate on the ways in which users can monitor and manage compute instances in Oracle Cloud Infrastructure, and how can automation and scripting be employed for streamlined management?\\n\\nUsers can monitor and manage compute instances in Oracle Cloud Infrastructure using the Console, CLI, and API. Automation and scripting allow for streamlined management by enabling programmatic control and automation of tasks, ensuring efficient resource allocation and maintenance.',\n",
       "  'What role does the Oracle Cloud Infrastructure Marketplace play in simplifying the deployment of software and solutions on compute instances, and how can users benefit from this platform?\\n\\nThe Oracle Cloud Infrastructure Marketplace simplifies the deployment of pre-configured software and solutions on compute instances, reducing setup time and complexity. Users can take advantage of a wide range of readily available solutions for their applications, saving time and effort in configuring and installing software.',\n",
       "  'Can you explain the use of Oracle Ksplice for applying critical kernel patches in Oracle Cloud Infrastructure, and how does this practice contribute to system availability and security?\\n\\nOracle Ksplice allows critical kernel patches to be applied to Linux instances without requiring a system reboot. This practice enhances system availability by reducing downtime during patch application, ensuring that applications remain accessible. It also contributes to security by keeping systems up-to-date and protected against vulnerabilities.',\n",
       "  'In the context of Oracle Cloud Infrastructure, how do extended memory VM instances differ from standard VM instances, and when should users opt for extended memory VMs?\\n\\nExtended memory VM instances offer more memory and cores than standard VM instances, making them suitable for memory-intensive workloads. Users should opt for extended memory VMs when their applications require a higher amount of memory and processing power to handle large datasets or in-memory processing.',\n",
       "  'What are some examples of workloads that benefit from using Oracle Cloud Infrastructure standard shapes, and how do these shapes provide a balanced combination of resources for general-purpose use?\\n\\nOracle Cloud Infrastructure standard shapes are suitable for a variety of general-purpose workloads, including web applications, databases, and development environments. These shapes provide a balance of CPU cores, memory, and network resources, ensuring versatility for different applications.',\n",
       "  'What advantages do DenseIO shapes offer for specific workloads in Oracle Cloud Infrastructure, and how do locally-attached NVMe-based SSDs enhance the performance of data-intensive applications?\\n\\nDenseIO shapes in Oracle Cloud Infrastructure are well-suited for data-intensive workloads, such as large databases and big data analytics. Locally-attached NVMe-based SSDs provide low-latency, high-performance storage, which is crucial for applications that depend on rapid access to data.',\n",
       "  'How can GPU shapes in Oracle Cloud Infrastructure accelerate specific workloads, and what types of applications benefit from the GPU acceleration they provide?\\n\\nGPU shapes in Oracle Cloud Infrastructure come with graphics processors that accelerate workloads such as machine learning, rendering, and video processing. Applications that require GPU acceleration for tasks like image recognition, 3D rendering, or scientific simulations benefit from these shapes.',\n",
       "  'When should users consider employing HPC and optimized shapes in Oracle Cloud Infrastructure, and what types of high-performance computing workloads are most compatible with these shapes?\\n\\nHPC and optimized shapes in Oracle Cloud Infrastructure are suitable for high-performance computing workloads that require high-frequency processor cores. Scientific simulations, finite element analysis, and rendering tasks are examples of workloads that benefit from the increased processing power of these shapes.',\n",
       "  'What is cluster networking in Oracle Cloud Infrastructure, and how does it support efficient communication between instances? Can you provide an example of a scenario where cluster networking is vital?\\n\\nCluster networking enables instances in Oracle Cloud Infrastructure to communicate efficiently with low latency, facilitating coordinated parallel processing. It is essential for scenarios like running a distributed database where multiple nodes must exchange data quickly and efficiently to maintain data consistency.',\n",
       "  'How do Intel and AMD-based GPU shapes differ in Oracle Cloud Infrastructure, and how should users choose between them based on their specific workload requirements?\\n\\nIntel and AMD-based GPU shapes may differ in terms of performance characteristics. Users should choose between them based on the compatibility of their workload with a particular CPU architecture. For instance, if their application is optimized for Intel CPUs, an Intel-based GPU shape would be the preferred choice.',\n",
       "  'How does Oracle Cloud Infrastructure Compute Shapes cater to the diverse needs of various applications, and what are some factors that users should consider when selecting the most suitable shape for their workloads?\\n\\nOracle Cloud Infrastructure Compute Shapes offer a variety of options, from general-purpose to specialized shapes, to accommodate diverse application needs. Users should consider factors such as CPU requirements, memory size, and network resources to select the shape that aligns with the specific demands of their workloads.',\n",
       "  'What factors influence Oracle Cloud Infrastructure Compute pricing, and how can users effectively manage their costs while provisioning and managing instances for their applications?\\n\\nOracle Cloud Infrastructure Compute pricing is determined by factors including instance type, storage usage, and network data transfer. To manage costs effectively, users should choose cost-efficient instance types, optimize storage usage, and monitor network data transfer, ensuring that resources are used efficiently.',\n",
       "  'How do users access and manage compute instances in Oracle Cloud Infrastructure, and what role does automation play in streamlining these processes for efficient resource allocation?\\n\\nUsers can access and manage compute instances in Oracle Cloud Infrastructure through the Console, CLI, and API. Automation is essential for streamlining these processes by enabling programmatic control and the automation of routine tasks, ensuring efficient resource allocation and maintenance.',\n",
       "  'How can the Oracle Cloud Infrastructure Marketplace simplify the deployment of software and solutions on compute instances, and what are the potential benefits for users leveraging this platform?\\n\\nThe Oracle Cloud Infrastructure Marketplace simplifies software deployment by offering pre-configured solutions for easy installation. Users can benefit from reduced setup time and effort, access a wide range of applications, and ensure the efficient deployment of software and services on their compute instances.',\n",
       "  'Can you explain the role of Oracle Ksplice in applying critical kernel patches in Oracle Cloud Infrastructure, and how does this practice contribute to enhanced system availability and security?\\n\\nOracle Ksplice facilitates the application of critical kernel patches to Linux instances without the need for system reboots. This contributes to enhanced system availability by minimizing downtime during patching, ensuring uninterrupted access to applications. Additionally, it bolsters security by keeping systems up-to-date and protected against vulnerabilities.',\n",
       "  'In the context of Oracle Cloud Infrastructure, what distinguishes extended memory VM instances from standard VM instances, and when should users consider utilizing extended memory VMs?\\n\\nExtended memory VM instances in Oracle Cloud Infrastructure offer more memory and cores than standard VM instances, making them suitable for memory-intensive workloads. Users should consider extended memory VMs when their applications require additional memory and processing power for tasks like in-memory processing, real-time analytics, or high-performance databases.',\n",
       "  'How do DenseIO shapes in Oracle Cloud Infrastructure enhance the performance of data-intensive workloads, and what is the role of locally-attached NVMe-based SSDs in achieving this improvement?\\n\\nDenseIO shapes are tailored for data-intensive workloads, such as large databases and big data analytics. The inclusion\\n\\n of locally-attached NVMe-based SSDs in these shapes significantly boosts performance by providing low-latency, high-speed storage, which is crucial for applications that depend on rapid data access.',\n",
       "  'In Oracle Cloud Infrastructure, how do Intel and AMD-based GPU shapes differ, and what considerations should users take into account when choosing between them based on their workload requirements?\\n\\nIntel and AMD-based GPU shapes may differ in terms of performance characteristics. Users should consider the compatibility of their workload with a specific CPU architecture when choosing between them. For instance, if an application is optimized for Intel CPUs, selecting an Intel-based GPU shape is advisable.',\n",
       "  \"How do Oracle Cloud Infrastructure Compute Shapes cater to a diverse range of application needs, from general-purpose workloads to high-performance computing, and what factors should users consider when selecting the most suitable shape for their applications?\\n\\nOracle Cloud Infrastructure Compute Shapes offer a variety of options to meet specific application requirements. General-purpose shapes are versatile and suitable for a wide range of applications, while specialized shapes, such as HPC/optimized, are tailored for high-performance computing. Users should assess their applications' needs in terms of CPU power, memory, and network resources to make informed shape selections.\",\n",
       "  'What factors impact Oracle Cloud Infrastructure Compute pricing, and how can users effectively manage their costs while provisioning and managing instances for their applications?\\n\\nOracle Cloud Infrastructure Compute pricing is influenced by instance type, storage usage, and network data transfer. Users can manage costs effectively by choosing cost-efficient instance types, optimizing storage usage, and monitoring network data transfer to ensure resources are used efficiently.',\n",
       "  'How can users access and manage compute instances in Oracle Cloud Infrastructure, and how does automation enhance the efficiency of resource allocation and management?\\n\\nUsers can access and manage compute instances in Oracle Cloud Infrastructure using the Console, CLI, and API. Automation plays a crucial role in streamlining resource allocation and management by enabling programmatic control and the automation of routine tasks, ensuring efficient resource utilization and maintenance.',\n",
       "  'How does the Oracle Cloud Infrastructure Marketplace simplify the deployment of software and solutions on compute instances, and what benefits can users gain from utilizing this platform?\\n\\nThe Oracle Cloud Infrastructure Marketplace simplifies software and solution deployment by offering pre-configured options for easy installation. Users can benefit from reduced setup time and complexity, access a wide range of applications, and ensure efficient software deployment on their compute instances.',\n",
       "  'Can you explain how Oracle Ksplice is utilized to apply critical kernel patches in Oracle Cloud Infrastructure, and what advantages does this approach offer in terms of system availability and security?\\n\\nOracle Ksplice allows for the application of critical kernel patches to Linux instances in Oracle Cloud Infrastructure without requiring a system reboot. This approach enhances system availability by minimizing downtime during patching, ensuring uninterrupted access to applications. Additionally, it contributes to security by keeping systems up-to-date and safeguarded against vulnerabilities.',\n",
       "  'What is the purpose of GPU shapes in Oracle Cloud Infrastructure, and how do they accelerate workloads? Can you provide examples of applications that benefit from GPU acceleration?\\n\\nGPU shapes in Oracle Cloud Infrastructure are designed to accelerate specific workloads by incorporating graphics processors. Applications such as machine learning, video rendering, and scientific simulations benefit from GPU acceleration, as it offloads computation to the GPU, resulting in faster and more efficient processing.',\n",
       "  'What is cluster networking in Oracle Cloud Infrastructure, and how does it enable efficient communication between instances? Can you provide a scenario where cluster networking plays a crucial role?\\n\\nCluster networking in Oracle Cloud Infrastructure facilitates efficient and low-latency communication between instances, supporting coordinated parallel processing. It is essential for scenarios such as running a distributed database where multiple nodes must exchange data rapidly to maintain data consistency and availability.',\n",
       "  'When is it advisable to use HPC and optimized shapes in Oracle Cloud Infrastructure, and what types of high-performance computing workloads are well-suited for these shapes?\\n\\nHPC and optimized shapes in Oracle Cloud Infrastructure are best suited for high-performance computing workloads that require high-frequency processor cores. Examples of such workloads include scientific simulations, computational modeling, and rendering tasks that demand maximum processing power.',\n",
       "  'What are the different types of host capacity available for launching compute instances?\\n\\nThere are four types of host capacity you can choose from: On-demand capacity, preemptible capacity, reserved capacity, and dedicated capacity.',\n",
       "  \"What is on-demand capacity, and how does it work?\\n\\nOn-demand capacity allows you to pay only for the compute capacity you use, with charges incurred by the second. You pay solely for the seconds your instances are running, but it's important to note that capacity availability is not guaranteed for large workloads.\",\n",
       "  'Can you explain preemptible capacity and its purpose?\\n\\nPreemptible capacity is a cost-saving option where you use preemptible instances for workloads that run briefly or can be interrupted when the capacity is needed elsewhere. These instances function like regular compute instances, but they are terminated when the capacity is reclaimed.',\n",
       "  'What is the advantage of using preemptible capacity?\\n\\nThe primary advantage of preemptible capacity is cost savings. Since you pay less for these instances, they are an economical choice for workloads with flexibility in execution timing.',\n",
       "  'How does reserved capacity work, and what is its purpose?\\n\\nReserved capacity involves reserving capacity for future use and ensuring its availability when you need to create compute instances. The reserved capacity is consumed when you launch instances against the reservation, and it increases when instances are terminated.',\n",
       "  'What is the key benefit of reserved capacity?\\n\\nThe main benefit of reserved capacity is the assurance of available resources for your compute instances, offering predictability and a way to maintain reserved capacity for your specific needs.',\n",
       "  'What is dedicated capacity, and when would you use it?\\n\\nDedicated capacity allows you to run VM instances on servers exclusive to your tenancy, ensuring they are not shared with other customers. This is ideal for meeting compliance and regulatory requirements for isolation and node-based or host-based licensing needs.',\n",
       "  'How can dedicated capacity be useful for compliance requirements?\\n\\nDedicated capacity is valuable for achieving compliance as it guarantees that your VM instances are isolated, which is often a requirement in certain compliance standards. It provides a higher level of security and control over your infrastructure.',\n",
       "  'Are there any limitations to these capacity types?\\n\\nYes, service limits and compartment quotas apply to all host capacity types. If you plan to reserve capacity that exceeds your service limits, you must request a service limit increase in advance.',\n",
       "  'What happens to unused reserved capacity?\\n\\nUnused reserved capacity is metered differently than used reserved capacity. When instances launched against reserved capacity are terminated, the unused capacity is returned to the reservation, increasing the overall available reserved capacity.',\n",
       "  'How can I get more information about these different capacity types?\\n\\nFor more detailed information about each capacity type, you can refer to the respective documentation: Preemptible Instances for preemptible capacity, Capacity Reservations for reserved capacity, and Dedicated Virtual Machine Hosts for dedicated capacity.',\n",
       "  'Is there a way to request an increase in service limits for reserved capacity?\\n\\nYes, if you anticipate that your reserved capacity needs will exceed your current service limits, you should request a service limit increase. This ensures that you can reserve the necessary capacity when required.',\n",
       "  'Is there a default capacity type when launching compute instances?\\n\\nYes, the default capacity type for launching compute instances is on-demand capacity. This means that you will pay for compute capacity based on actual usage, with charges incurred by the second.',\n",
       "  'Can you use preemptible instances for long-running workloads?\\n\\nPreemptible instances are designed for workloads that run for brief periods or can be interrupted when capacity is needed elsewhere. They are not suitable for long-running workloads.',\n",
       "  'Is preemptible capacity available on a first-come, first-served basis?\\n\\nYes, preemptible instances are allocated on a first-come, first-served basis, and the capacity may not always be immediately available.',\n",
       "  'What is the key advantage of using dedicated capacity over other types?\\n\\nThe primary advantage of dedicated capacity is the complete isolation it provides, making it ideal for meeting strict compliance requirements and specific licensing needs.',\n",
       "  'Are there any additional costs associated with using dedicated capacity?\\n\\nYes, using dedicated capacity typically involves higher costs compared to other capacity types due to the exclusive use of dedicated servers.',\n",
       "  'Can you change the type of host capacity for an existing instance?\\n\\nHost capacity types are generally selected at the time of instance creation. You cannot easily change the capacity type for an existing instance.',\n",
       "  'What should you do if you need to switch from on-demand capacity to reserved capacity?\\n\\nTo switch from on-demand capacity to reserved capacity, you would need to create new instances under the reserved capacity model and manage the transition carefully.',\n",
       "  \"Are there limitations to how much reserved capacity you can request?\\n\\nYes, your request for reserved capacity is subject to service limits. If you anticipate exceeding these limits, it's advisable to request a service limit increase.\",\n",
       "  'What are some use cases for using preemptible capacity?\\n\\nPreemptible capacity is suitable for tasks like batch processing, data analysis, rendering, and other short-term workloads that can tolerate interruptions.',\n",
       "  'Can you use dedicated capacity for workloads that require high levels of security?\\n\\nYes, dedicated capacity is an excellent choice for workloads that demand a high level of security and isolation, as it ensures your instances run on servers exclusive to your tenancy.',\n",
       "  'How can I ensure that I have access to the capacity type I need when I need it?\\n\\nYou can use reserved capacity to ensure you have access to the capacity you need when you need it. This involves reserving capacity in advance to guarantee availability for your compute instances.',\n",
       "  'What are the components required to launch an instance in Oracle Cloud Infrastructure?\\n\\nTo launch an instance in Oracle Cloud Infrastructure, you need the following components:\\n\\n- Availability domain, which is the data center hosting cloud resources in your geographical region.\\n- Virtual cloud network, a virtualized network environment that includes subnets, route tables, and gateways.\\n- Key pair (for Linux instances), a security mechanism for SSH access.\\n- Password (for Windows instances), used to access Windows platform image instances.\\n- Image, which serves as a template for the virtual hard drive, determining the OS and software.\\n- Shape, a template specifying the number of CPUs, memory, and other resources.\\n- Tags for organizing resources based on business needs.\\n- Optional volume attachments are also possible.',\n",
       "  'What is an availability domain in Oracle Cloud Infrastructure?\\n\\nAn availability domain in Oracle Cloud Infrastructure is a data center located within your geographic region that hosts various cloud resources, including instances. Users can place instances in the same or different availability domains depending on performance and redundancy requirements. It ensures high availability and fault tolerance within the Oracle Cloud.',\n",
       "  'What is a virtual cloud network in Oracle Cloud Infrastructure?\\n\\nA virtual cloud network in Oracle Cloud Infrastructure is a virtualized version of a traditional network. It includes components such as subnets, route tables, and gateways and provides the environment in which your instances operate. At least one cloud network must be set up before you can launch instances in Oracle Cloud Infrastructure.',\n",
       "  \"What is a key pair, and why is it required for Linux instances in Oracle Cloud Infrastructure?\\n\\nA key pair is a security mechanism required for Secure Shell (SSH) access to an instance in Oracle Cloud Infrastructure. For Linux instances, it's essential for secure remote access. Users generate and manage key pairs to authenticate and establish a secure connection to their instances, ensuring data security and access control.\",\n",
       "  'What is a password used for in Oracle Cloud Infrastructure for Windows instances?\\n\\nIn Oracle Cloud Infrastructure, a password is a security mechanism required to access instances using a Windows platform image. When launching an instance with a Windows image, the cloud infrastructure generates an initial, one-time password. This password can be retrieved using the console or API and must be changed after the initial login for security reasons.',\n",
       "  'What is an image in Oracle Cloud Infrastructure, and how is it used?\\n\\nAn image in Oracle Cloud Infrastructure is a template of a virtual hard drive that specifies the operating system and other software for an instance. Users can launch instances from various sources, including Oracle Cloud Infrastructure platform images, trusted third-party images, pre-built Oracle enterprise images, custom images, and community images. Images are crucial in defining the software environment for your instances.',\n",
       "  'What is a shape in Oracle Cloud Infrastructure, and why is it important?\\n\\nIn Oracle Cloud Infrastructure, a shape is a template that determines the number of CPUs, the amount of memory, and other allocated resources for a newly created instance. Choosing the right shape is vital as it directly impacts the performance and capabilities of your instance. Oracle offers a range of shapes, including both bare metal and virtual machine (VM) options.',\n",
       "  'How can tags be applied to resources in Oracle Cloud Infrastructure?\\n\\nIn Oracle Cloud Infrastructure, you can apply tags to your resources to help organize and categorize them according to your business needs. You can attach tags when creating a resource or update them later as required. Tags are a useful way to manage and identify resources, making it easier to track and organize them within your Oracle Cloud Infrastructure environment.',\n",
       "  'What are the options for launching instances in Oracle Cloud Infrastructure from images?\\n\\nYou can launch instances in Oracle Cloud Infrastructure from various image sources, including:\\n1. Oracle Cloud Infrastructure platform images.\\n2. Trusted third-party images from the Partner Image catalog.\\n3. Pre-built Oracle enterprise images enabled for Oracle Cloud Infrastructure.\\n4. Custom images, which allow users to bring their own images.\\n5. Community images, created and published by community members for use by other community members.\\n6. Boot volumes.',\n",
       "  'What is the purpose of attaching volumes to an instance in Oracle Cloud Infrastructure?\\n\\nAttaching volumes to an instance in Oracle Cloud Infrastructure allows you to expand storage capacity and separate data from the instance itself. This can be useful for storing large amounts of data or ensuring data persistence even if the instance is terminated. Volumes can be attached as needed to meet specific storage requirements. For more information on block volumes, see the Overview of Block Volume.',\n",
       "  \"How can you change the initial, one-time password for a Windows instance in Oracle Cloud Infrastructure?\\n\\nTo change the initial, one-time password for a Windows instance in Oracle Cloud Infrastructure, you can use the Windows operating system's built-in mechanisms for changing passwords. After the initial login, follow the appropriate steps to update the password securely and maintain the instance's security.\",\n",
       "  'What are the types of resources in Oracle Cloud Infrastructure that you can apply tags to?\\n\\nIn Oracle Cloud Infrastructure, you can apply tags to various resources, including instances, virtual cloud networks, subnets, route tables, gateways, and volumes. Tagging these resources helps you categorize and manage them effectively, making it easier to organize and track your resources based on your business requirements.',\n",
       "  \"How does the choice of an instance shape affect its performance in Oracle Cloud Infrastructure?\\n\\nThe choice of an instance shape in Oracle Cloud Infrastructure significantly impacts performance. Different shapes offer varying amounts of CPUs, memory, and resources. Choosing a shape that aligns with your application's requirements ensures optimal performance. For example, selecting a shape with more CPUs and memory provides better computational power, while smaller shapes are suitable for less resource-intensive workloads.\",\n",
       "  'What is the significance of a route table in Oracle Cloud Infrastructure?\\n\\nIn Oracle Cloud Infrastructure, a route table is a critical networking component responsible for routing traffic between subnets and gateways within a virtual cloud network. It defines the routing rules and ensures that network traffic is directed appropriately. Configuring route tables correctly is essential for efficient network communication within your Oracle Cloud Infrastructure environment.',\n",
       "  'What is the role of a gateway in a virtual cloud network in Oracle Cloud Infrastructure?\\n\\nA gateway in a virtual cloud network in Oracle Cloud Infrastructure serves as an entry or exit point for network traffic. It facilitates connectivity between your cloud resources and external networks, such as the internet or on-premises data centers. Gateways play a crucial role in enabling communication between your Oracle Cloud Infrastructure resources and the outside world.',\n",
       "  'Can you specify your own custom image when launching an instance in Oracle Cloud Infrastructure?\\n\\nYes, in Oracle Cloud Infrastructure, you can use custom images when launching instances. This allows you to define and use your own templates, including the operating system and software configurations. Custom images are useful for replicating specific software environments and ensuring consistency across your instances.',\n",
       "  'How can you ensure high availability for your instances in Oracle Cloud Infrastructure?\\n\\nTo ensure high availability for your instances in Oracle Cloud Infrastructure, you can place them in different availability domains within the same geographical region. This redundancy strategy minimizes the risk of downtime due to failures in a single data center. By distributing your instances across multiple availability domains, you enhance their resilience and reliability.',\n",
       "  'What are community images in Oracle Cloud Infrastructure, and who can use them?\\n\\nCommunity images in Oracle Cloud Infrastructure are images created and published by community members for the benefit of other community members. These images are available for use by anyone within the Oracle Cloud community. They provide a convenient way to share and utilize standardized image configurations across the platform.',\n",
       "  'What is the importance of managing key pairs for SSH access in Oracle Cloud Infrastructure?\\n\\nManaging key pairs for SSH access in Oracle Cloud Infrastructure is crucial for enhancing security. Key pairs ensure that only authorized users can access instances through SSH. By controlling and managing key pairs, you can protect your instances from unauthorized access and potential security threats, maintaining the integrity of your cloud environment.',\n",
       "  'How can you apply tags to resources after they have been created in Oracle Cloud Infrastructure?\\n\\nIn Oracle Cloud Infrastructure, you can apply tags to resources after they have been created by using the console or APIs. This flexibility allows you to adapt your tagging strategy as your resource management needs evolve. You can easily update and manage tags to organize and categorize resources based on your changing business requirements.']}"
      ]
     },
     "execution_count": 2,
     "metadata": {},
     "output_type": "execute_result"
    }
   ],
   "source": [
    "faqs = loadFAQs('.')\n",
    "faqs"
   ]
  },
  {
   "cell_type": "code",
   "execution_count": 3,
   "metadata": {},
   "outputs": [
    {
     "data": {
      "text/plain": [
       "[{'text': 'requierements | oracledb\\ntqdm\\nipywidgets\\nsentence_transformers\\noci',\n",
       "  'path': 'requierements'},\n",
       " {'text': 'links | https://apexapps.oracle.com/pls/apex/r/dbpm/livelabs/run-workshop?p210_wid=3939&p210_wec=&session=115486261083319\\nhttps://medium.com/@deepalimittal23/accessing-oci-object-storage-using-instance-principals-203ac93cb77',\n",
       "  'path': 'links'}]"
      ]
     },
     "execution_count": 3,
     "metadata": {},
     "output_type": "execute_result"
    }
   ],
   "source": [
    "docs = [{'text': filename + ' | ' + section, 'path': filename} for filename, sections in faqs.items() for section in sections]\n",
    "\n",
    "# Sample the resulting data\n",
    "docs[:2]"
   ]
  },
  {
   "cell_type": "code",
   "execution_count": 4,
   "metadata": {},
   "outputs": [
    {
     "name": "stderr",
     "output_type": "stream",
     "text": [
      "/tmp/ipykernel_1611/3746924790.py:3: TqdmExperimentalWarning: Using `tqdm.autonotebook.tqdm` in notebook mode. Use `tqdm.tqdm` instead to force console mode (e.g. in jupyter console)\n",
      "  from tqdm.autonotebook import tqdm, trange\n"
     ]
    }
   ],
   "source": [
    "import oracledb\n",
    "\n",
    "from tqdm.autonotebook import tqdm, trange\n",
    "\n"
   ]
  },
  {
   "cell_type": "code",
   "execution_count": 5,
   "metadata": {},
   "outputs": [
    {
     "name": "stdout",
     "output_type": "stream",
     "text": [
      "Successfully connected to Oracle Database\n"
     ]
    }
   ],
   "source": [
    "connection = oracledb.connect(\n",
    "    user=\"admin\",\n",
    "    password=\"Oracle123...\",\n",
    "    dsn=\"(description= (retry_count=20)(retry_delay=3)(address=(protocol=tcps)(port=1521)(host=adb.us-chicago-1.oraclecloud.com))(connect_data=(service_name=ga720f82cae05fc_zna1jlsyim9n00j0_high.adb.oraclecloud.com))(security=(ssl_server_dn_match=yes)))\")  # the connection string copied from the cloud console\n",
    "\n",
    "print(\"Successfully connected to Oracle Database\")"
   ]
  },
  {
   "cell_type": "code",
   "execution_count": 6,
   "metadata": {},
   "outputs": [],
   "source": [
    "table_name = 'faqs'\n",
    "\n",
    "with connection.cursor() as cursor:\n",
    "    # Create the table\n",
    "    create_table_sql = f\"\"\"\n",
    "        CREATE TABLE IF NOT EXISTS {table_name} (\n",
    "            id NUMBER PRIMARY KEY,\n",
    "            payload CLOB CHECK (payload IS JSON),\n",
    "            vector VECTOR\n",
    "        )\"\"\"\n",
    "    try:\n",
    "        cursor.execute(create_table_sql)\n",
    "    except oracledb.DatabaseError as e:\n",
    "        raise\n",
    "\n",
    "    connection.autocommit = True"
   ]
  },
  {
   "cell_type": "code",
   "execution_count": 7,
   "metadata": {},
   "outputs": [
    {
     "name": "stderr",
     "output_type": "stream",
     "text": [
      "/home/ubuntu/.local/lib/python3.10/site-packages/transformers/tokenization_utils_base.py:1601: FutureWarning: `clean_up_tokenization_spaces` was not set. It will be set to `True` by default. This behavior will be depracted in transformers v4.45, and will be then set to `False` by default. For more details check this issue: https://github.com/huggingface/transformers/issues/31884\n",
      "  warnings.warn(\n"
     ]
    }
   ],
   "source": [
    "from sentence_transformers import SentenceTransformer\n",
    "encoder = SentenceTransformer('all-MiniLM-L12-v2')"
   ]
  },
  {
   "cell_type": "code",
   "execution_count": 8,
   "metadata": {},
   "outputs": [
    {
     "data": {
      "application/vnd.jupyter.widget-view+json": {
       "model_id": "1036318776824f69bcfb6c52946b34c3",
       "version_major": 2,
       "version_minor": 0
      },
      "text/plain": [
       "Batches:   0%|          | 0/7 [00:00<?, ?it/s]"
      ]
     },
     "metadata": {},
     "output_type": "display_data"
    }
   ],
   "source": [
    "import array\n",
    "\n",
    "# Define a list to store the data\n",
    "data = [\n",
    "   {\"id\": idx, \"vector_source\": row['text'], \"payload\": row} \n",
    "   for idx, row in enumerate(docs)\n",
    "]\n",
    "\n",
    "# Collect all texts for batch encoding\n",
    "texts = [f\"{row['vector_source']}\" for row in data]\n",
    "\n",
    "# Encode all texts in a batch\n",
    "embeddings = encoder.encode(texts, batch_size=32, show_progress_bar=True)\n",
    "\n",
    "# Assign the embeddings back to your data structure\n",
    "for row, embedding in zip(data, embeddings):\n",
    "   row['vector'] = array.array(\"f\", embedding)"
   ]
  },
  {
   "cell_type": "code",
   "execution_count": 9,
   "metadata": {},
   "outputs": [],
   "source": [
    "import json\n",
    "\n",
    "with connection.cursor() as cursor:\n",
    "    # Truncate the table\n",
    "    cursor.execute(f\"truncate table {table_name}\")\n",
    "\n",
    "    prepared_data = [(row['id'], json.dumps(row['payload']), row['vector']) for row in data]\n",
    "\n",
    "    # Insert the data\n",
    "    cursor.executemany(\n",
    "        f\"\"\"INSERT INTO {table_name} (id, payload, vector)\n",
    "        VALUES (:1, :2, :3)\"\"\",\n",
    "        prepared_data\n",
    "    )\n",
    "\n",
    "    connection.commit()"
   ]
  },
  {
   "cell_type": "code",
   "execution_count": 10,
   "metadata": {},
   "outputs": [
    {
     "name": "stdout",
     "output_type": "stream",
     "text": [
      "(116, {'text': 'faq | In which situations would you use HPC and optimized shapes in Oracle Cloud Infrastructure?\\n\\nHPC and optimized shapes are designed for high-performance computing workloads, including scientific simulations, modeling, and rendering tasks that require maximum processing power.', 'path': 'faq'}, array('f', [0.02091790921986103, -0.0023850915022194386, 0.050198376178741455, 0.01837529055774212, -0.046943701803684235, -0.050375308841466904, -0.1269572526216507, 0.08447571098804474, -0.010371697135269642, -0.0005028680898249149, 0.005492635536938906, -0.013223162852227688, 0.01714055985212326, 0.00323034031316638, -0.024120405316352844, -0.05243119224905968, 0.02064332738518715, 0.057625941932201385, -0.024282239377498627, -0.005157653708010912, -0.009948346763849258, -0.02164679765701294, -0.03417838737368584, -0.11989151686429977, 0.014895642176270485, -0.045028794556856155, 0.05489208549261093, 0.0195770226418972, -0.0018550631357356906, -0.0263631884008646, 0.10048229247331619, -0.012210284359753132, 0.025349494069814682, 0.028765181079506874, -0.06092914566397667, 0.021539833396673203, -0.05279789865016937, -0.04135647788643837, -0.046803854405879974, 0.032527051866054535, -0.0663537085056305, -0.004002751782536507, -0.07577446848154068, 0.03854020684957504, -0.006724500097334385, -0.0070090508088469505, -0.1012660413980484, 0.018298903480172157, -0.06312506645917892, 0.061794787645339966, -0.020479906350374222, -0.029035845771431923, -0.031075840815901756, 0.008082469925284386, -0.03888358175754547, 0.015577194280922413, -0.006029264535754919, 0.10880725830793381, -0.06609906256198883, -0.027368472889065742, 0.04010234773159027, 0.05983619764447212, 0.020592423155903816, 0.03632812574505806, -0.08241820335388184, -0.03808503597974777, 0.05886008217930794, 0.01515759713947773, 0.04344852641224861, -0.013872283510863781, -0.07275436818599701, -0.05195824056863785, -0.01537919882684946, -0.1039389967918396, 0.01179281435906887, 0.014506323263049126, 0.0091948127374053, -0.08663804084062576, 0.030036425217986107, -0.09018642455339432, 0.013233892619609833, 0.12726613879203796, -0.07243873178958893, -0.0533309169113636, -0.01747841015458107, 0.0381346195936203, 0.016037577763199806, -0.014825237914919853, -0.004848684649914503, -0.013848533853888512, 0.017612850293517113, 0.009481108747422695, -0.13531018793582916, -0.01336423959583044, -0.062547966837883, -0.010412270203232765, 0.008757896721363068, -0.012102230452001095, 0.08733934909105301, -0.04201287776231766, 0.01583111844956875, 0.09116292744874954, 0.08299922198057175, 0.017198214307427406, -0.01612776517868042, -0.021650580689311028, -0.010091197676956654, -0.046985507011413574, 0.015855267643928528, -0.060291681438684464, -0.027092617005109787, 0.0443466491997242, -0.033214814960956573, -0.05702554062008858, 0.0056130364537239075, 0.09398531168699265, -0.005226917564868927, -0.0031053207349032164, -0.07329946011304855, -0.005708056502044201, -0.0639466941356659, -0.0015766357537359, 0.08226048946380615, 0.034342799335718155, 0.0388074554502964, 0.007450422737747431, -0.05477961525321007, -0.01657080464065075, -0.03938252478837967, 0.04644092917442322, 0.03578828647732735, -0.038228075951337814, -0.012758662924170494, -0.014955208636820316, 0.0001493622112320736, -0.05132725462317467, 0.08040305972099304, -0.002179794479161501, -0.013332358561456203, 0.035278961062431335, 0.06812740117311478, 0.04859142750501633, 0.13615067303180695, -0.04917379841208458, 0.016427595168352127, 0.058611322194337845, -0.1216701790690422, 0.061695560812950134, 0.013382244855165482, -0.10065034031867981, 0.09882649034261703, -0.061756934970617294, -0.000623130879830569, 0.03452979400753975, -0.017217522487044334, 0.009316468611359596, -0.008532049134373665, 0.018401648849248886, -0.0015769859310239553, -0.06562183797359467, -0.008407201617956161, 0.08295062929391861, -0.031043969094753265, 0.0629861131310463, -0.11609093844890594, -0.022863062098622322, 0.010552534833550453, -0.07998419553041458, 0.1251474916934967, -0.00164328096434474, 0.08824530988931656, -0.05778586119413376, -0.06055377051234245, -0.007408973760902882, -0.055321089923381805, 0.05348125100135803, -0.10613415390253067, -0.0033399772364646196, 0.02044539526104927, -0.058597464114427567, 0.018579289317131042, -0.03982626646757126, 0.0018374602077528834, -0.041090983897447586, -0.022349298000335693, 0.06470435857772827, 0.06398437172174454, 0.04357481747865677, -0.05905323848128319, -0.0765361338853836, -0.02812718227505684, 0.002944422187283635, 0.023591555655002594, 0.09507816284894943, -0.09683848172426224, -0.012490545399487019, 0.03213159739971161, -0.03766630217432976, 0.0630015879869461, 0.020145995542407036, -0.035537295043468475, -0.01736738160252571, 0.03245353698730469, 0.0029580658301711082, -0.015115645714104176, 0.015854522585868835, -0.02507166936993599, 0.00956017430871725, -0.07627260684967041, 0.09781144559383392, -0.00481208972632885, -0.06895692646503448, -0.07568217813968658, 0.005119720008224249, 0.038349367678165436, 0.0428481251001358, 0.002072809962555766, 0.04232442378997803, -0.06307688355445862, -0.07594282180070877, 0.09109491854906082, -0.00023758933821227401, -0.007551261223852634, -6.417922179633277e-33, -0.021642470732331276, -0.13316898047924042, -0.008311695419251919, 0.09464218467473984, 0.0017508852761238813, 0.05406886339187622, 0.0297141931951046, -0.056261882185935974, -0.002704398240894079, -0.05924922972917557, 0.026592371985316277, -0.004650141578167677, 0.014199349097907543, -0.07934931665658951, -0.041212260723114014, -0.03166521340608597, -0.030038153752684593, -0.01986781135201454, -0.015529102645814419, 0.004310025833547115, 0.07965952903032303, -0.05807124078273773, 0.07786832004785538, 0.04500409960746765, -0.03329954668879509, 0.0313396193087101, -0.09049869328737259, -0.052851393818855286, 0.05194343999028206, 0.1119181215763092, -0.050078507512807846, 0.06541064381599426, -0.07556774467229843, 0.09382957965135574, -0.061365894973278046, -0.05590871348977089, 0.01739564538002014, 0.018375398591160774, -0.012017604894936085, 0.005569364409893751, 0.06372883915901184, 0.019493434578180313, 0.01747531071305275, -0.010937077924609184, -0.012492517940700054, 0.03070174716413021, 0.027499819174408913, 0.04986560717225075, 0.001100633293390274, 0.029091358184814453, -0.04667065292596817, 0.08336219191551208, 0.04941077157855034, -0.03365686535835266, 0.028550803661346436, 0.07469955831766129, -0.05276715010404587, -0.009196986444294453, 0.019487908110022545, -0.011719765141606331, 1.0131371709576342e-05, -0.011238200590014458, -0.004258642438799143, 0.025474676862359047, -0.04091617092490196, -0.00756745133548975, 0.05707770958542824, 0.016294408589601517, 0.014415658079087734, -0.0584154836833477, -0.049015723168849945, -0.043478824198246, 0.06799272447824478, 0.0272231362760067, -0.039536576718091965, -0.08753438293933868, 0.049664825201034546, 0.07002130150794983, 0.01258310116827488, 0.06364075094461441, -0.02000640518963337, 0.007938914000988007, -0.015312401577830315, -0.05362440273165703, 0.03851756826043129, 0.05781588703393936, -0.03627217561006546, -0.09095874428749084, 0.023479418829083443, 0.02869598940014839, 0.022239085286855698, -0.006761325057595968, -0.007671112194657326, 0.12403476983308792, -0.017612431198358536, 6.392751466035914e-32, 0.013620583340525627, 0.005008593201637268, 0.06696265935897827, -0.06762829422950745, 0.02454359270632267, -0.0847201719880104, 0.0005221414030529559, 0.09486164897680283, -0.04590444639325142, 0.02162381447851658, 0.038331106305122375, -0.017485328018665314, 0.029537009075284004, -0.011695214547216892, -0.027412259951233864, 0.11694266647100449, 0.020372355356812477, 0.03989672660827637, -0.03161268308758736, -0.08264423906803131, -0.07388057559728622, 0.0466298907995224, -0.03995678946375847, 0.027247486636042595, -0.11299710720777512, 0.009620817378163338, -0.05224430188536644, -0.03562641516327858, 0.039198197424411774, -0.07198816537857056, -0.018554812297225, 0.08518356084823608, 0.0035989254247397184, 0.04354149475693703, 0.04145288094878197, -0.0453878678381443, -0.03259287402033806, -0.022408809512853622, -0.05238618329167366, 0.11299828439950943, 0.03227194398641586, -0.033384136855602264, 0.05011459439992905, -0.006425031926482916, 0.012671120464801788, -0.020977532491087914, -0.03718259930610657, -0.0274976659566164, -0.08928973972797394, 0.0016686272574588656, 0.021430665627121925, -0.005277685355395079, 0.027430519461631775, -0.015114075504243374, -0.05809808522462845, -0.026393568143248558, 0.06227950006723404, 0.0059224520809948444, 0.04789537936449051, 0.008198346942663193, 0.04632965102791786, 0.08161582052707672, 0.10984228551387787, 0.018837464973330498]))\n",
      "(117, {'text': 'faq | What is cluster networking, and why is it important for certain workloads in Oracle Cloud Infrastructure?\\n\\nCluster networking allows instances to communicate efficiently with each other over a high-speed, low-latency network, making it crucial for workloads requiring coordinated parallel processing.', 'path': 'faq'}, array('f', [0.03790122643113136, -0.04726823791861534, 0.020298907533288002, 0.009326253086328506, 0.026292510330677032, -0.0030736098997294903, 0.008058728650212288, 0.027733489871025085, 0.022838197648525238, -0.04090575873851776, 0.09416013211011887, 0.042527832090854645, -0.015252336859703064, -0.06737735867500305, -0.07493077963590622, -0.06742434948682785, -0.01259426586329937, -0.02574280835688114, -0.006718907970935106, -0.07065103203058243, -0.06635993719100952, -0.06792927533388138, -0.001772419665940106, -0.05317774787545204, 0.029384097084403038, -0.04180270805954933, 0.03379495069384575, 0.011022654362022877, -0.01794736459851265, -0.020735783502459526, 0.03775558993220329, 0.08004919439554214, 0.024927904829382896, 0.013143884018063545, 0.015334101393818855, 0.0047768899239599705, -0.05228325352072716, -0.09426148235797882, -0.021888509392738342, -0.013677353970706463, 0.021949918940663338, 0.0040466622449457645, 0.002719454001635313, 0.023308759555220604, -0.07765793055295944, -0.01293129287660122, -0.016940101981163025, 0.05008164793252945, -0.002959173172712326, -0.0426177941262722, 0.014256342314183712, -0.013883386738598347, -0.008874119259417057, -0.01281462050974369, 0.016424553468823433, 0.051818281412124634, -0.005449573043733835, 0.15200331807136536, -0.14462020993232727, -0.015190440230071545, 0.11692088842391968, -0.036000970751047134, 0.004936476703733206, 0.014658200554549694, -0.0009074583649635315, -0.03483163192868233, 0.017186714336276054, 0.045155223459005356, -0.059368133544921875, -0.04933781921863556, -0.06645327061414719, -0.03137494623661041, -0.021407093852758408, -0.03398916870355606, -0.023571383208036423, -0.028867099434137344, 0.07201904058456421, -0.08514147251844406, 0.06942800432443619, -0.011188789270818233, 0.01008554082363844, 0.12122227996587753, -0.04522170498967171, -0.005938760936260223, -0.007780860178172588, 0.017026958987116814, 0.03603023663163185, -0.062433816492557526, -0.039062950760126114, -0.05409368500113487, -0.0030295439064502716, 0.06702335923910141, 0.03130613639950752, -0.10378739982843399, 0.0039361584931612015, -0.016381390392780304, -0.020921356976032257, 0.030367247760295868, 0.08823170512914658, -0.00391073664650321, 0.015537209808826447, 0.034395284950733185, 0.05524536222219467, 0.012762443162500858, -0.046404577791690826, 0.08020836114883423, -0.023709671571850777, -0.0576067790389061, 0.05269494280219078, 0.014146847650408745, -0.04871194437146187, 0.053289152681827545, 0.00352931278757751, -0.12478550523519516, -0.07964897155761719, 0.01700630970299244, -0.004625481553375721, -0.01666341908276081, -0.0876346230506897, 0.04856923222541809, -0.11731173098087311, -0.011561084538698196, 0.06922631710767746, -0.0337136946618557, 0.06723032146692276, -0.03997119143605232, 0.0032272266689687967, -0.04734440892934799, 0.04045959562063217, 0.029021071270108223, 0.06795759499073029, -0.07202579826116562, -0.006439872086048126, 0.024963252246379852, -0.008926904760301113, -0.01224525086581707, 0.007604619953781366, -0.1157229095697403, -0.047572650015354156, -0.0029591124039143324, 0.09031683951616287, -0.0206276997923851, 0.12209536135196686, -0.05414775758981705, 0.019910935312509537, 0.026902973651885986, 0.018247665837407112, -0.04535827040672302, 0.01607397198677063, -0.13289612531661987, 0.016318388283252716, -0.01764816604554653, -0.06813906133174896, 0.020866237580776215, 0.011523494496941566, -0.10386423021554947, 0.059274304658174515, 0.0129060298204422, -0.011496134102344513, -0.017333757132291794, 0.014618522487580776, -0.025359025225043297, -0.07034764438867569, 0.04993334040045738, -0.020348234102129936, 0.0287126824259758, 0.08573999255895615, -0.01694970577955246, 0.04074955731630325, -0.017913324758410454, 0.03516700863838196, 0.014354554936289787, 0.013005273416638374, 0.06846284866333008, -0.047039695084095, -0.08948717266321182, -0.05083005502820015, -0.03386858478188515, 0.07139822095632553, -0.002699554432183504, 0.028945427387952805, 0.003497669007629156, 0.07395990192890167, 0.010340407490730286, 0.01509235892444849, 0.049943957477808, -0.02186656929552555, 0.07925958931446075, -0.04391345754265785, -0.1737544983625412, 0.01399686373770237, 0.08797846734523773, 0.09548290073871613, 0.08700048923492432, -0.04714242368936539, 0.033035457134246826, 0.06535565108060837, -0.026930028572678566, -0.002211392857134342, 0.02663160115480423, -0.07958923280239105, 0.0772586390376091, 0.027180293574929237, 0.07698503881692886, -0.06932344287633896, -0.0034214563202112913, -0.014880712144076824, 0.037884026765823364, -0.03478550165891647, 0.005194161552935839, -0.0007284671883098781, 0.022273819893598557, 0.010185940191149712, 0.03643915802240372, 0.014212007634341717, -0.009330814704298973, -0.001985937589779496, 0.07245788723230362, 0.025424331426620483, -0.008111926726996899, 0.10911507159471512, 0.060300108045339584, -0.004662437364459038, 3.5967067176430013e-33, 0.016196981072425842, -0.04782545939087868, -0.022458655759692192, 0.028585446998476982, 0.06596777588129044, -0.007965948432683945, 0.00904776155948639, 0.025665445253252983, -0.05512205511331558, 0.014683190733194351, 0.02110377885401249, -0.007677981164306402, 0.0748206153512001, -0.05159059166908264, 0.03877251595258713, -0.06319987773895264, 0.009953956119716167, 0.04065027832984924, 0.024533744901418686, 0.03348008170723915, 0.1850498914718628, -0.0778624638915062, 0.020199283957481384, -0.022257322445511818, -0.01810147799551487, -0.006698396522551775, -0.07069960236549377, -0.031831927597522736, -0.003689020173624158, 0.0999360904097557, 0.003927865531295538, 0.055370084941387177, -0.01769665814936161, 0.08201946318149567, -0.012248694896697998, 0.025887152180075645, 0.05649248883128166, -0.036463409662246704, -0.0021264187525957823, -0.03769940882921219, 0.03676857054233551, -0.08644340932369232, 0.018242770805954933, -0.01322465855628252, 0.028622372075915337, 0.046149492263793945, -0.009194723330438137, 0.02551041916012764, -0.04824265465140343, 0.012052185833454132, -0.014088800176978111, 0.03990187495946884, 0.06526558101177216, -0.05144333094358444, -0.028449516743421555, 0.06772732734680176, -0.07340085506439209, 0.05524897575378418, -0.04230144992470741, 0.03083292953670025, 0.04858652129769325, -0.061283864080905914, 0.0204398725181818, 0.04526429995894432, -0.00885357242077589, 0.0005568925407715142, -0.043122436851263046, -0.012919938191771507, -0.03799103572964668, 0.02554062381386757, -0.006502154283225536, 0.04313568398356438, 0.02918327786028385, 0.027513207867741585, -0.10377205163240433, 0.005344377364963293, 0.014208247885107994, 0.03795175999403, 0.03651794046163559, 0.028044763952493668, -0.024979891255497932, -0.023907940834760666, 0.0218867976218462, -0.029384376481175423, -0.013084281235933304, 0.0799059122800827, 0.025562657043337822, -0.02963782101869583, 0.020002316683530807, -0.02323642559349537, -0.009963415563106537, 0.0014553486835211515, -0.0962735265493393, -0.010824428871273994, -0.006596902851015329, 4.158567817675909e-32, 0.009296352043747902, 0.044452350586652756, 0.06195177137851715, -0.10851719230413437, -0.025198930874466896, -0.013270942494273186, 0.025798190385103226, 0.10602215677499771, 0.07722640782594681, 0.07792206853628159, 0.05874934792518616, 0.00550859747454524, -0.05507907643914223, -0.01027761772274971, 0.08515264838933945, 0.09342508018016815, 0.05974695459008217, -0.03489433974027634, -0.02481142058968544, -0.06573274731636047, -0.027423344552516937, -0.03281860053539276, -0.13566052913665771, 0.03558453917503357, -0.09571156650781631, 0.008773360401391983, 0.0024752879980951548, 0.0069660902954638, -0.037805769592523575, -0.09218339622020721, -0.050481442362070084, 0.04151097685098648, -0.08877424895763397, 0.04833264276385307, -0.05717524513602257, 0.043004605919122696, 0.0606498196721077, 0.03438983112573624, -0.08726255595684052, 0.01775476709008217, -0.03535989671945572, 0.06907017529010773, -0.046344950795173645, -0.004623353481292725, -0.006668319925665855, -0.05527468025684357, -0.07673396915197372, 0.045678336173295975, -0.0822208821773529, 0.010672365315258503, 0.0029283466283231974, -0.011317281983792782, 0.0055053699761629105, -0.09102742373943329, -0.01612563617527485, -0.023932864889502525, 0.014956963248550892, -0.0762210562825203, 0.09971914440393448, 0.005546480882912874, -0.00529016787186265, 0.059033721685409546, 0.002741583390161395, -0.006112028378993273]))\n",
      "(118, {'text': 'faq | How do Intel-based and AMD-based GPU shapes in Oracle Cloud Infrastructure differ in terms of performance?\\n\\nIntel-based and AMD-based GPU shapes may offer different performance levels, and the choice between them depends on the specific requirements of your workload.', 'path': 'faq'}, array('f', [0.13870255649089813, -0.07824740558862686, 0.050447892397642136, 0.03605397045612335, -0.09705464541912079, -0.08432300388813019, -0.11479805409908295, 0.0200782623142004, 0.09237417578697205, -0.05249703675508499, 0.005295628681778908, -0.00822849478572607, 0.04204197973012924, -0.06458703428506851, -0.04172312840819359, -0.0754137858748436, 0.028320932760834694, 0.01060662604868412, 0.0016739278798922896, -0.06050783768296242, 0.06015881523489952, 0.0009220281499437988, -0.0703374445438385, -0.05256343260407448, 0.014586549252271652, 0.011864806525409222, 0.05530116707086563, -0.012370242737233639, 0.05877891927957535, -0.021333247423171997, 0.07106130570173264, 0.0003144617367070168, 0.0752907246351242, 0.000463033007690683, -0.04956847429275513, 0.0033777120988816023, -0.058386046439409256, -0.05910494923591614, -0.03418214991688728, -0.0506826713681221, 0.015066983178257942, 0.06770879030227661, 0.00533183803781867, 0.03823563829064369, 0.05530942603945732, -0.0289292149245739, -0.08938056230545044, -0.03971071541309357, -0.101338692009449, 0.03182631731033325, 0.023732762783765793, 0.03935479000210762, 0.04526940733194351, -0.03949806094169617, -0.08136121928691864, 0.012647770345211029, 0.014766388572752476, 0.03835577890276909, -0.042874135076999664, -0.004921355750411749, 0.057598888874053955, 0.0014415103942155838, 0.017574720084667206, 0.030730197206139565, -0.0949326828122139, -0.11882118880748749, 0.08866508305072784, -0.056296221911907196, 0.06138766184449196, -0.07929545640945435, -0.03631282597780228, -0.03291710466146469, -0.010544846765697002, -0.09826148301362991, -0.04400284215807915, 0.013536502607166767, 0.07540859282016754, -0.08092240244150162, 0.03557932376861572, -0.02475554682314396, -0.10068955272436142, 0.023360347375273705, -0.03015834651887417, -0.08032230287790298, -0.014151540584862232, 0.05253707617521286, 0.04968428239226341, -0.0012350099859759212, 0.04522335156798363, -0.06700363010168076, 0.00484032928943634, 0.047568969428539276, -0.07481922209262848, -0.0414992980659008, 0.06852226704359055, 0.059394471347332, -0.0077835326083004475, -0.03992879390716553, 0.004913658369332552, -0.060812871903181076, -0.04785911738872528, -0.07180986553430557, -0.04540194571018219, 0.11328855901956558, -0.028464294970035553, 0.05926069617271423, 0.019255289807915688, -0.03805579990148544, -0.04050074517726898, -0.012562507763504982, 0.030078163370490074, 0.11802579462528229, 0.01876087114214897, 0.02941703051328659, -0.031135059893131256, 0.012129937298595905, -0.03233644738793373, -0.05355266109108925, -0.05098880082368851, 0.00838023517280817, -0.044183485209941864, -0.0008617816492915154, 0.022668320685625076, -0.01672099530696869, 0.05734262987971306, 0.006727197207510471, -0.014251915737986565, -0.02490832842886448, -0.058584850281476974, -0.02803155779838562, 0.0134090231731534, -0.01646406389772892, -0.02666355110704899, -0.058607641607522964, 0.013055828399956226, -0.015436945483088493, -0.007928012870252132, -0.016629450023174286, 0.01009511947631836, 0.0547587126493454, 0.013934754766523838, 0.07397457212209702, 0.07639923691749573, 0.03835083916783333, 0.05703847482800484, 0.007908931002020836, -0.05288096144795418, 0.006397206336259842, -0.008944916538894176, 0.002490005223080516, 0.05583365634083748, -0.01992884837090969, 0.023455750197172165, -0.01616125926375389, 0.005903325509279966, -0.004285112023353577, -0.10198202729225159, 0.03298182412981987, -0.057529594749212265, -0.05012316629290581, -0.024116121232509613, -0.026243597269058228, -0.05396701395511627, 0.04255371540784836, -0.026910196989774704, -0.030512124300003052, 0.051709745079278946, -0.012843632139265537, 0.13202038407325745, 0.026470709592103958, 0.0318264365196228, -0.01488330215215683, -0.05599479004740715, 0.0077863577753305435, -0.00893747340887785, -0.00471793906763196, -0.031560953706502914, -0.013322588987648487, 0.0030362880788743496, -0.0051389154978096485, 0.05459439381957054, -0.013357634656131268, 0.0839855819940567, 0.01352868601679802, 0.0198088176548481, 0.03187083452939987, 0.07852102071046829, 0.08933518826961517, -0.12243731319904327, -0.04624069109559059, 0.0007341474993154407, -0.004982903134077787, -0.07145442068576813, 0.028524957597255707, -0.0444728322327137, 0.06633874028921127, -0.02335873246192932, -0.027283934876322746, 0.04167864844202995, 0.030605735257267952, -3.8043017411837354e-05, 0.014084598049521446, 0.04205319657921791, 0.03969097137451172, -0.06146223843097687, -0.024185750633478165, -0.03690555691719055, 0.02257687598466873, -0.06444063037633896, 0.12948346138000488, 0.01275422889739275, -0.025933358818292618, -0.08153094351291656, 0.056430164724588394, 0.024265632033348083, 0.05269022658467293, 0.07034073024988174, 0.012321215122938156, -6.18292106082663e-05, -0.08415054529905319, -0.003702420275658369, 0.0036968097556382418, -0.033882737159729004, -3.9348732998295416e-33, -0.06399597227573395, -0.10618817806243896, 0.006521095987409353, 0.03136197477579117, 0.03855844959616661, 0.05473565310239792, 0.06900468468666077, -0.022230131551623344, -0.015909304842352867, -0.04705583304166794, 0.07085894048213959, 0.007417818531394005, -0.020830299705266953, -0.059586163610219955, -0.03376178443431854, -0.02098565548658371, -0.01934189349412918, -0.04696227237582207, 0.02726951614022255, 0.06428677588701248, 0.04529978334903717, -0.016861416399478912, -0.015371058136224747, 0.01607869379222393, -0.031079357489943504, 0.027765437960624695, -0.10747721791267395, -0.05778670683503151, 0.08528964221477509, 0.003704005852341652, 0.019674863666296005, 0.09418223798274994, 0.007033444009721279, 0.07104762643575668, 0.03177556023001671, -0.007868258282542229, -0.02917635813355446, -0.03443218022584915, -0.03432859852910042, 0.03317837417125702, 0.08558561652898788, 0.02784799411892891, 0.07370627671480179, 0.008983043022453785, 0.0009430775535292923, 0.12126325815916061, -0.08576394617557526, 0.04870360344648361, 0.025216119363904, -0.08540840446949005, -0.02701645903289318, -0.036606017500162125, 0.029389645904302597, -0.023923497647047043, -0.013948139734566212, 0.02829413115978241, 0.03228416666388512, 0.012003676034510136, -0.0898800864815712, -0.0006954791606403887, 0.0022893622517585754, 0.032479528337717056, -0.04003121703863144, 0.01781921088695526, -0.11060255765914917, -0.06829139590263367, 0.0368398055434227, -0.02620173804461956, -0.021583279594779015, -0.019759120419621468, 0.03946228697896004, -0.06051334738731384, 0.00924278050661087, 0.042246606200933456, -0.09451157599687576, -0.03547075390815735, 0.06062940135598183, 0.1361159086227417, 0.038427144289016724, 0.005722522269934416, 0.009845147840678692, 0.018936844542622566, -0.00898624025285244, -0.07168595492839813, 0.00893108919262886, 0.1004253625869751, -0.0500512570142746, -0.12178819626569748, -0.018652379512786865, 0.04180264100432396, -0.0023830679710954428, 0.009420353919267654, -0.08674487471580505, 0.004759965930134058, -0.0063393618911504745, 5.388508421965996e-32, 0.018408188596367836, -0.022915109992027283, 0.08509760349988937, -0.001264614867977798, -0.01567642018198967, -0.0952533558011055, -0.03641863912343979, 0.04437422379851341, -0.05932781845331192, -0.03537949174642563, 0.08747225254774094, -0.0708022490143776, 0.062480390071868896, -0.03604493662714958, 0.06095411255955696, 0.05032134801149368, 0.03578096255660057, 0.07231275737285614, -0.006929890252649784, -0.08845140784978867, 0.024607161059975624, -0.010789155028760433, -0.0050889733247458935, -0.04317289963364601, -0.09264476597309113, 0.0354062095284462, 0.0007092616870068014, -0.04292674362659454, 0.010788441635668278, 0.03579656779766083, -0.031475573778152466, 0.09320098161697388, 0.04216870293021202, 0.087925985455513, 0.09994661808013916, 0.011210030876100063, 0.035967130213975906, 0.031726084649562836, 0.01455505657941103, 0.06331102550029755, 0.028019007295370102, -0.04142285883426666, -0.009562919847667217, -0.012637362815439701, 0.0861036404967308, -0.021920016035437584, 0.01943090185523033, -0.06331232935190201, -0.09183309227228165, -0.027220385149121284, 0.01565311662852764, -0.0007357951835729182, 0.0004652385541703552, -0.0325157530605793, 0.07130809873342514, -0.04290550947189331, 0.032495271414518356, -0.016564495861530304, 0.07520286738872528, -0.04117510840296745, 0.047878384590148926, -0.040022797882556915, 0.06674399971961975, 0.016620809212327003]))\n",
      "(107, {'text': 'faq | What are the options for securely accessing Linux-based compute instances in Oracle Cloud Infrastructure?\\n\\nSecure access to Linux-based compute instances in Oracle Cloud Infrastructure can be achieved using SSH, which provides secure command-line access.', 'path': 'faq'}, array('f', [0.09670376032590866, 0.010132714174687862, -0.06267824023962021, -0.06180882453918457, -0.031248459592461586, -0.007852716371417046, -0.047590360045433044, 0.029269879683852196, 0.05983643978834152, -0.005196600686758757, 0.04534784331917763, 0.005370683968067169, 0.0268001239746809, -0.07266390323638916, -0.03166171535849571, -0.12989719212055206, 0.04764024168252945, 0.01716114953160286, 0.009794373996555805, -0.06468724459409714, -0.035325054079294205, 0.04166014492511749, -0.005713611841201782, -0.04427700117230415, -0.032180607318878174, -0.02355898544192314, 0.05818600952625275, 0.03920828178524971, -0.01624894328415394, -0.01360659021884203, 0.08147942274808884, -0.03066493384540081, -0.10987907648086548, 0.006901968736201525, -0.088749960064888, 0.10240878909826279, -0.045507825911045074, -0.021861903369426727, 0.018782807514071465, 0.05774940177798271, -0.007340775802731514, -0.03292394056916237, -0.04540606215596199, 0.050535283982753754, -0.00754375709220767, -0.02466961368918419, 0.018737565726041794, -0.03950018063187599, -0.014777811244130135, -0.06776679307222366, 0.031766124069690704, 0.03929859399795532, -0.0058661834336817265, 0.0401819571852684, -0.09811656177043915, -0.10718931257724762, -0.01819933019578457, 0.07622553408145905, -0.08017285168170929, -0.05877167358994484, 0.02545725554227829, -0.02515871822834015, 0.026181519031524658, 0.04069949686527252, -0.07128190249204636, 0.01571188122034073, 0.03181851655244827, 0.011162587441504002, 0.06259571760892868, -0.14297311007976532, -0.021268749609589577, -0.04706832766532898, -0.06041133031249046, -0.058290995657444, -0.04599475488066673, 0.056559767574071884, -0.02237905003130436, -0.0393473282456398, 0.041339024901390076, -0.02527718059718609, 0.050197213888168335, 0.0892859697341919, -0.025659367442131042, 0.03122398629784584, -0.07027073204517365, 0.09329776465892792, 0.023546500131487846, 0.07721994817256927, 0.0757356509566307, -0.011917349882423878, -0.06122179701924324, -0.02499895729124546, 0.014995638281106949, -0.035098847001791, 0.04324672371149063, -0.042627960443496704, 0.009627332910895348, -0.04370134323835373, -0.010647143237292767, -0.014517291449010372, -0.052411600947380066, 0.023083936423063278, 0.0376572422683239, -0.05684909597039223, 0.018557175993919373, 0.0636674240231514, 0.029645342379808426, -0.00046068511437624693, 0.02864105999469757, -0.025882398709654808, -0.03151095658540726, -0.0007170215249061584, -0.038257818669080734, -0.06992736458778381, -0.032016392797231674, 0.0034193014726042747, -0.03426704183220863, -0.03454732894897461, -0.1014474481344223, 0.014855073764920235, -0.052903492003679276, 0.006313043180853128, 0.06776312738656998, -0.00630858913064003, 0.06672711670398712, 0.005301492288708687, -0.019004711881279945, -0.008004903793334961, 0.06665113568305969, 0.03944959491491318, -0.010696902871131897, -0.16052041947841644, -0.06998024135828018, -0.01352599635720253, -0.030695611611008644, -0.008136778138577938, 0.058444276452064514, -0.015628062188625336, 0.09398850798606873, 0.05660894513130188, 0.07764001190662384, -0.12632174789905548, 0.0430816225707531, 0.009355433285236359, 0.10982740670442581, 0.031382005661726, -0.023062387481331825, 0.00872359611093998, -0.0031274359207600355, -0.12150231003761292, 0.07288319617509842, 0.05746625363826752, 0.0708666518330574, -0.024386096745729446, -0.00949486717581749, -0.013805446214973927, 0.013382752425968647, -0.016663808375597, -0.05728358402848244, -0.018033837899565697, -0.031566474586725235, -0.01674823649227619, -0.10540255904197693, 0.04849989712238312, -0.08774473518133163, -0.010755193419754505, 0.016291575506329536, 0.030145933851599693, 0.054215479642152786, -0.056294187903404236, 0.10651732981204987, 0.027178151533007622, -0.005972689017653465, 0.04901525378227234, -0.06350642442703247, -0.04096367955207825, 0.03070715256035328, 0.02261873334646225, -0.015314998105168343, 3.0410375984502025e-05, -0.0127137815579772, -0.06280506402254105, 0.0431990884244442, -0.03623897582292557, -0.04107296094298363, 0.04753825441002846, -0.01873459853231907, 0.04919200390577316, -0.10589424520730972, -0.035573020577430725, -0.08023637533187866, -0.010534964501857758, -0.04828532040119171, -0.0022415919229388237, -0.048186395317316055, 0.017421668395400047, -0.0001782912149792537, -0.008686183951795101, -0.014267251826822758, 0.04448196664452553, -0.0069260504096746445, -0.010246697813272476, 0.017848700284957886, 0.06373430043458939, -0.03465721756219864, 0.004022866487503052, 0.010532730259001255, 0.04808526486158371, -0.0011339501943439245, 0.02657977305352688, 0.03511824086308479, 0.05262070521712303, -0.01714487373828888, 0.057219527661800385, -0.05905549228191376, 0.020392630249261856, -0.017361091449856758, 0.028632832691073418, 0.007148732431232929, -0.056639302521944046, 0.1020154133439064, -0.028027599677443504, -0.07792163640260696, 1.3679281025106731e-33, 0.002856619656085968, -0.08338146656751633, -0.034269243478775024, 0.03605080395936966, 0.08718053251504898, -0.010986598208546638, 0.04150007665157318, 0.019701873883605003, -0.06206701695919037, 0.027897458523511887, 0.05058224871754646, 0.07037326693534851, 0.0734529197216034, -0.017367137596011162, -0.04403180629014969, -0.02876172587275505, 0.029903559014201164, 0.04472272843122482, -0.05933377146720886, 0.02770308218896389, 0.026325928047299385, 0.0019868924282491207, 0.030736302956938744, -0.03957529366016388, 0.03912561386823654, 0.05820131301879883, -0.08609309047460556, 0.011094136163592339, -0.030038435012102127, 0.008824431337416172, -0.05969563499093056, 0.10457878559827805, -0.05755578726530075, 0.058069176971912384, -0.0014755099546164274, -0.013259497471153736, -0.001142266672104597, -0.029419388622045517, -0.13767047226428986, -0.004122594837099314, 0.08334767818450928, -0.020133819431066513, 0.010555733926594257, 0.07898590713739395, -0.0042679766193032265, 0.0015715796034783125, -0.04318852722644806, 0.06596293300390244, -0.018567172810435295, 0.0007149436860345304, -0.05517496541142464, 0.022759538143873215, 0.014379221946001053, 0.025400664657354355, -0.02156435325741768, 0.09066532552242279, -0.03273278847336769, -0.06350529938936234, -0.04588521271944046, -0.004582556895911694, 0.03120742179453373, -0.07484424114227295, 0.032406095415353775, 0.09430321305990219, -0.09438302367925644, -0.039748117327690125, 0.014875698834657669, 0.07057928293943405, -0.04429113119840622, 0.06571081280708313, 0.01150408573448658, -0.103892020881176, 0.07966393232345581, 0.06266863644123077, 0.026680229231715202, -0.022614549845457077, 0.04449799656867981, -0.03155173733830452, 0.008913914673030376, -0.032348405569791794, 0.07245088368654251, 0.009633061476051807, -0.07430214434862137, -0.0059635271318256855, 0.02302471548318863, 0.04637822508811951, 0.09344525635242462, -0.09033243358135223, 0.034160275012254715, -0.03589913621544838, -0.07637752592563629, -0.014524353668093681, -0.04606059938669205, 0.015813572332262993, 0.06342170387506485, 4.7821446486472915e-32, 0.04480486735701561, 0.03512556478381157, 0.11972000449895859, 0.01689884439110756, -0.04249243810772896, -0.02658054046332836, 0.056026890873909, -0.017559733241796494, 0.008057494647800922, -0.020605159923434258, 0.06410114467144012, -0.019169744104146957, -0.0069266026839613914, 0.004435831680893898, 0.04225587844848633, 0.10313811153173447, 0.037343207746744156, 0.0628572478890419, -0.02124844677746296, -0.06694693118333817, -0.11396412551403046, -0.07575216889381409, 0.011661863885819912, 0.07567065209150314, -0.12288668751716614, 0.06432847678661346, -0.014065680094063282, -0.03015756979584694, 0.10385797917842865, -0.0141334543004632, 0.03605925664305687, 0.011860227212309837, -0.02643526904284954, 0.004667399451136589, 0.0685068666934967, 0.005780958570539951, 0.016397709026932716, 0.006763781886547804, -0.023777101188898087, -0.01630021072924137, -0.012829174287617207, 0.06893900781869888, -0.08595109730958939, 0.030026180669665337, 0.01158338226377964, 0.007825583219528198, 0.006276798900216818, 0.022256018593907356, -0.04671257361769676, 0.048167888075113297, 0.11720726639032364, -0.0004076799377799034, -0.03366904333233833, -0.01855280064046383, 0.04701635241508484, 0.04079049825668335, -0.047090016305446625, -0.043769728392362595, 0.009187363088130951, 0.03782651945948601, 0.004474094603210688, 0.048327501863241196, 0.05294244736433029, -0.030704399570822716]))\n",
      "(108, {'text': 'faq | What are the primary security considerations when accessing compute instances in Oracle Cloud Infrastructure?\\n\\nSecurity considerations when accessing compute instances in Oracle Cloud Infrastructure include proper authentication, secure access methods, and the use of security groups and firewalls to control network traffic.', 'path': 'faq'}, array('f', [0.12367264181375504, 0.04382673278450966, -0.09780678898096085, -0.0599246472120285, 0.04615086317062378, 0.005727821029722691, -0.013744021765887737, 0.030539387837052345, -0.04868943989276886, 0.023417914286255836, 0.038174018263816833, 0.014667617157101631, -0.0027157124131917953, -0.0877406895160675, -0.007861202582716942, -0.0864219069480896, 0.01727716438472271, -0.05282663181424141, -0.022099746391177177, -0.03779132291674614, -0.05560692399740219, -0.029259707778692245, -0.012017995119094849, -0.05495518445968628, -0.06047574430704117, -0.05222686007618904, 0.056402504444122314, 0.03281417861580849, -0.004221158567816019, -0.016939915716648102, 0.03656688705086708, 0.02606760337948799, -0.06130017712712288, 0.026232395321130753, -0.08486182987689972, 0.035712867975234985, -0.009067557752132416, -0.046236876398324966, -0.027227098122239113, 0.06132139265537262, 0.024787500500679016, 0.011005236767232418, -0.050765540450811386, -0.015143097378313541, -0.003895887639373541, -0.001112518017180264, 0.019082998856902122, -0.033795688301324844, -0.055416908115148544, -0.05304715409874916, 0.02976178377866745, 0.034993961453437805, 0.0059632910415530205, 0.018253693357110023, -0.07503584772348404, -0.10525557398796082, 0.0229475274682045, 0.06275421380996704, -0.0681319311261177, -0.061589956283569336, 0.07418274879455566, -0.04146227613091469, -0.03496726602315903, 0.011153874918818474, -0.030580390244722366, 0.0030565676279366016, 0.010118606500327587, -0.03713938966393471, 0.0471356101334095, -0.03031374141573906, -0.06259961426258087, -0.057798780500888824, -0.12681999802589417, -0.06933003664016724, -0.007981710135936737, 0.07461120188236237, 0.01944592222571373, -0.026029575616121292, 0.023228412494063377, -0.02091040089726448, 0.07237379997968674, 0.07283280044794083, 0.05251104012131691, 0.035920388996601105, -0.04871656745672226, 0.0691603496670723, 0.04552561417222023, 0.029970118775963783, 0.017113713547587395, 0.0020578205585479736, 0.03516964986920357, -0.04959352687001228, 0.09351892024278641, -0.058405499905347824, 0.08443062007427216, 0.0002058770478470251, -0.06552114337682724, -0.04657017067074776, 0.05135388672351837, -0.014752417802810669, -0.0392007902264595, 0.046722687780857086, 0.04669899865984917, 0.027108343318104744, -0.02532569319009781, 0.03195962682366371, 0.05882258340716362, -0.028783082962036133, 0.05344763025641441, -0.004278262611478567, 0.03176571801304817, -0.05907847732305527, 0.006486861035227776, -0.09870949387550354, -0.023405108600854874, 0.003673338796943426, -0.011425129137933254, -0.04020382836461067, -0.09400510787963867, 0.0009353569475933909, -0.025700658559799194, -0.017817549407482147, 0.09207272529602051, -0.02180151827633381, 0.09218966960906982, -0.019465763121843338, -0.025320500135421753, -0.031442590057849884, -0.00979540590196848, 0.06138555705547333, -0.029850447550415993, -0.18801246583461761, -0.022137384861707687, -0.021346285939216614, -0.09338138997554779, -0.04286026209592819, 0.10688194632530212, -0.036908600479364395, 0.060777194797992706, 0.06663278490304947, 0.07402919232845306, -0.05752803012728691, 0.10088764131069183, 0.0032682495657354593, 0.12134513258934021, 0.04640684649348259, -0.006272835191339254, 0.042997680604457855, 0.02886003628373146, -0.13544675707817078, 0.05087924748659134, 0.06794042140245438, -0.0024553979746997356, 0.00960747990757227, -0.013220230117440224, -0.01575295999646187, -0.002570373471826315, -0.013412575237452984, -0.04208674281835556, -0.02623925730586052, 0.03295642137527466, -0.04153289645910263, -0.07240516692399979, 0.10220463573932648, -0.09097366034984589, 0.015393381007015705, 0.005632956046611071, 0.040936365723609924, 0.04447387903928757, -0.05469825491309166, 0.05007728934288025, 0.04410140588879585, 0.0013862508349120617, 0.02180878259241581, -0.08291598409414291, -0.05495612695813179, -0.03071596845984459, 0.03292972221970558, -0.047757625579833984, -0.020627424120903015, 0.016074858605861664, -0.012414039112627506, 0.01885111629962921, -0.05805647000670433, 0.00560704106464982, 0.024584650993347168, 0.007383277639746666, 0.03794092684984207, -0.06599307805299759, -0.09925244748592377, -0.056118886917829514, 0.014840680174529552, -0.05871334671974182, 0.041782572865486145, -0.060587070882320404, 0.029286792501807213, 0.0753263533115387, -0.04131926968693733, -0.018738731741905212, -0.016447557136416435, -0.0183065515011549, -0.019752182066440582, -0.0009522860636934638, 0.04211927205324173, -0.05840004235506058, -0.012320493347942829, 0.0033171270042657852, 0.024585427716374397, 0.007003359496593475, 0.00957952719181776, 0.085450679063797, 0.01799445040524006, -0.06217382475733757, 0.04085136950016022, -0.026311779394745827, 0.011768240481615067, -0.021159712225198746, 0.09314202517271042, 0.03984133526682854, -0.03126346692442894, 0.06441349536180496, 0.04464125260710716, -0.0297283623367548, 3.112805284577391e-33, -0.012813915498554707, -0.04946848377585411, -0.028400497511029243, -0.015868667513132095, 0.05414983630180359, -0.023035991936922073, 0.018106447532773018, -0.03320010378956795, -0.04413330554962158, -0.04436304792761803, 0.06684897094964981, 0.035391293466091156, 0.06502707302570343, -0.06793713569641113, -0.06701823323965073, -0.033636633306741714, 0.03224528580904007, 0.017343729734420776, -0.03315456956624985, 0.006478664465248585, 0.08737208694219589, -0.006348148453980684, 0.030818652361631393, -0.04045337811112404, 0.040674157440662384, 0.02705206349492073, -0.1651218831539154, -0.03778950124979019, -0.032197434455156326, 0.06532321870326996, -0.07166928052902222, 0.11479894071817398, -0.05614886432886124, 0.12490115314722061, -0.03418798744678497, -0.03563009947538376, 0.03582106903195381, -0.007409404497593641, -0.06906251609325409, 0.019399331882596016, 0.07183349132537842, 0.009843248873949051, 0.046441782265901566, 0.040791936218738556, 0.01276780478656292, 0.02978662960231304, 0.009209715761244297, 0.07718387991189957, -0.019646376371383667, 0.003606153652071953, -0.06485987454652786, 0.044059768319129944, 0.015001580119132996, 0.0317651703953743, -0.038948431611061096, 0.09756680577993393, 0.0031157820485532284, -0.012482845224440098, 0.027399977669119835, -0.015634672716259956, 0.035170845687389374, -0.024710537865757942, -0.0414084829390049, 0.03825601562857628, -0.08402645587921143, -0.041264161467552185, 0.005623255390673876, 0.07061604410409927, -0.045158691704273224, 0.01942540891468525, 0.02387135662138462, -0.08160683512687683, -0.004336531274020672, -0.00696666119620204, -0.013423122465610504, 0.010119225829839706, 0.03109743446111679, -0.01093215774744749, 0.02863188646733761, -0.004320580046623945, 0.024918030947446823, 0.023334380239248276, -0.060837555676698685, -0.0014555312227457762, -0.017062664031982422, 0.038159556686878204, 0.10222986340522766, -0.14765605330467224, -0.006373420357704163, -0.005263669416308403, -0.06650273501873016, -0.017305895686149597, -0.09164454787969589, 0.024831367656588554, 0.06390896439552307, 4.459310406620511e-32, 0.05445534363389015, 0.06676489859819412, 0.08816815912723541, -0.01709088496863842, -0.05814824998378754, -0.02846655249595642, 0.023074032738804817, 0.04728429391980171, -0.006875860504806042, 0.05426837503910065, 0.08271270990371704, -0.10121345520019531, -0.0256300438195467, -0.004808371886610985, 0.05057342350482941, 0.08405942469835281, 0.06426721811294556, -0.004410607274621725, -0.035948142409324646, -0.08385854214429855, -0.0763452872633934, -0.038772426545619965, -0.007466034963726997, 0.039039116352796555, -0.11202827095985413, 0.06560631841421127, -0.015048017725348473, -0.057798855006694794, 0.07443192601203918, -0.0019412483088672161, 0.024312684312462807, 0.01772197335958481, -0.04403410851955414, 0.04251398518681526, 0.022937698289752007, 0.01035998109728098, 0.007653294131159782, -0.005279121920466423, -0.04794717952609062, 0.06246758624911308, -0.00047625668230466545, 0.05420170724391937, -0.04842756316065788, 0.05671246349811554, -0.027304386720061302, 0.004954912234097719, 0.0070288884453475475, 0.05096757411956787, -0.07139470428228378, 0.04289551451802254, 0.07393154501914978, -0.03017113171517849, 0.01525638997554779, 0.004330814816057682, 0.0299665704369545, 0.06185705214738846, -0.01831851527094841, -0.010297796688973904, 0.08966878801584244, 0.04999477043747902, 0.06568507850170135, 0.08534683287143707, -0.0029280753806233406, -0.005035099107772112]))\n"
     ]
    }
   ],
   "source": [
    "with connection.cursor() as cursor:\n",
    "    # Define the query to select all rows from a table\n",
    "    query = f\"SELECT * FROM {table_name}\"\n",
    "\n",
    "    # Execute the query\n",
    "    cursor.execute(query)\n",
    "\n",
    "    # Fetch all rows\n",
    "    rows = cursor.fetchall()\n",
    "\n",
    "    # Print the rows\n",
    "    for row in rows[:5]:\n",
    "        print(row)"
   ]
  },
  {
   "cell_type": "code",
   "execution_count": 11,
   "metadata": {},
   "outputs": [],
   "source": [
    "topK = 3\n",
    "\n",
    "sql = f\"\"\"select payload, vector_distance(vector, :vector, COSINE) as score\n",
    "from {table_name}\n",
    "order by score\n",
    "fetch approx first {topK} rows only\"\"\""
   ]
  },
  {
   "cell_type": "code",
   "execution_count": 24,
   "metadata": {},
   "outputs": [],
   "source": [
    "question = 'My resources no longer appear. How can I restore them?'"
   ]
  },
  {
   "cell_type": "code",
   "execution_count": 13,
   "metadata": {},
   "outputs": [],
   "source": [
    "with connection.cursor() as cursor:\n",
    "  embedding = list(encoder.encode(question))\n",
    "  vector = array.array(\"f\", embedding)"
   ]
  },
  {
   "cell_type": "code",
   "execution_count": 14,
   "metadata": {},
   "outputs": [],
   "source": [
    "with connection.cursor() as cursor:\n",
    "  embedding = list(encoder.encode(question))\n",
    "  vector = array.array(\"f\", embedding)\n",
    "\n",
    "  results  = []\n",
    "\n",
    "  for (info, score, ) in cursor.execute(sql, vector=vector):\n",
    "      text_content = info.read()\n",
    "      results.append((score, json.loads(text_content)))"
   ]
  },
  {
   "cell_type": "code",
   "execution_count": 15,
   "metadata": {},
   "outputs": [
    {
     "name": "stdout",
     "output_type": "stream",
     "text": [
      "[(0.3420591935353683,\n",
      "  {'text': 'faq | What are Always Free services?\\n'\n",
      "           '\\n'\n",
      "           'Always Free services are part of Oracle Cloud Free Tier. Always '\n",
      "           'Free services are available for an unlimited time. Some '\n",
      "           'limitations apply. As new Always Free services become available, '\n",
      "           'you will automatically be able to use those as well.\\n'\n",
      "           '\\n'\n",
      "           'The following services are available as Always Free:\\n'\n",
      "           '\\n'\n",
      "           'AMD-based Compute\\n'\n",
      "           'Arm-based Ampere A1 Compute\\n'\n",
      "           'Block Volume\\n'\n",
      "           'Object Storage\\n'\n",
      "           'Archive Storage\\n'\n",
      "           'Flexible Load Balancer\\n'\n",
      "           'Flexible Network Load Balancer\\n'\n",
      "           'VPN Connect\\n'\n",
      "           'Autonomous Data Warehouse\\n'\n",
      "           'Autonomous Transaction Processing\\n'\n",
      "           'Autonomous JSON Database\\n'\n",
      "           'NoSQL Database (Phoenix Region only)\\n'\n",
      "           'APEX Application Development\\n'\n",
      "           'Resource Manager (Terraform)\\n'\n",
      "           'Monitoring\\n'\n",
      "           'Notifications\\n'\n",
      "           'Logging\\n'\n",
      "           'Application Performance Monitoring\\n'\n",
      "           'Service Connector Hub\\n'\n",
      "           'Vault\\n'\n",
      "           'Bastions\\n'\n",
      "           'Security Advisor\\n'\n",
      "           'Virtual Cloud Networks\\n'\n",
      "           'Site-to-Site VPN\\n'\n",
      "           'Content Management Starter Edition\\n'\n",
      "           'Email Delivery',\n",
      "   'path': 'faq'}),\n",
      " (0.48326675674258734,\n",
      "  {'text': 'faq | Are Always Free services available for paid accounts?\\n'\n",
      "           '\\n'\n",
      "           'Yes, for paid accounts using universal credit pricing.',\n",
      "   'path': 'faq'}),\n",
      " (0.4878003460767656,\n",
      "  {'text': 'faq | Could you elaborate on the concept of Always Free resources '\n",
      "           'in Oracle Cloud Infrastructure, and how can users leverage them '\n",
      "           'for various use cases while staying within the specified '\n",
      "           'limitations?\\n'\n",
      "           '\\n'\n",
      "           'Always Free resources in Oracle Cloud Infrastructure are services '\n",
      "           'and resources that can be used without incurring charges, subject '\n",
      "           'to certain usage limitations. Users can leverage these resources '\n",
      "           'for development, testing, small-scale applications, and learning '\n",
      "           'purposes, all while adhering to the restrictions outlined in the '\n",
      "           'terms and conditions.',\n",
      "   'path': 'faq'})]\n"
     ]
    }
   ],
   "source": [
    "import pprint\n",
    "pprint.pp(results)"
   ]
  },
  {
   "cell_type": "code",
   "execution_count": 16,
   "metadata": {},
   "outputs": [
    {
     "name": "stderr",
     "output_type": "stream",
     "text": [
      "You are using the default legacy behaviour of the <class 'transformers.models.llama.tokenization_llama_fast.LlamaTokenizerFast'>. This is expected, and simply means that the `legacy` (previous) behavior will be used so nothing changes for you. If you want to use the new behaviour, set `legacy=False`. This should only be set if you understand what it means, and thoroughly read the reason why this was added as explained in https://github.com/huggingface/transformers/pull/24565 - if you loaded a llama tokenizer from a GGUF file you can ignore this message.\n"
     ]
    }
   ],
   "source": [
    "from transformers import LlamaTokenizerFast\n",
    "import sys\n",
    "\n",
    "tokenizer = LlamaTokenizerFast.from_pretrained(\"hf-internal-testing/llama-tokenizer\")\n",
    "\n",
    "\n",
    "tokenizer.model_max_length = sys.maxsize\n",
    "\n",
    "def truncate_string(string, max_tokens):\n",
    "    # Tokenize the text and count the tokens\n",
    "    tokens = tokenizer.encode(string, add_special_tokens=True) \n",
    "    # Truncate the tokens to a maximum length\n",
    "    truncated_tokens = tokens[:max_tokens]\n",
    "    # transform the tokens back to text\n",
    "    truncated_text = tokenizer.decode(truncated_tokens)\n",
    "    return truncated_text"
   ]
  },
  {
   "cell_type": "code",
   "execution_count": 17,
   "metadata": {},
   "outputs": [],
   "source": [
    "# transform docs into a string array using the \"paylod\" key\n",
    "docs_as_one_string = \"\\n=========\\n\".join([doc[\"text\"] for doc in docs])\n",
    "docs_truncated = truncate_string(docs_as_one_string, 1000)"
   ]
  },
  {
   "cell_type": "code",
   "execution_count": 25,
   "metadata": {},
   "outputs": [],
   "source": [
    "prompt = f\"\"\"\\\n",
    "    <s>[INST] <<SYS>>\n",
    "    You are a helpful assistant named Oracle chatbot. \n",
    "    USE ONLY the sources below and ABSOLUTELY IGNORE any previous knowledge.\n",
    "    Use Markdown if appropriate.\n",
    "    Assume the customer is highly technical.\n",
    "    <</SYS>> [/INST]\n",
    "\n",
    "    [INST]\n",
    "    Respond to PRECISELY to this question: \"{question}.\",  USING ONLY the following information and IGNORING ANY PREVIOUS KNOWLEDGE.\n",
    "    Include code snippets and commands where necessary.\n",
    "    NEVER mention the sources, always respond as if you have that knowledge yourself. Do NOT provide warnings or disclaimers.\n",
    "    =====\n",
    "    Sources: {docs_truncated}\n",
    "    =====\n",
    "    Answer (Three paragraphs, maximum 50 words each, 90% spartan):\n",
    "    [/INST]\n",
    "    \"\"\""
   ]
  },
  {
   "cell_type": "code",
   "execution_count": 19,
   "metadata": {},
   "outputs": [],
   "source": [
    "import oci"
   ]
  },
  {
   "cell_type": "code",
   "execution_count": 28,
   "metadata": {},
   "outputs": [
    {
     "name": "stdout",
     "output_type": "stream",
     "text": [
      "**************************Chat Result**************************\n"
     ]
    }
   ],
   "source": [
    "compartment_id = \"ocid1.tenancy.oc1..aaaaaaaaogia3wprum3yvc5qhcrdcxzrtwloiusgk5dbb5uibgcayapljwtq\"\n",
    "\n",
    "# Crear un proveedor de autenticación de instancias principales\n",
    "signer = oci.auth.signers.InstancePrincipalsSecurityTokenSigner()\n",
    "\n",
    "# Service endpoint\n",
    "endpoint = \"https://inference.generativeai.us-chicago-1.oci.oraclecloud.com\"\n",
    "\n",
    "generative_ai_inference_client = oci.generative_ai_inference.GenerativeAiInferenceClient(config={}, signer=signer, service_endpoint=endpoint, retry_strategy=oci.retry.NoneRetryStrategy(), timeout=(10,240))\n",
    "chat_detail = oci.generative_ai_inference.models.ChatDetails()\n",
    "\n",
    "content = oci.generative_ai_inference.models.TextContent()\n",
    "content.text = f\"{prompt}\"\n",
    "message = oci.generative_ai_inference.models.Message()\n",
    "message.role = \"USER\"\n",
    "message.content = [content]\n",
    "chat_request = oci.generative_ai_inference.models.GenericChatRequest()\n",
    "chat_request.api_format = oci.generative_ai_inference.models.BaseChatRequest.API_FORMAT_GENERIC\n",
    "chat_request.messages = [message]\n",
    "chat_request.max_tokens = 1000\n",
    "chat_request.temperature = 1\n",
    "chat_request.frequency_penalty = 0\n",
    "chat_request.presence_penalty = 0\n",
    "chat_request.top_p = 0.75\n",
    "chat_request.top_k = -1\n",
    "\n",
    "chat_detail.serving_mode = oci.generative_ai_inference.models.OnDemandServingMode(model_id=\"ocid1.generativeaimodel.oc1.us-chicago-1.amaaaaaask7dceyarleil5jr7k2rykljkhapnvhrqvzx4cwuvtfedlfxet4q\")\n",
    "chat_detail.chat_request = chat_request\n",
    "\n",
    "chat_detail.compartment_id = compartment_id\n",
    "chat_response = generative_ai_inference_client.chat(chat_detail)\n",
    "# Print result\n",
    "print(\"**************************Chat Result**************************\")\n",
    "#print(vars(chat_response))"
   ]
  },
  {
   "cell_type": "code",
   "execution_count": 29,
   "metadata": {},
   "outputs": [
    {
     "name": "stdout",
     "output_type": "stream",
     "text": [
      "**Restore Resources**\n",
      "To restore resources, verify your account status and ensure you have not exceeded the free trial period or credit limit. Check the Oracle Cloud console for any notifications or alerts.\n",
      "\n",
      "**Check Account Status**\n",
      " Run the command `oci iam compartment list` to verify your compartment status. If your resources are not visible, try running `oci iam compartment restore` to restore the compartment.\n",
      "\n",
      "**Verify Credit Limit**\n",
      " Check your credit limit and usage on the Oracle Cloud console. If you have exceeded the limit, consider upgrading to a paid plan or contacting Oracle Support for assistance.\n"
     ]
    }
   ],
   "source": [
    "print(chat_response.data.chat_response.choices[0].message.content[0].text)"
   ]
  },
  {
   "cell_type": "code",
   "execution_count": null,
   "metadata": {},
   "outputs": [],
   "source": []
  }
 ],
 "metadata": {
  "kernelspec": {
   "display_name": "Python 3",
   "language": "python",
   "name": "python3"
  },
  "language_info": {
   "codemirror_mode": {
    "name": "ipython",
    "version": 3
   },
   "file_extension": ".py",
   "mimetype": "text/x-python",
   "name": "python",
   "nbconvert_exporter": "python",
   "pygments_lexer": "ipython3",
   "version": "3.10.12"
  }
 },
 "nbformat": 4,
 "nbformat_minor": 2
}
