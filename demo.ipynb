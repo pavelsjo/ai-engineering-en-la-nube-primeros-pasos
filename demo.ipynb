{
 "cells": [
  {
   "cell_type": "code",
   "execution_count": 1,
   "metadata": {},
   "outputs": [],
   "source": [
    "import os\n",
    "\n",
    "def loadFAQs(directory_path):\n",
    "   faqs = {}\n",
    "\n",
    "   for filename in os.listdir(directory_path):\n",
    "      if filename.endswith(\".txt\"):  # assuming FAQs are in .txt files\n",
    "         file_path = os.path.join(directory_path, filename)\n",
    "\n",
    "         with open(file_path) as f:\n",
    "            raw_faq = f.read()\n",
    "\n",
    "         filename_without_ext = os.path.splitext(filename)[0]  # remove .txt extension\n",
    "         faqs[filename_without_ext] = [text.strip() for text in raw_faq.split('=====')]\n",
    "\n",
    "   return faqs"
   ]
  },
  {
   "cell_type": "code",
   "execution_count": 2,
   "metadata": {},
   "outputs": [
    {
     "data": {
      "text/plain": [
       "{'requierements': ['oracledb\\ntqdm\\nipywidgets\\nsentence_transformers\\noci'],\n",
       " 'links': ['https://apexapps.oracle.com/pls/apex/r/dbpm/livelabs/run-workshop?p210_wid=3939&p210_wec=&session=115486261083319\\nhttps://medium.com/@deepalimittal23/accessing-oci-object-storage-using-instance-principals-203ac93cb77'],\n",
       " 'faq': ['Who are you and what can you do?\\n\\nI am DORA, the Digital ORacle Assistant, a digital assistant working for Oracle EMEA. I can answer questions about Oracle Cloud (OCI) and especially about the Free Trial and Always Free programs.',\n",
       "  'What is Oracle Cloud Free Tier?\\n\\nOracle Cloud Free Tier allows you to sign up for an Oracle Cloud account which provides a number of Always Free services and a Free Trial with US$300 of free credit to use on all eligible Oracle Cloud Infrastructure services for up to 30 days. The Always Free services are available for an unlimited period of time. The Free Trial services may be used until your US$300 of free credits are consumed or the 30 days has expired, whichever comes first.',\n",
       "  'Who should use Oracle Cloud Free Tier?\\n\\nOracle Cloud Free Tier services are for everyone. Whether you’re a developer building and testing applications, a startup founder creating new systems with the intention of scaling later, an enterprise looking to test things before moving to cloud, a student wanting to learn, or an academic developing curriculum in the cloud, Oracle Cloud Free Tier enables you to learn, explore, build and test for free.',\n",
       "  'Who is eligible for Oracle Cloud Free Tier?\\n\\nOne Oracle Cloud Free Trial or Always Free account is permitted per person. Please note:\\n\\nCreating or attempting to create multiple free accounts is prohibited.\\nAll contact and billing information provided must be accurate, valid, and used with consent for the duration of the account.\\nFailure to comply with these requirements may result in the suspension or termination of your account.',\n",
       "  'Why do I need to provide credit or debit card information when I sign up for Oracle Cloud Free Tier?\\n\\nTo provide free Oracle Cloud accounts to our valued customers, we need to ensure that you are who you say you are. We use your contact information and credit/debit card information for account setup and identity verification. Oracle may periodically check the validity of your card, resulting in a temporary “authorization” hold. These holds are removed by your bank, typically within three to five days, and do not result in actual charges to your account.',\n",
       "  'What payment methods does Oracle accept?\\n\\nWe accept credit cards and debit cards that function like credit cards. We do not accept debit cards with a PIN or virtual, single-use, or prepaid cards.',\n",
       "  'Is Oracle Cloud Free Tier available in all countries?\\n\\nOracle Cloud Free Tier is currently available in all regions where commercial Oracle Cloud Infrastructure service is available. See the data regions page for detailed service availability. * If your first-choice data region isn’t available, please select an adjacent region. If you are unable to find the country or territory you require, please contact Oracle Sales or Cloud Support using the Chat link in the menu bar. The Oracle Sales team can help you sign up for Oracle Cloud Free Tier.',\n",
       "  'How do I sign up for Oracle Cloud Free Tier?\\n\\nYou can sign up on the Oracle Cloud Free Tier sign up page.',\n",
       "  'How do I get help if I have problems signing up or signing in?\\n\\nContact the Oracle Cloud support team using the Chat link in the menu bar.',\n",
       "  'Does Oracle Cloud Free Tier include service level agreements (SLAs) and technical support?\\n\\nOracle Cloud Free Tier does not include SLAs. Community support through our forums is available to all customers. Customers using only Always Free resources are not eligible for Oracle Support. Limited support is available for Oracle Cloud Free Tier with Free Trial credits. After you use all of your credits or after your trial period ends (whichever comes first), you must upgrade to a paid account to access Oracle Support. If you choose not to upgrade and continue to use Always Free Services, you will not be eligible to raise a service request in My Oracle Support.',\n",
       "  'What are Always Free services?\\n\\nAlways Free services are part of Oracle Cloud Free Tier. Always Free services are available for an unlimited time. Some limitations apply. As new Always Free services become available, you will automatically be able to use those as well.\\n\\nThe following services are available as Always Free:\\n\\nAMD-based Compute\\nArm-based Ampere A1 Compute\\nBlock Volume\\nObject Storage\\nArchive Storage\\nFlexible Load Balancer\\nFlexible Network Load Balancer\\nVPN Connect\\nAutonomous Data Warehouse\\nAutonomous Transaction Processing\\nAutonomous JSON Database\\nNoSQL Database (Phoenix Region only)\\nAPEX Application Development\\nResource Manager (Terraform)\\nMonitoring\\nNotifications\\nLogging\\nApplication Performance Monitoring\\nService Connector Hub\\nVault\\nBastions\\nSecurity Advisor\\nVirtual Cloud Networks\\nSite-to-Site VPN\\nContent Management Starter Edition\\nEmail Delivery',\n",
       "  'What can I do with Always Free Oracle Autonomous Database?\\n\\nWith Oracle Autonomous Database now always free, developers can access a full database experience and built-in development tools for free—without worrying about losing work at the end of a trial period. Autonomous Database is a multimodel database for virtually any type of data (including relational, JSON, spatial, graph, multimedia, XML, files, and more), any workload (transactional, data warehouse, and analytics), and any interface (full SQL, REST data access, and language drivers). The service includes free development tools such as SQL Developer IDE, Oracle Application Express (APEX) for low-code app creation, Oracle REST Data Services, and powerful command-line utilities. To keep building even when you are disconnected from Oracle Cloud, you can mix Always Free Oracle Autonomous Database with a compatible always-free version of Oracle Database that runs on your laptop (see Oracle Database XE).',\n",
       "  'What can I do with Always Free Oracle Cloud Infrastructure?\\n\\nWith Always Free Oracle Cloud Infrastructure services, you get the essentials you need to build and test applications in the cloud. This includes two compute instances, NVMe SSD-powered block storage, high-bandwidtou’ll be notified by email when billing begins.h object storage, archive storage, and load balancing, all on our enterprise-grade virtual networks. These resources enable you to prototype two-tier high availability applications, test server cloning and other advanced storage features, or build basic data pipelines with object storage, as just a few examples. Coupling with Always Free Autonomous Database or our Free Tier gives you even more options. Our cloud infrastructure includes rich APIs, SDKs for Java, Python, Ruby, and Go, and cool plug-ins for Jenkins, Packer, and Grafana. And you can automate it all with Terraform.',\n",
       "  'I need more instances or larger sizes of Always Free services. What should I do?\\n\\nIf your cloud account is in Free Trial period or has paid status, you can directly upgrade an Always Free resource to a paid resource to get more processing power, data storage, and network bandwidth. If your account has finished Free Trial without upgrading to paid status, you can continue using Always Free resources but you cannot upgrade Always Free resources to paid resources until the account is first upgraded to paid status.\\n\\nYou may upgrade an account to paid status at any time from the Account Management area in Oracle Cloud Console. You will be able to choose between Pay As You Go or Monthly Flex plans. Alternatively, you may contact Oracle Sales for assistance. See cloud cost estimator for details.\\n\\nIn addition, you may spend free credits during a Free Trial period to create more instances or larger instances than allowed for Always Free. Note that paid instances created during a trial period will be reclaimed when the Free Trial ends, whereas Always Free resources will continue to be available even after the Free Trial period.',\n",
       "  'I just signed up and I can’t access specific services. What can I do?\\n\\nRegistering your account with all services and regions can take a few minutes. Check again after a few minutes have passed.',\n",
       "  'How do I change which resources I want to designate as Always Free?\\n\\nIn short, you can’t. Eligible resources are designated Always Free when they are created. After you provision an Always Free resource, the Always Free status is not transferable to another resource. However, you can delete an existing Always Free resource in order to create a new Always Free resource in its place.',\n",
       "  'My resources no longer appear. How can I restore them?\\n\\nIf you have a Free Tier account and your resources no longer appear, it’s likely that your Free Trial has expired and your paid resources have been reclaimed (terminated). You can verify if this is the case by doing the following: \\nLog in to the Console\\nCheck for a banner at the top of the Console with the following text: “You are using a Free Tier account. To access all services and resources, upgrade to a paid account.”\\n\\nIf you see this message, your resources have been reclaimed and can’t be restored.',\n",
       "  'I get an “out of host capacity” error when I try to create an Always Free Compute instance. What can I do?\\n\\nAn \"out of host capacity\" error indicates a temporary lack of Always Free shapes in your home region. Oracle is working to provide more capacity, though it might take several days before additional capacity is available in your home region. If your home region has multiple availability domains, try creating the instance in a different availability domain. If that doesn’t work, wait a while, and then try to launch the instance again.',\n",
       "  'Is my Free Tier account eligible for support?\\n\\nCommunity support through our forums is available to all customers. Customers using only Always Free resources are not eligible for Oracle Support. Limited support is available to Free Tier accounts with Free Trial credits. After you use all of your credits or after your trial period ends (whichever comes first), you must upgrade to a paid account to access Oracle Support. If you choose not to upgrade and continue to use Always Free Services, you will not be eligible to raise a service request in My Oracle Support. See Getting Help and Contacting Support.',\n",
       "  'Are Always Free services available for paid accounts?\\n\\nYes, for paid accounts using universal credit pricing.',\n",
       "  'What is Free Trial?\\n\\nFree Trial is part of Oracle Cloud Free Tier and provides US$300 of free credits to use on all eligible Oracle Cloud Infrastructure services for up to 30 days. The Free Trial period may end either because all free credits are spent or 30 days has been reached.',\n",
       "  'For how long can I use my Free Trial credits?\\n\\nYou must use all your Free Trial credits within 30 days of signing up for Oracle Cloud Free Tier. Any credits that are unused at the end of the 30-day period will automatically expire. The Always Free services will continue to be available for unlimited time as long as you use the services.',\n",
       "  \"Is it possible to extend my Free Trial?\\n\\nIf you need additional credits or time, you can schedule a call with an Oracle sales representative using the Upgrade page in the Console. Sales representatives have the authority to extend trials or issue additional credits if appropriate.\\n\\nIf you don't see an Upgrade link on the Console page you’re viewing, you can click the Oracle Cloud logo at the top of the Console and then look for the Upgrade link in the sidebar on the right side of the page.\",\n",
       "  \"What happens when my Free Trial expires or my credits are used up?\\n\\nWhen you've reached the end of your 30-day trial or used all your Free Trial credits (whichever comes first), you’ll be notified and will have a grace period of 30 days, starting from the expiration date, to upgrade to paid. You will no longer be able to create new paid resources, but your account will remain active. Your resources will continue to exist for a few days, allowing you to upgrade your account and keep your resources before they're reclaimed by Oracle. If you do not upgrade to paid by the end of the grace period, your Free Trial service instances and data will be deleted. (Note that reclaimed resources can’t be recovered—they are permanently deleted.)\\n\\nResources identified as Always Free will not be reclaimed. After your Free Trial expires, you'll continue to be able to use and manage your existing Always Free resources, and can create new Always Free resources according to tenancy limits.\\n\\nHowever, if you have more Ampere A1 Compute instances provisioned than are available for an Always Free tenancy, all existing Ampere A1 instances are disabled and then deleted after 30 days, unless you upgrade to a paid account. To continue using your existing Arm-based instances as an Always Free user, before your trial ends, ensure that your total use of OCPUs and memory across all the Ampere A1 Compute instances in your tenancy is within the Always Free limit.\",\n",
       "  \"If I upgrade, do I keep my Free Trial credit balance?\\n\\nYes, if you upgrade during the Free Trial period, you won’t be billed until you've reached the end of your 30-day trial or used all of your Free Trial credits (whichever comes first). You’ll be notified by email when billing begins.\",\n",
       "  'After I upgrade my account, can I downgrade?\\n\\nThere is no option to downgrade your account. However, with a paid account, you’ll continue to have access to Always Free resources, and you’ll only pay for the standard resources you use. No minimums and no prepayment are required for your paid account.',\n",
       "  'How do I recover my data once the 30-day Free Trial comes to an end?\\n\\nYou are responsible for exporting and importing all of your data manually or using tools supported by the object storage.',\n",
       "  'What is Oracle Cloud Promotion?\\n\\nOracle Cloud Promotion is another term for Free Trial.',\n",
       "  'How do I convert my Oracle Cloud Free Tier account to a paid account?\\n\\nYou can upgrade your cloud account to paid at any time. Simply go to Account Management in the Oracle Cloud Console and complete the upgrade steps.',\n",
       "  'Is my credit usage rate discounted during Free Trial?\\n\\nYes, during the Free Trial period of 30 days, your usage rates are discounted. This will let you gain free, hands-on experience with the wide range of Oracle Cloud services.',\n",
       "  'What are the discounted rates?\\n\\nDuring the 30-day Free Trial period, you will consume your trial credits at the deeply discounted Oracle IaaS rates for all platform services including Oracle Database Cloud, Java Cloud Service (WebLogic), and other services, as compared to a regular OCI Rate Card',\n",
       "  'How do I terminate my Free Tier account?\\n\\nPlease refer to the documentation section on deleting a Free Tier Tenancy and Cloud Account for details on account termination.',\n",
       "  'Free Tier is currently available in all regions where commercial Oracle Cloud Infrastructure service is available. See the data regions page for detailed service availability. The US$300 free credit is available in select countries and valid for up to 30 days. Oracle Cloud credits are consumed at discounted rates during the 30-day promotional period. The capacity limits listed under each service are only estimates and reflect the maximum capacity you can get if you consume your entire credit on one service during the promotional period. The maximum capacity per service you get can be less if you consume multiple services. The list of services and capacity estimates are subject to change. Your credit balance is available to you in the Oracle Cloud Infrastructure Console.',\n",
       "  '1 OCPU on x86 CPU Architecture (AMD and Intel) = 2 vCPUs; 1 OCPU on Arm CPU Architecture (Ampere) = 1 vCPU',\n",
       "  'Availability to Free Tier is subject to capacity limits.',\n",
       "  'What is Oracle Cloud Infrastructure Compute?\\n\\nOracle Cloud Infrastructure Compute allows you to provision and manage compute hosts, known as instances, to meet your compute and application requirements.',\n",
       "  'What can you do with Oracle Cloud Infrastructure Compute instances?\\n\\nYou can access instances securely, restart them, attach and detach volumes, and terminate them when no longer needed. Local drive changes are lost upon termination, but saved volume changes are retained.',\n",
       "  'What types of instances are available in Oracle Cloud Infrastructure?\\n\\nOracle Cloud Infrastructure offers both bare metal and virtual machine instances.',\n",
       "  'What is the advantage of using a bare metal compute instance?\\n\\nBare metal instances provide dedicated physical server access for highest performance and strong isolation.',\n",
       "  'What is a virtual machine (VM) instance in Oracle Cloud Infrastructure?\\n\\nA virtual machine (VM) is an independent computing environment running on top of physical bare metal hardware, allowing isolation and the ability to run multiple VMs.',\n",
       "  'How do Oracle Cloud Infrastructure VM compute instances compare to bare metal instances?\\n\\nVM compute instances run on the same hardware as bare metal instances, leveraging the same cloud-optimized hardware, firmware, software stack, and networking infrastructure.',\n",
       "  'Where can I find more information about the Compute service and related services?\\n\\nYou can learn more about the Compute service and related services in the provided link.',\n",
       "  'What should I review when working with Compute instances in Oracle Cloud Infrastructure?\\n\\nYou should review the \"Best Practices for Your Compute Instances\" for important information about working with your Compute instances.',\n",
       "  'How can Linux instances on Oracle Cloud Infrastructure apply critical kernel patches without rebooting?\\n\\nLinux instances can use Oracle Ksplice to apply critical kernel patches without rebooting. It works for Oracle Linux, CentOS, and Ubuntu.',\n",
       "  'Is Compute Always Free eligible in Oracle Cloud Infrastructure?\\n\\nYes, Compute is Always Free eligible. You can find more information about Always Free resources in the provided link, including capabilities and limitations.',\n",
       "  'What factors should you consider when creating a compute instance in Oracle Cloud Infrastructure?\\n\\nWhen creating a compute instance, consider factors like the number of CPUs, amount of memory, and network resources to select the most appropriate instance type for your applications.',\n",
       "  'What are burstable instances in Oracle Cloud Infrastructure?\\n\\nBurstable instances are virtual machine (VM) instances that provide a baseline level of CPU performance with the ability to burst to a higher level for occasional spikes in usage.',\n",
       "  'What do shielded instances do in Oracle Cloud Infrastructure?\\n\\nShielded instances harden the firmware security on bare metal hosts and VMs to defend against malicious boot-level software.',\n",
       "  'What are extended memory VM instances in Oracle Cloud Infrastructure?\\n\\nExtended memory VM instances provide more memory and cores than standard shapes, catering to workloads that require extra resources.',\n",
       "  'What types of shape categories are offered by Oracle Cloud Infrastructure?\\n\\nOracle Cloud Infrastructure offers standard shapes, DenseIO shapes, GPU shapes, and high-performance computing (HPC) and optimized shapes.',\n",
       "  'What are standard shapes in Oracle Cloud Infrastructure used for?\\n\\nStandard shapes are designed for general-purpose workloads and are suitable for a wide range of applications, offering a balance of cores, memory, and network resources.',\n",
       "  'What are DenseIO shapes in Oracle Cloud Infrastructure used for?\\n\\nDenseIO shapes are designed for large databases, big data workloads, and applications requiring high-performance local storage with locally-attached NVMe-based SSDs.',\n",
       "  'What are GPU shapes in Oracle Cloud Infrastructure designed for?\\n\\nGPU shapes are designed for hardware-accelerated workloads, with Intel or AMD CPUs and NVIDIA graphics processors. Some bare metal GPU shapes support cluster networking.',\n",
       "  'What are HPC and optimized shapes in Oracle Cloud Infrastructure for?\\n\\nHPC and optimized shapes are designed for high-performance computing workloads that require high-frequency processor cores, and they support cluster networking.',\n",
       "  'Where can I find more information about the available shapes in Oracle Cloud Infrastructure?\\n\\nYou can find more information about the available bare metal and VM shapes in the provided links.',\n",
       "  'How do you provision and manage compute hosts in Oracle Cloud Infrastructure?\\n\\nYou can provision and manage compute hosts using Oracle Cloud Infrastructure Compute.',\n",
       "  'What happens to local drive changes when you terminate an instance in Oracle Cloud Infrastructure?\\n\\nLocal drive changes are lost when you terminate an instance.',\n",
       "  'What is the primary benefit of using bare metal compute instances in Oracle Cloud Infrastructure?\\n\\nBare metal compute instances provide dedicated physical server access for the highest performance and strong isolation.',\n",
       "  'What is the purpose of a virtual machine (VM) instance in Oracle Cloud Infrastructure?\\n\\nA VM instance is an independent computing environment that runs on top of physical bare metal hardware, allowing isolation and the ability to run multiple VMs.',\n",
       "  'Where can I find additional information about the Compute service and related services in Oracle Cloud Infrastructure?\\n\\nYou can find more information about the Compute service and related services by following the provided link.',\n",
       "  'What important information should you review when working with Compute instances in Oracle Cloud Infrastructure?\\n\\nIt is essential to review the \"Best Practices for Your Compute Instances\" for important guidance on working with your Compute instances.',\n",
       "  'How can you apply critical kernel patches to Linux instances in Oracle Cloud Infrastructure without rebooting?\\n\\nYou can use Oracle Ksplice to apply critical kernel patches to Linux instances without the need for a reboot. This works for Oracle Linux, CentOS, and Ubuntu.',\n",
       "  \"Is Compute part of Oracle Cloud Infrastructure's Always Free resources?\\n\\nYes, Compute is Always Free eligible. You can find more details, including capabilities and limitations, in the provided link.\",\n",
       "  'What considerations should you take into account when selecting an instance type for your applications in Oracle Cloud Infrastructure?\\n\\nWhen creating a compute instance, you should consider factors like the number of CPUs, amount of memory, and network resources to choose the most suitable instance type for your applications.',\n",
       "  'What are burstable instances, and how do they function in Oracle Cloud Infrastructure?\\n\\nBurstable instances in Oracle Cloud Infrastructure are virtual machine (VM) instances that provide a baseline level of CPU performance but can burst to a higher level to support occasional spikes in usage.',\n",
       "  'What is the purpose of shielded instances in Oracle Cloud Infrastructure?\\n\\nShielded instances in Oracle Cloud Infrastructure enhance the firmware security on both bare metal hosts and VMs to defend against malicious boot-level software.',\n",
       "  'What distinguishes extended memory VM instances in Oracle Cloud Infrastructure from standard shapes?\\n\\nExtended memory VM instances offer more memory and cores than standard shapes, making them ideal for workloads that require additional resources.',\n",
       "  'What categories of shapes are available in Oracle Cloud Infrastructure to meet different compute and application requirements?\\n\\nOracle Cloud Infrastructure provides various shape categories, including standard shapes, DenseIO shapes, GPU shapes, and high-performance computing (HPC) and optimized shapes.',\n",
       "  'When would you choose DenseIO shapes for your workloads in Oracle Cloud Infrastructure?\\n\\nDenseIO shapes are suitable for large databases, big data workloads, and applications that require high-performance local storage with locally-attached NVMe-based SSDs.',\n",
       "  'What are GPU shapes typically used for in Oracle Cloud Infrastructure?\\n\\nGPU shapes in Oracle Cloud Infrastructure are designed for hardware-accelerated workloads and include Intel or AMD CPUs and NVIDIA graphics processors. Some bare metal GPU shapes support cluster networking.',\n",
       "  'In which scenarios are HPC and optimized shapes in Oracle Cloud Infrastructure beneficial?\\n\\nHPC and optimized shapes are designed for high-performance computing workloads that require high-frequency processor cores and are suitable for applications that need cluster networking.',\n",
       "  'Where can I access more detailed information about the available shapes in Oracle Cloud Infrastructure?\\n\\nYou can find more detailed information about the available bare metal and VM shapes in the provided links.',\n",
       "  'How does Oracle Cloud Infrastructure Compute pricing work?\\n\\nOracle Cloud Infrastructure Compute pricing is based on the resources you consume, including instances, storage, and networking. It varies depending on the instance type and usage.',\n",
       "  \"Can you resize a compute instance in Oracle Cloud Infrastructure after it's been created?\\n\\nYes, you can resize a compute instance in Oracle Cloud Infrastructure to change its shape and allocate more or fewer resources as needed.\",\n",
       "  'What is the process of attaching a volume to a compute instance in Oracle Cloud Infrastructure?\\n\\nTo attach a volume to a compute instance, you can use the Oracle Cloud Infrastructure Console, the command line interface, or the API to specify the instance and the volume to attach.',\n",
       "  'How do you detach a volume from a compute instance in Oracle Cloud Infrastructure?\\n\\nTo detach a volume from a compute instance, you can use the Oracle Cloud Infrastructure Console, the command line interface, or the API to specify the instance and the volume to detach.',\n",
       "  \"What is the purpose of creating a snapshot of a volume in Oracle Cloud Infrastructure?\\n\\nCreating a snapshot of a volume in Oracle Cloud Infrastructure allows you to capture a point-in-time copy of the volume's data for backup or cloning purposes.\",\n",
       "  'Can you access compute instances in Oracle Cloud Infrastructure from a remote location?\\n\\nYes, you can access compute instances in Oracle Cloud Infrastructure securely from a remote location using SSH or RDP, depending on the operating system.',\n",
       "  'How can you restart a compute instance in Oracle Cloud Infrastructure?\\n\\nYou can restart a compute instance in Oracle Cloud Infrastructure using the Oracle Cloud Infrastructure Console, the command line interface, or the API.',\n",
       "  'What happens to local drives when you restart a compute instance in Oracle Cloud Infrastructure?\\n\\nLocal drive contents remain intact when you restart a compute instance in Oracle Cloud Infrastructure.',\n",
       "  'How does Oracle Cloud Infrastructure handle saved changes to volumes attached to a compute instance when it is terminated?\\n\\nOracle Cloud Infrastructure retains saved changes to volumes attached to a compute instance even when the instance is terminated.',\n",
       "  'What is the purpose of Oracle Cloud Infrastructure Always Free resources?\\n\\nOracle Cloud Infrastructure Always Free resources provide a way to use certain services and resources in the cloud for free, with limitations on usage.',\n",
       "  'Are there any limitations to using Oracle Cloud Infrastructure Always Free resources?\\n\\nYes, Always Free resources in Oracle Cloud Infrastructure have usage limitations and are subject to specific terms and conditions.',\n",
       "  'What considerations should be taken into account when selecting the appropriate instance type for an application in Oracle Cloud Infrastructure?\\n\\nFactors such as CPU count, memory size, and network resources should be considered when choosing the right instance type for an application in Oracle Cloud Infrastructure.',\n",
       "  'How do burstable instances differ from standard instances in Oracle Cloud Infrastructure?\\n\\nBurstable instances provide a baseline level of CPU performance but can burst to a higher level for brief periods, whereas standard instances offer consistent CPU performance.',\n",
       "  'What are the characteristics of shielded instances in Oracle Cloud Infrastructure?\\n\\nShielded instances have enhanced firmware security on both bare metal hosts and VMs to protect against malicious boot-level software.',\n",
       "  'When is it beneficial to use extended memory VM instances in Oracle Cloud Infrastructure?\\n\\nExtended memory VM instances are useful for workloads that require more memory and cores than what is available with standard shapes.',\n",
       "  'Can you run multiple VMs on the same hardware with Oracle Cloud Infrastructure VM compute instances?\\n\\nYes, Oracle Cloud Infrastructure VM compute instances allow you to run multiple VMs on the same physical hardware, providing isolation.',\n",
       "  'What are the main differences between Intel and AMD processors in Oracle Cloud Infrastructure GPU shapes?\\n\\nGPU shapes in Oracle Cloud Infrastructure come with either Intel or AMD CPUs and NVIDIA graphics processors, but the primary difference lies in the CPU manufacturer.',\n",
       "  'What is cluster networking, and which Oracle Cloud Infrastructure shapes support it?\\n\\nCluster networking allows high-performance networking between instances. Some bare metal GPU shapes in Oracle Cloud Infrastructure support cluster networking.',\n",
       "  'What advantages do standard shapes offer for general-purpose workloads in Oracle Cloud Infrastructure?\\n\\nStandard shapes provide a balanced combination of cores, memory, and network resources, making them suitable for a wide range of applications.',\n",
       "  'How can DenseIO shapes benefit workloads that require high-performance local storage?\\n\\nDenseIO shapes in Oracle Cloud Infrastructure are equipped with locally-attached NVMe-based SSDs, making them ideal for workloads demanding high-performance local storage.',\n",
       "  'What types of workloads benefit from Oracle Cloud Infrastructure GPU shapes?\\n\\nOracle Cloud Infrastructure GPU shapes are designed for hardware-accelerated workloads, including those that require GPU acceleration for specific tasks.',\n",
       "  'What is the key advantage of HPC and optimized shapes in Oracle Cloud Infrastructure?\\n\\nHPC and optimized shapes offer high-frequency processor cores, making them suitable for high-performance computing workloads.',\n",
       "  'How does Oracle Cloud Infrastructure charge for compute instances?\\n\\nOracle Cloud Infrastructure charges for compute instances based on factors like the instance type, storage usage, and network data transfer.',\n",
       "  'Can you modify the configuration of a running compute instance in Oracle Cloud Infrastructure?\\n\\nYes, you can modify the configuration of a running compute instance in Oracle Cloud Infrastructure, including resizing the instance.',\n",
       "  'What is the Oracle Cloud Infrastructure Console, and how can it be used to manage compute instances?\\n\\nThe Oracle Cloud Infrastructure Console is a web-based interface that allows you to manage compute instances, create and modify resources, and monitor your cloud environment.',\n",
       "  'Is there a command line interface available for managing compute instances in Oracle Cloud Infrastructure?\\n\\nYes, Oracle Cloud Infrastructure provides a command line interface (CLI) that you can use to manage compute instances, volumes, and other resources.',\n",
       "  'What is the API, and how is it used to interact with Oracle Cloud Infrastructure Compute services?\\n\\nThe API (Application Programming Interface) allows developers to interact with Oracle Cloud Infrastructure Compute services programmatically, enabling automation and integration with other applications.',\n",
       "  'What is the purpose of an instance shape in Oracle Cloud Infrastructure?\\n\\nAn instance shape in Oracle Cloud Infrastructure defines the number of CPUs, amount of memory, and network resources allocated to a compute instance.',\n",
       "  'Can you change the shape of a running compute instance in Oracle Cloud Infrastructure?\\n\\nYes, you can change the shape of a running compute instance in Oracle Cloud Infrastructure by resizing it to a different instance shape.',\n",
       "  'How can you allocate more resources to a compute instance in Oracle Cloud Infrastructure?\\n\\nYou can allocate more resources to a compute instance by resizing it to a larger instance shape that offers more CPUs, memory, and network resources.',\n",
       "  'What is the recommended practice for backing up data in Oracle Cloud Infrastructure?\\n\\nThe recommended practice for backing up data in Oracle Cloud Infrastructure is to create snapshots of volumes to capture point-in-time copies of data.',\n",
       "  \"What is the purpose of SSH in Oracle Cloud Infrastructure, and how is it used for secure access?\\n\\nSSH (Secure Shell) is used for secure remote access to compute instances in Oracle Cloud Infrastructure, allowing secure communication between the user's computer and the instance.\",\n",
       "  \"How do you use RDP to access Windows-based compute instances in Oracle Cloud Infrastructure?\\n\\nRemote Desktop Protocol (RDP) is used to access Windows-based compute instances in Oracle Cloud Infrastructure, enabling remote graphical access to the instance's desktop.\",\n",
       "  'What are the options for securely accessing Linux-based compute instances in Oracle Cloud Infrastructure?\\n\\nSecure access to Linux-based compute instances in Oracle Cloud Infrastructure can be achieved using SSH, which provides secure command-line access.',\n",
       "  'What are the primary security considerations when accessing compute instances in Oracle Cloud Infrastructure?\\n\\nSecurity considerations when accessing compute instances in Oracle Cloud Infrastructure include proper authentication, secure access methods, and the use of security groups and firewalls to control network traffic.',\n",
       "  'What is the Oracle Cloud Infrastructure Marketplace, and how does it relate to compute instances?\\n\\nThe Oracle Cloud Infrastructure Marketplace is a platform that offers a wide range of pre-configured software and solutions that can be easily deployed on compute instances.',\n",
       "  'How can you deploy applications and services on compute instances in Oracle Cloud Infrastructure?\\n\\nYou can deploy applications and services on compute instances in Oracle Cloud Infrastructure by configuring the instance with the required software, libraries, and configurations.',\n",
       "  'What is the significance of using Oracle Ksplice for critical kernel patches in Oracle Cloud Infrastructure?\\n\\nOracle Ksplice allows critical kernel patches to be applied to Linux instances without the need to reboot, ensuring continuous availability and reducing downtime.',\n",
       "  'How do extended memory VM instances differ from standard VM instances in Oracle Cloud Infrastructure?\\n\\nExtended memory VM instances provide more memory and cores than standard VM instances, making them suitable for memory-intensive workloads.',\n",
       "  'What types of workloads benefit from using Oracle Cloud Infrastructure standard shapes?\\n\\nOracle Cloud Infrastructure standard shapes are versatile and can accommodate a wide range of general-purpose workloads, including web applications, databases, and development environments.',\n",
       "  'What is the advantage of using DenseIO shapes in Oracle Cloud Infrastructure for workloads?\\n\\nDenseIO shapes are ideal for workloads that require high-performance local storage, such as large databases, big data analytics, and applications that depend on low-latency storage.',\n",
       "  'How can GPU shapes in Oracle Cloud Infrastructure accelerate workloads?\\n\\nGPU shapes in Oracle Cloud Infrastructure come with graphics processors that accelerate workloads like machine learning, rendering, and video processing by offloading computation to the GPU.',\n",
       "  'In which situations would you use HPC and optimized shapes in Oracle Cloud Infrastructure?\\n\\nHPC and optimized shapes are designed for high-performance computing workloads, including scientific simulations, modeling, and rendering tasks that require maximum processing power.',\n",
       "  'What is cluster networking, and why is it important for certain workloads in Oracle Cloud Infrastructure?\\n\\nCluster networking allows instances to communicate efficiently with each other over a high-speed, low-latency network, making it crucial for workloads requiring coordinated parallel processing.',\n",
       "  'How do Intel-based and AMD-based GPU shapes in Oracle Cloud Infrastructure differ in terms of performance?\\n\\nIntel-based and AMD-based GPU shapes may offer different performance levels, and the choice between them depends on the specific requirements of your workload.',\n",
       "  'What is the primary benefit of Oracle Cloud Infrastructure Compute Shapes?\\n\\nOracle Cloud Infrastructure Compute Shapes offer a wide range of options to match your specific workload requirements, from general-purpose to high-performance computing.',\n",
       "  'How does Oracle Cloud Infrastructure charge for storage usage in compute instances?\\n\\nOracle Cloud Infrastructure charges for storage usage based on the amount of storage attached to your compute instances, with pricing varying depending on the type and volume of storage.',\n",
       "  'Can you change the shape of a compute instance while it is running in Oracle Cloud Infrastructure?\\n\\nYes, you can change the shape of a running compute instance in Oracle Cloud Infrastructure to allocate more or fewer resources as needed.',\n",
       "  'What is the Oracle Cloud Infrastructure Compute API, and how can it be used?\\n\\nThe Oracle Cloud Infrastructure Compute API allows developers to programmatically manage and interact with compute instances, including creating, modifying, and terminating instances.',\n",
       "  'What options are available for monitoring and managing compute instances in Oracle Cloud Infrastructure?\\n\\nYou can use the Oracle Cloud Infrastructure Console, the command line interface (CLI), and the API for monitoring and managing compute instances.',\n",
       "  'How can you automate the management of compute instances in Oracle Cloud Infrastructure?\\n\\nYou can automate the management of compute instances by using scripts and tools that interact with the Oracle Cloud Infrastructure API, allowing for programmatic control and automation.',\n",
       "  \"What is the primary purpose of a snapshot in Oracle Cloud Infrastructure?\\n\\nA snapshot in Oracle Cloud Infrastructure is used to capture a point-in-time copy of a volume's data, providing a backup or cloning mechanism.\",\n",
       "  'Can you modify the configuration of a compute instance in Oracle Cloud Infrastructure while it is running?\\n\\nYes, you can modify the configuration of a running compute instance in Oracle Cloud Infrastructure, including resizing the instance to allocate more or fewer resources.',\n",
       "  \"What are the key differences between Oracle Cloud Infrastructure's bare metal compute instances and virtual machine (VM) instances, and how do these differences impact application performance?\\n\\nBare metal compute instances provide dedicated physical server access, offering superior performance and isolation compared to VM instances that share hardware. The impact on application performance depends on the specific workload; applications requiring high isolation and performance may benefit from bare metal instances, while VMs are suitable for less resource-intensive workloads.\",\n",
       "  'Can you explain the process of securely attaching volumes to a compute instance in Oracle Cloud Infrastructure, and how does this capability facilitate data management and application scalability?\\n\\nSecurely attaching volumes to a compute instance involves using the Oracle Cloud Infrastructure Console, CLI, or API to specify the instance and volume for attachment. This capability facilitates data management by enabling the expansion of storage without impacting existing data, and it supports application scalability as more storage can be added as needed.',\n",
       "  'What is the significance of creating snapshots for volumes in Oracle Cloud Infrastructure, and how does this practice contribute to data protection and disaster recovery strategies?\\n\\nCreating snapshots for volumes allows users to capture point-in-time copies of data, which is crucial for data protection and disaster recovery. Snapshots serve as backup copies that can be restored in case of data loss or system failures, enhancing the overall resilience of applications and systems.',\n",
       "  'In Oracle Cloud Infrastructure, how do you effectively access compute instances from remote locations, and what role do SSH and RDP play in this process?\\n\\nSecure access to compute instances from remote locations in Oracle Cloud Infrastructure can be achieved using SSH for Linux-based instances and RDP for Windows-based instances. SSH and RDP facilitate secure and encrypted connections, allowing remote management and administration of instances from anywhere with an internet connection.',\n",
       "  'Could you elaborate on the concept of Always Free resources in Oracle Cloud Infrastructure, and how can users leverage them for various use cases while staying within the specified limitations?\\n\\nAlways Free resources in Oracle Cloud Infrastructure are services and resources that can be used without incurring charges, subject to certain usage limitations. Users can leverage these resources for development, testing, small-scale applications, and learning purposes, all while adhering to the restrictions outlined in the terms and conditions.',\n",
       "  'When selecting the appropriate instance type for an application in Oracle Cloud Infrastructure, what key factors should be considered, and how do these factors influence the overall performance and resource allocation of the instances?\\n\\nSelecting the right instance type in Oracle Cloud Infrastructure involves evaluating factors such as CPU count, memory size, and network resources. These factors determine the performance and resource allocation of instances, ensuring they meet the specific demands of the application, whether it requires high CPU power, ample memory, or extensive network capabilities.',\n",
       "  'What role do burstable instances play in Oracle Cloud Infrastructure, and how can they balance CPU performance for applications with variable workloads? Can you provide an example of a use case?\\n\\nBurstable instances in Oracle Cloud Infrastructure provide a baseline level of CPU performance with the ability to burst to a higher level when required. They are ideal for applications with variable workloads, such as web servers that experience occasional traffic spikes. The baseline ensures consistent performance, while the burst capability handles increased load.',\n",
       "  'How do shielded instances enhance security in Oracle Cloud Infrastructure, and what types of security threats do they protect against? Can you provide an example of a scenario where shielded instances are beneficial?\\n\\nShielded instances in Oracle Cloud Infrastructure harden firmware security to defend against malicious boot-level software and firmware-based attacks. They protect against threats such as rootkits and other malicious code that might compromise system integrity. For instance, shielded instances are valuable in financial institutions where security and compliance are paramount.',\n",
       "  'What is the primary use case for extended memory VM instances in Oracle Cloud Infrastructure, and how do they contribute to the performance and scalability of memory-intensive workloads?\\n\\nExtended memory VM instances are designed for memory-intensive workloads that require more memory and cores. They enhance the performance and scalability of such workloads, allowing them to handle larger datasets, in-memory processing, and applications like real-time analytics or high-performance databases.',\n",
       "  \"How can Oracle Cloud Infrastructure's shape categories, including standard, DenseIO, GPU, and HPC/optimized shapes, meet the diverse needs of various applications? Can you provide examples of applications that benefit from each shape category?\\n\\nOracle Cloud Infrastructure's shape categories cater to a wide range of applications. Standard shapes suit general-purpose workloads, while DenseIO shapes are ideal for data-intensive applications. GPU shapes are tailored for machine learning and graphics-heavy workloads. HPC/optimized shapes are intended for high-performance computing, making them suitable for scientific simulations and research applications.\",\n",
       "  'What is cluster networking in Oracle Cloud Infrastructure, and how does it optimize communication between instances in a cluster? Could you provide an example of a use case where cluster networking is advantageous?\\n\\nCluster networking in Oracle Cloud Infrastructure enables instances to communicate efficiently with low latency, optimizing coordination between instances in a cluster. It is beneficial for applications like scientific simulations where multiple instances must work together to solve complex problems, requiring rapid data exchange between nodes.',\n",
       "  \"In Oracle Cloud Infrastructure, what are the key differences between Intel and AMD processors in GPU shapes, and how does the choice impact GPU-accelerated workloads?\\n\\nIntel and AMD processors in GPU shapes may offer different performance characteristics, and the choice depends on the specific requirements of GPU-accelerated workloads. For example, an application favoring Intel's CPU architecture may benefit from Intel-based GPU shapes, while others optimized for AMD may choose AMD-based GPU shapes.\",\n",
       "  'How do Oracle Cloud Infrastructure Compute Shapes address the needs of various applications, from general-purpose workloads to high-performance computing, and how can users make informed decisions when selecting the most suitable shape for their applications?\\n\\nOracle Cloud Infrastructure Compute Shapes offer a range of options, ensuring users can match specific workload requirements. General-purpose shapes are well-suited for diverse applications, while specialized shapes like HPC/optimized are tailored for high-performance computing. Users should assess their application requirements in terms of CPU power, memory, and network resources to make informed shape selections.',\n",
       "  'What factors influence Oracle Cloud Infrastructure Compute pricing, and how can users manage their costs effectively while provisioning and managing instances?\\n\\nOracle Cloud Infrastructure Compute pricing is influenced by instance type, storage usage, and network data transfer. To manage costs effectively, users should select the most appropriate instance type for their workloads, optimize storage usage, and monitor network data transfer, ensuring that resources are\\n\\n allocated efficiently.',\n",
       "  'Can you elaborate on the ways in which users can monitor and manage compute instances in Oracle Cloud Infrastructure, and how can automation and scripting be employed for streamlined management?\\n\\nUsers can monitor and manage compute instances in Oracle Cloud Infrastructure using the Console, CLI, and API. Automation and scripting allow for streamlined management by enabling programmatic control and automation of tasks, ensuring efficient resource allocation and maintenance.',\n",
       "  'What role does the Oracle Cloud Infrastructure Marketplace play in simplifying the deployment of software and solutions on compute instances, and how can users benefit from this platform?\\n\\nThe Oracle Cloud Infrastructure Marketplace simplifies the deployment of pre-configured software and solutions on compute instances, reducing setup time and complexity. Users can take advantage of a wide range of readily available solutions for their applications, saving time and effort in configuring and installing software.',\n",
       "  'Can you explain the use of Oracle Ksplice for applying critical kernel patches in Oracle Cloud Infrastructure, and how does this practice contribute to system availability and security?\\n\\nOracle Ksplice allows critical kernel patches to be applied to Linux instances without requiring a system reboot. This practice enhances system availability by reducing downtime during patch application, ensuring that applications remain accessible. It also contributes to security by keeping systems up-to-date and protected against vulnerabilities.',\n",
       "  'In the context of Oracle Cloud Infrastructure, how do extended memory VM instances differ from standard VM instances, and when should users opt for extended memory VMs?\\n\\nExtended memory VM instances offer more memory and cores than standard VM instances, making them suitable for memory-intensive workloads. Users should opt for extended memory VMs when their applications require a higher amount of memory and processing power to handle large datasets or in-memory processing.',\n",
       "  'What are some examples of workloads that benefit from using Oracle Cloud Infrastructure standard shapes, and how do these shapes provide a balanced combination of resources for general-purpose use?\\n\\nOracle Cloud Infrastructure standard shapes are suitable for a variety of general-purpose workloads, including web applications, databases, and development environments. These shapes provide a balance of CPU cores, memory, and network resources, ensuring versatility for different applications.',\n",
       "  'What advantages do DenseIO shapes offer for specific workloads in Oracle Cloud Infrastructure, and how do locally-attached NVMe-based SSDs enhance the performance of data-intensive applications?\\n\\nDenseIO shapes in Oracle Cloud Infrastructure are well-suited for data-intensive workloads, such as large databases and big data analytics. Locally-attached NVMe-based SSDs provide low-latency, high-performance storage, which is crucial for applications that depend on rapid access to data.',\n",
       "  'How can GPU shapes in Oracle Cloud Infrastructure accelerate specific workloads, and what types of applications benefit from the GPU acceleration they provide?\\n\\nGPU shapes in Oracle Cloud Infrastructure come with graphics processors that accelerate workloads such as machine learning, rendering, and video processing. Applications that require GPU acceleration for tasks like image recognition, 3D rendering, or scientific simulations benefit from these shapes.',\n",
       "  'When should users consider employing HPC and optimized shapes in Oracle Cloud Infrastructure, and what types of high-performance computing workloads are most compatible with these shapes?\\n\\nHPC and optimized shapes in Oracle Cloud Infrastructure are suitable for high-performance computing workloads that require high-frequency processor cores. Scientific simulations, finite element analysis, and rendering tasks are examples of workloads that benefit from the increased processing power of these shapes.',\n",
       "  'What is cluster networking in Oracle Cloud Infrastructure, and how does it support efficient communication between instances? Can you provide an example of a scenario where cluster networking is vital?\\n\\nCluster networking enables instances in Oracle Cloud Infrastructure to communicate efficiently with low latency, facilitating coordinated parallel processing. It is essential for scenarios like running a distributed database where multiple nodes must exchange data quickly and efficiently to maintain data consistency.',\n",
       "  'How do Intel and AMD-based GPU shapes differ in Oracle Cloud Infrastructure, and how should users choose between them based on their specific workload requirements?\\n\\nIntel and AMD-based GPU shapes may differ in terms of performance characteristics. Users should choose between them based on the compatibility of their workload with a particular CPU architecture. For instance, if their application is optimized for Intel CPUs, an Intel-based GPU shape would be the preferred choice.',\n",
       "  'How does Oracle Cloud Infrastructure Compute Shapes cater to the diverse needs of various applications, and what are some factors that users should consider when selecting the most suitable shape for their workloads?\\n\\nOracle Cloud Infrastructure Compute Shapes offer a variety of options, from general-purpose to specialized shapes, to accommodate diverse application needs. Users should consider factors such as CPU requirements, memory size, and network resources to select the shape that aligns with the specific demands of their workloads.',\n",
       "  'What factors influence Oracle Cloud Infrastructure Compute pricing, and how can users effectively manage their costs while provisioning and managing instances for their applications?\\n\\nOracle Cloud Infrastructure Compute pricing is determined by factors including instance type, storage usage, and network data transfer. To manage costs effectively, users should choose cost-efficient instance types, optimize storage usage, and monitor network data transfer, ensuring that resources are used efficiently.',\n",
       "  'How do users access and manage compute instances in Oracle Cloud Infrastructure, and what role does automation play in streamlining these processes for efficient resource allocation?\\n\\nUsers can access and manage compute instances in Oracle Cloud Infrastructure through the Console, CLI, and API. Automation is essential for streamlining these processes by enabling programmatic control and the automation of routine tasks, ensuring efficient resource allocation and maintenance.',\n",
       "  'How can the Oracle Cloud Infrastructure Marketplace simplify the deployment of software and solutions on compute instances, and what are the potential benefits for users leveraging this platform?\\n\\nThe Oracle Cloud Infrastructure Marketplace simplifies software deployment by offering pre-configured solutions for easy installation. Users can benefit from reduced setup time and effort, access a wide range of applications, and ensure the efficient deployment of software and services on their compute instances.',\n",
       "  'Can you explain the role of Oracle Ksplice in applying critical kernel patches in Oracle Cloud Infrastructure, and how does this practice contribute to enhanced system availability and security?\\n\\nOracle Ksplice facilitates the application of critical kernel patches to Linux instances without the need for system reboots. This contributes to enhanced system availability by minimizing downtime during patching, ensuring uninterrupted access to applications. Additionally, it bolsters security by keeping systems up-to-date and protected against vulnerabilities.',\n",
       "  'In the context of Oracle Cloud Infrastructure, what distinguishes extended memory VM instances from standard VM instances, and when should users consider utilizing extended memory VMs?\\n\\nExtended memory VM instances in Oracle Cloud Infrastructure offer more memory and cores than standard VM instances, making them suitable for memory-intensive workloads. Users should consider extended memory VMs when their applications require additional memory and processing power for tasks like in-memory processing, real-time analytics, or high-performance databases.',\n",
       "  'How do DenseIO shapes in Oracle Cloud Infrastructure enhance the performance of data-intensive workloads, and what is the role of locally-attached NVMe-based SSDs in achieving this improvement?\\n\\nDenseIO shapes are tailored for data-intensive workloads, such as large databases and big data analytics. The inclusion\\n\\n of locally-attached NVMe-based SSDs in these shapes significantly boosts performance by providing low-latency, high-speed storage, which is crucial for applications that depend on rapid data access.',\n",
       "  'In Oracle Cloud Infrastructure, how do Intel and AMD-based GPU shapes differ, and what considerations should users take into account when choosing between them based on their workload requirements?\\n\\nIntel and AMD-based GPU shapes may differ in terms of performance characteristics. Users should consider the compatibility of their workload with a specific CPU architecture when choosing between them. For instance, if an application is optimized for Intel CPUs, selecting an Intel-based GPU shape is advisable.',\n",
       "  \"How do Oracle Cloud Infrastructure Compute Shapes cater to a diverse range of application needs, from general-purpose workloads to high-performance computing, and what factors should users consider when selecting the most suitable shape for their applications?\\n\\nOracle Cloud Infrastructure Compute Shapes offer a variety of options to meet specific application requirements. General-purpose shapes are versatile and suitable for a wide range of applications, while specialized shapes, such as HPC/optimized, are tailored for high-performance computing. Users should assess their applications' needs in terms of CPU power, memory, and network resources to make informed shape selections.\",\n",
       "  'What factors impact Oracle Cloud Infrastructure Compute pricing, and how can users effectively manage their costs while provisioning and managing instances for their applications?\\n\\nOracle Cloud Infrastructure Compute pricing is influenced by instance type, storage usage, and network data transfer. Users can manage costs effectively by choosing cost-efficient instance types, optimizing storage usage, and monitoring network data transfer to ensure resources are used efficiently.',\n",
       "  'How can users access and manage compute instances in Oracle Cloud Infrastructure, and how does automation enhance the efficiency of resource allocation and management?\\n\\nUsers can access and manage compute instances in Oracle Cloud Infrastructure using the Console, CLI, and API. Automation plays a crucial role in streamlining resource allocation and management by enabling programmatic control and the automation of routine tasks, ensuring efficient resource utilization and maintenance.',\n",
       "  'How does the Oracle Cloud Infrastructure Marketplace simplify the deployment of software and solutions on compute instances, and what benefits can users gain from utilizing this platform?\\n\\nThe Oracle Cloud Infrastructure Marketplace simplifies software and solution deployment by offering pre-configured options for easy installation. Users can benefit from reduced setup time and complexity, access a wide range of applications, and ensure efficient software deployment on their compute instances.',\n",
       "  'Can you explain how Oracle Ksplice is utilized to apply critical kernel patches in Oracle Cloud Infrastructure, and what advantages does this approach offer in terms of system availability and security?\\n\\nOracle Ksplice allows for the application of critical kernel patches to Linux instances in Oracle Cloud Infrastructure without requiring a system reboot. This approach enhances system availability by minimizing downtime during patching, ensuring uninterrupted access to applications. Additionally, it contributes to security by keeping systems up-to-date and safeguarded against vulnerabilities.',\n",
       "  'What is the purpose of GPU shapes in Oracle Cloud Infrastructure, and how do they accelerate workloads? Can you provide examples of applications that benefit from GPU acceleration?\\n\\nGPU shapes in Oracle Cloud Infrastructure are designed to accelerate specific workloads by incorporating graphics processors. Applications such as machine learning, video rendering, and scientific simulations benefit from GPU acceleration, as it offloads computation to the GPU, resulting in faster and more efficient processing.',\n",
       "  'What is cluster networking in Oracle Cloud Infrastructure, and how does it enable efficient communication between instances? Can you provide a scenario where cluster networking plays a crucial role?\\n\\nCluster networking in Oracle Cloud Infrastructure facilitates efficient and low-latency communication between instances, supporting coordinated parallel processing. It is essential for scenarios such as running a distributed database where multiple nodes must exchange data rapidly to maintain data consistency and availability.',\n",
       "  'When is it advisable to use HPC and optimized shapes in Oracle Cloud Infrastructure, and what types of high-performance computing workloads are well-suited for these shapes?\\n\\nHPC and optimized shapes in Oracle Cloud Infrastructure are best suited for high-performance computing workloads that require high-frequency processor cores. Examples of such workloads include scientific simulations, computational modeling, and rendering tasks that demand maximum processing power.',\n",
       "  'What are the different types of host capacity available for launching compute instances?\\n\\nThere are four types of host capacity you can choose from: On-demand capacity, preemptible capacity, reserved capacity, and dedicated capacity.',\n",
       "  \"What is on-demand capacity, and how does it work?\\n\\nOn-demand capacity allows you to pay only for the compute capacity you use, with charges incurred by the second. You pay solely for the seconds your instances are running, but it's important to note that capacity availability is not guaranteed for large workloads.\",\n",
       "  'Can you explain preemptible capacity and its purpose?\\n\\nPreemptible capacity is a cost-saving option where you use preemptible instances for workloads that run briefly or can be interrupted when the capacity is needed elsewhere. These instances function like regular compute instances, but they are terminated when the capacity is reclaimed.',\n",
       "  'What is the advantage of using preemptible capacity?\\n\\nThe primary advantage of preemptible capacity is cost savings. Since you pay less for these instances, they are an economical choice for workloads with flexibility in execution timing.',\n",
       "  'How does reserved capacity work, and what is its purpose?\\n\\nReserved capacity involves reserving capacity for future use and ensuring its availability when you need to create compute instances. The reserved capacity is consumed when you launch instances against the reservation, and it increases when instances are terminated.',\n",
       "  'What is the key benefit of reserved capacity?\\n\\nThe main benefit of reserved capacity is the assurance of available resources for your compute instances, offering predictability and a way to maintain reserved capacity for your specific needs.',\n",
       "  'What is dedicated capacity, and when would you use it?\\n\\nDedicated capacity allows you to run VM instances on servers exclusive to your tenancy, ensuring they are not shared with other customers. This is ideal for meeting compliance and regulatory requirements for isolation and node-based or host-based licensing needs.',\n",
       "  'How can dedicated capacity be useful for compliance requirements?\\n\\nDedicated capacity is valuable for achieving compliance as it guarantees that your VM instances are isolated, which is often a requirement in certain compliance standards. It provides a higher level of security and control over your infrastructure.',\n",
       "  'Are there any limitations to these capacity types?\\n\\nYes, service limits and compartment quotas apply to all host capacity types. If you plan to reserve capacity that exceeds your service limits, you must request a service limit increase in advance.',\n",
       "  'What happens to unused reserved capacity?\\n\\nUnused reserved capacity is metered differently than used reserved capacity. When instances launched against reserved capacity are terminated, the unused capacity is returned to the reservation, increasing the overall available reserved capacity.',\n",
       "  'How can I get more information about these different capacity types?\\n\\nFor more detailed information about each capacity type, you can refer to the respective documentation: Preemptible Instances for preemptible capacity, Capacity Reservations for reserved capacity, and Dedicated Virtual Machine Hosts for dedicated capacity.',\n",
       "  'Is there a way to request an increase in service limits for reserved capacity?\\n\\nYes, if you anticipate that your reserved capacity needs will exceed your current service limits, you should request a service limit increase. This ensures that you can reserve the necessary capacity when required.',\n",
       "  'Is there a default capacity type when launching compute instances?\\n\\nYes, the default capacity type for launching compute instances is on-demand capacity. This means that you will pay for compute capacity based on actual usage, with charges incurred by the second.',\n",
       "  'Can you use preemptible instances for long-running workloads?\\n\\nPreemptible instances are designed for workloads that run for brief periods or can be interrupted when capacity is needed elsewhere. They are not suitable for long-running workloads.',\n",
       "  'Is preemptible capacity available on a first-come, first-served basis?\\n\\nYes, preemptible instances are allocated on a first-come, first-served basis, and the capacity may not always be immediately available.',\n",
       "  'What is the key advantage of using dedicated capacity over other types?\\n\\nThe primary advantage of dedicated capacity is the complete isolation it provides, making it ideal for meeting strict compliance requirements and specific licensing needs.',\n",
       "  'Are there any additional costs associated with using dedicated capacity?\\n\\nYes, using dedicated capacity typically involves higher costs compared to other capacity types due to the exclusive use of dedicated servers.',\n",
       "  'Can you change the type of host capacity for an existing instance?\\n\\nHost capacity types are generally selected at the time of instance creation. You cannot easily change the capacity type for an existing instance.',\n",
       "  'What should you do if you need to switch from on-demand capacity to reserved capacity?\\n\\nTo switch from on-demand capacity to reserved capacity, you would need to create new instances under the reserved capacity model and manage the transition carefully.',\n",
       "  \"Are there limitations to how much reserved capacity you can request?\\n\\nYes, your request for reserved capacity is subject to service limits. If you anticipate exceeding these limits, it's advisable to request a service limit increase.\",\n",
       "  'What are some use cases for using preemptible capacity?\\n\\nPreemptible capacity is suitable for tasks like batch processing, data analysis, rendering, and other short-term workloads that can tolerate interruptions.',\n",
       "  'Can you use dedicated capacity for workloads that require high levels of security?\\n\\nYes, dedicated capacity is an excellent choice for workloads that demand a high level of security and isolation, as it ensures your instances run on servers exclusive to your tenancy.',\n",
       "  'How can I ensure that I have access to the capacity type I need when I need it?\\n\\nYou can use reserved capacity to ensure you have access to the capacity you need when you need it. This involves reserving capacity in advance to guarantee availability for your compute instances.',\n",
       "  'What are the components required to launch an instance in Oracle Cloud Infrastructure?\\n\\nTo launch an instance in Oracle Cloud Infrastructure, you need the following components:\\n\\n- Availability domain, which is the data center hosting cloud resources in your geographical region.\\n- Virtual cloud network, a virtualized network environment that includes subnets, route tables, and gateways.\\n- Key pair (for Linux instances), a security mechanism for SSH access.\\n- Password (for Windows instances), used to access Windows platform image instances.\\n- Image, which serves as a template for the virtual hard drive, determining the OS and software.\\n- Shape, a template specifying the number of CPUs, memory, and other resources.\\n- Tags for organizing resources based on business needs.\\n- Optional volume attachments are also possible.',\n",
       "  'What is an availability domain in Oracle Cloud Infrastructure?\\n\\nAn availability domain in Oracle Cloud Infrastructure is a data center located within your geographic region that hosts various cloud resources, including instances. Users can place instances in the same or different availability domains depending on performance and redundancy requirements. It ensures high availability and fault tolerance within the Oracle Cloud.',\n",
       "  'What is a virtual cloud network in Oracle Cloud Infrastructure?\\n\\nA virtual cloud network in Oracle Cloud Infrastructure is a virtualized version of a traditional network. It includes components such as subnets, route tables, and gateways and provides the environment in which your instances operate. At least one cloud network must be set up before you can launch instances in Oracle Cloud Infrastructure.',\n",
       "  \"What is a key pair, and why is it required for Linux instances in Oracle Cloud Infrastructure?\\n\\nA key pair is a security mechanism required for Secure Shell (SSH) access to an instance in Oracle Cloud Infrastructure. For Linux instances, it's essential for secure remote access. Users generate and manage key pairs to authenticate and establish a secure connection to their instances, ensuring data security and access control.\",\n",
       "  'What is a password used for in Oracle Cloud Infrastructure for Windows instances?\\n\\nIn Oracle Cloud Infrastructure, a password is a security mechanism required to access instances using a Windows platform image. When launching an instance with a Windows image, the cloud infrastructure generates an initial, one-time password. This password can be retrieved using the console or API and must be changed after the initial login for security reasons.',\n",
       "  'What is an image in Oracle Cloud Infrastructure, and how is it used?\\n\\nAn image in Oracle Cloud Infrastructure is a template of a virtual hard drive that specifies the operating system and other software for an instance. Users can launch instances from various sources, including Oracle Cloud Infrastructure platform images, trusted third-party images, pre-built Oracle enterprise images, custom images, and community images. Images are crucial in defining the software environment for your instances.',\n",
       "  'What is a shape in Oracle Cloud Infrastructure, and why is it important?\\n\\nIn Oracle Cloud Infrastructure, a shape is a template that determines the number of CPUs, the amount of memory, and other allocated resources for a newly created instance. Choosing the right shape is vital as it directly impacts the performance and capabilities of your instance. Oracle offers a range of shapes, including both bare metal and virtual machine (VM) options.',\n",
       "  'How can tags be applied to resources in Oracle Cloud Infrastructure?\\n\\nIn Oracle Cloud Infrastructure, you can apply tags to your resources to help organize and categorize them according to your business needs. You can attach tags when creating a resource or update them later as required. Tags are a useful way to manage and identify resources, making it easier to track and organize them within your Oracle Cloud Infrastructure environment.',\n",
       "  'What are the options for launching instances in Oracle Cloud Infrastructure from images?\\n\\nYou can launch instances in Oracle Cloud Infrastructure from various image sources, including:\\n1. Oracle Cloud Infrastructure platform images.\\n2. Trusted third-party images from the Partner Image catalog.\\n3. Pre-built Oracle enterprise images enabled for Oracle Cloud Infrastructure.\\n4. Custom images, which allow users to bring their own images.\\n5. Community images, created and published by community members for use by other community members.\\n6. Boot volumes.',\n",
       "  'What is the purpose of attaching volumes to an instance in Oracle Cloud Infrastructure?\\n\\nAttaching volumes to an instance in Oracle Cloud Infrastructure allows you to expand storage capacity and separate data from the instance itself. This can be useful for storing large amounts of data or ensuring data persistence even if the instance is terminated. Volumes can be attached as needed to meet specific storage requirements. For more information on block volumes, see the Overview of Block Volume.',\n",
       "  \"How can you change the initial, one-time password for a Windows instance in Oracle Cloud Infrastructure?\\n\\nTo change the initial, one-time password for a Windows instance in Oracle Cloud Infrastructure, you can use the Windows operating system's built-in mechanisms for changing passwords. After the initial login, follow the appropriate steps to update the password securely and maintain the instance's security.\",\n",
       "  'What are the types of resources in Oracle Cloud Infrastructure that you can apply tags to?\\n\\nIn Oracle Cloud Infrastructure, you can apply tags to various resources, including instances, virtual cloud networks, subnets, route tables, gateways, and volumes. Tagging these resources helps you categorize and manage them effectively, making it easier to organize and track your resources based on your business requirements.',\n",
       "  \"How does the choice of an instance shape affect its performance in Oracle Cloud Infrastructure?\\n\\nThe choice of an instance shape in Oracle Cloud Infrastructure significantly impacts performance. Different shapes offer varying amounts of CPUs, memory, and resources. Choosing a shape that aligns with your application's requirements ensures optimal performance. For example, selecting a shape with more CPUs and memory provides better computational power, while smaller shapes are suitable for less resource-intensive workloads.\",\n",
       "  'What is the significance of a route table in Oracle Cloud Infrastructure?\\n\\nIn Oracle Cloud Infrastructure, a route table is a critical networking component responsible for routing traffic between subnets and gateways within a virtual cloud network. It defines the routing rules and ensures that network traffic is directed appropriately. Configuring route tables correctly is essential for efficient network communication within your Oracle Cloud Infrastructure environment.',\n",
       "  'What is the role of a gateway in a virtual cloud network in Oracle Cloud Infrastructure?\\n\\nA gateway in a virtual cloud network in Oracle Cloud Infrastructure serves as an entry or exit point for network traffic. It facilitates connectivity between your cloud resources and external networks, such as the internet or on-premises data centers. Gateways play a crucial role in enabling communication between your Oracle Cloud Infrastructure resources and the outside world.',\n",
       "  'Can you specify your own custom image when launching an instance in Oracle Cloud Infrastructure?\\n\\nYes, in Oracle Cloud Infrastructure, you can use custom images when launching instances. This allows you to define and use your own templates, including the operating system and software configurations. Custom images are useful for replicating specific software environments and ensuring consistency across your instances.',\n",
       "  'How can you ensure high availability for your instances in Oracle Cloud Infrastructure?\\n\\nTo ensure high availability for your instances in Oracle Cloud Infrastructure, you can place them in different availability domains within the same geographical region. This redundancy strategy minimizes the risk of downtime due to failures in a single data center. By distributing your instances across multiple availability domains, you enhance their resilience and reliability.',\n",
       "  'What are community images in Oracle Cloud Infrastructure, and who can use them?\\n\\nCommunity images in Oracle Cloud Infrastructure are images created and published by community members for the benefit of other community members. These images are available for use by anyone within the Oracle Cloud community. They provide a convenient way to share and utilize standardized image configurations across the platform.',\n",
       "  'What is the importance of managing key pairs for SSH access in Oracle Cloud Infrastructure?\\n\\nManaging key pairs for SSH access in Oracle Cloud Infrastructure is crucial for enhancing security. Key pairs ensure that only authorized users can access instances through SSH. By controlling and managing key pairs, you can protect your instances from unauthorized access and potential security threats, maintaining the integrity of your cloud environment.',\n",
       "  'How can you apply tags to resources after they have been created in Oracle Cloud Infrastructure?\\n\\nIn Oracle Cloud Infrastructure, you can apply tags to resources after they have been created by using the console or APIs. This flexibility allows you to adapt your tagging strategy as your resource management needs evolve. You can easily update and manage tags to organize and categorize resources based on your changing business requirements.']}"
      ]
     },
     "execution_count": 2,
     "metadata": {},
     "output_type": "execute_result"
    }
   ],
   "source": [
    "faqs = loadFAQs('.')\n",
    "faqs"
   ]
  },
  {
   "cell_type": "code",
   "execution_count": 3,
   "metadata": {},
   "outputs": [
    {
     "data": {
      "text/plain": [
       "[{'text': 'requierements | oracledb\\ntqdm\\nipywidgets\\nsentence_transformers\\noci',\n",
       "  'path': 'requierements'},\n",
       " {'text': 'links | https://apexapps.oracle.com/pls/apex/r/dbpm/livelabs/run-workshop?p210_wid=3939&p210_wec=&session=115486261083319\\nhttps://medium.com/@deepalimittal23/accessing-oci-object-storage-using-instance-principals-203ac93cb77',\n",
       "  'path': 'links'}]"
      ]
     },
     "execution_count": 3,
     "metadata": {},
     "output_type": "execute_result"
    }
   ],
   "source": [
    "docs = [{'text': filename + ' | ' + section, 'path': filename} for filename, sections in faqs.items() for section in sections]\n",
    "\n",
    "# Sample the resulting data\n",
    "docs[:2]"
   ]
  },
  {
   "cell_type": "code",
   "execution_count": 4,
   "metadata": {},
   "outputs": [
    {
     "name": "stderr",
     "output_type": "stream",
     "text": [
      "/tmp/ipykernel_3943/3746924790.py:3: TqdmExperimentalWarning: Using `tqdm.autonotebook.tqdm` in notebook mode. Use `tqdm.tqdm` instead to force console mode (e.g. in jupyter console)\n",
      "  from tqdm.autonotebook import tqdm, trange\n"
     ]
    }
   ],
   "source": [
    "import oracledb\n",
    "\n",
    "from tqdm.autonotebook import tqdm, trange\n",
    "\n"
   ]
  },
  {
   "cell_type": "code",
   "execution_count": 5,
   "metadata": {},
   "outputs": [
    {
     "name": "stdout",
     "output_type": "stream",
     "text": [
      "Successfully connected to Oracle Database\n"
     ]
    }
   ],
   "source": [
    "connection = oracledb.connect(\n",
    "    user=\"admin\",\n",
    "    password=\"Oracle123...\",\n",
    "    dsn=\"(description= (retry_count=20)(retry_delay=3)(address=(protocol=tcps)(port=1521)(host=adb.us-chicago-1.oraclecloud.com))(connect_data=(service_name=ga720f82cae05fc_zna1jlsyim9n00j0_high.adb.oraclecloud.com))(security=(ssl_server_dn_match=yes)))\")  # the connection string copied from the cloud console\n",
    "\n",
    "print(\"Successfully connected to Oracle Database\")"
   ]
  },
  {
   "cell_type": "code",
   "execution_count": 6,
   "metadata": {},
   "outputs": [],
   "source": [
    "table_name = 'faqs'\n",
    "\n",
    "with connection.cursor() as cursor:\n",
    "    # Create the table\n",
    "    create_table_sql = f\"\"\"\n",
    "        CREATE TABLE IF NOT EXISTS {table_name} (\n",
    "            id NUMBER PRIMARY KEY,\n",
    "            payload CLOB CHECK (payload IS JSON),\n",
    "            vector VECTOR\n",
    "        )\"\"\"\n",
    "    try:\n",
    "        cursor.execute(create_table_sql)\n",
    "    except oracledb.DatabaseError as e:\n",
    "        raise\n",
    "\n",
    "    connection.autocommit = True"
   ]
  },
  {
   "cell_type": "code",
   "execution_count": 7,
   "metadata": {},
   "outputs": [
    {
     "data": {
      "application/vnd.jupyter.widget-view+json": {
       "model_id": "2dea82bd5b89425e90e315899f0136cd",
       "version_major": 2,
       "version_minor": 0
      },
      "text/plain": [
       "model.safetensors:   8%|7         | 10.5M/133M [00:00<?, ?B/s]"
      ]
     },
     "metadata": {},
     "output_type": "display_data"
    },
    {
     "data": {
      "application/vnd.jupyter.widget-view+json": {
       "model_id": "e3756d2c23b54e09ae73d51750754d4e",
       "version_major": 2,
       "version_minor": 0
      },
      "text/plain": [
       "tokenizer_config.json:   0%|          | 0.00/352 [00:00<?, ?B/s]"
      ]
     },
     "metadata": {},
     "output_type": "display_data"
    },
    {
     "data": {
      "application/vnd.jupyter.widget-view+json": {
       "model_id": "d6e118db8a4e462c8a9ae85330356b1f",
       "version_major": 2,
       "version_minor": 0
      },
      "text/plain": [
       "vocab.txt:   0%|          | 0.00/232k [00:00<?, ?B/s]"
      ]
     },
     "metadata": {},
     "output_type": "display_data"
    },
    {
     "data": {
      "application/vnd.jupyter.widget-view+json": {
       "model_id": "fafa53c0608447f69db7ce5247418cb6",
       "version_major": 2,
       "version_minor": 0
      },
      "text/plain": [
       "tokenizer.json:   0%|          | 0.00/466k [00:00<?, ?B/s]"
      ]
     },
     "metadata": {},
     "output_type": "display_data"
    },
    {
     "data": {
      "application/vnd.jupyter.widget-view+json": {
       "model_id": "5da51180c3384ba2ac88b910e74d911a",
       "version_major": 2,
       "version_minor": 0
      },
      "text/plain": [
       "special_tokens_map.json:   0%|          | 0.00/112 [00:00<?, ?B/s]"
      ]
     },
     "metadata": {},
     "output_type": "display_data"
    },
    {
     "name": "stderr",
     "output_type": "stream",
     "text": [
      "/home/ubuntu/.local/lib/python3.10/site-packages/transformers/tokenization_utils_base.py:1601: FutureWarning: `clean_up_tokenization_spaces` was not set. It will be set to `True` by default. This behavior will be depracted in transformers v4.45, and will be then set to `False` by default. For more details check this issue: https://github.com/huggingface/transformers/issues/31884\n",
      "  warnings.warn(\n"
     ]
    },
    {
     "data": {
      "application/vnd.jupyter.widget-view+json": {
       "model_id": "e2ba11a779c7427588cd2dee1509e1f4",
       "version_major": 2,
       "version_minor": 0
      },
      "text/plain": [
       "1_Pooling/config.json:   0%|          | 0.00/190 [00:00<?, ?B/s]"
      ]
     },
     "metadata": {},
     "output_type": "display_data"
    }
   ],
   "source": [
    "from sentence_transformers import SentenceTransformer\n",
    "encoder = SentenceTransformer('all-MiniLM-L12-v2')"
   ]
  },
  {
   "cell_type": "code",
   "execution_count": 8,
   "metadata": {},
   "outputs": [
    {
     "data": {
      "application/vnd.jupyter.widget-view+json": {
       "model_id": "38713e0ead2c4557ab5d275a3e0e37a6",
       "version_major": 2,
       "version_minor": 0
      },
      "text/plain": [
       "Batches:   0%|          | 0/7 [00:00<?, ?it/s]"
      ]
     },
     "metadata": {},
     "output_type": "display_data"
    }
   ],
   "source": [
    "import array\n",
    "\n",
    "# Define a list to store the data\n",
    "data = [\n",
    "   {\"id\": idx, \"vector_source\": row['text'], \"payload\": row} \n",
    "   for idx, row in enumerate(docs)\n",
    "]\n",
    "\n",
    "# Collect all texts for batch encoding\n",
    "texts = [f\"{row['vector_source']}\" for row in data]\n",
    "\n",
    "# Encode all texts in a batch\n",
    "embeddings = encoder.encode(texts, batch_size=32, show_progress_bar=True)\n",
    "\n",
    "# Assign the embeddings back to your data structure\n",
    "for row, embedding in zip(data, embeddings):\n",
    "   row['vector'] = array.array(\"f\", embedding)"
   ]
  },
  {
   "cell_type": "code",
   "execution_count": 9,
   "metadata": {},
   "outputs": [],
   "source": [
    "import json\n",
    "\n",
    "with connection.cursor() as cursor:\n",
    "    # Truncate the table\n",
    "    cursor.execute(f\"truncate table {table_name}\")\n",
    "\n",
    "    prepared_data = [(row['id'], json.dumps(row['payload']), row['vector']) for row in data]\n",
    "\n",
    "    # Insert the data\n",
    "    cursor.executemany(\n",
    "        f\"\"\"INSERT INTO {table_name} (id, payload, vector)\n",
    "        VALUES (:1, :2, :3)\"\"\",\n",
    "        prepared_data\n",
    "    )\n",
    "\n",
    "    connection.commit()"
   ]
  },
  {
   "cell_type": "code",
   "execution_count": 10,
   "metadata": {},
   "outputs": [
    {
     "name": "stdout",
     "output_type": "stream",
     "text": [
      "(122, {'text': 'faq | What is the Oracle Cloud Infrastructure Compute API, and how can it be used?\\n\\nThe Oracle Cloud Infrastructure Compute API allows developers to programmatically manage and interact with compute instances, including creating, modifying, and terminating instances.', 'path': 'faq'}, array('f', [0.0818793997168541, -0.0008638272411189973, -0.004283372312784195, -0.04060010239481926, -0.027023285627365112, -0.0007229556795209646, -0.007969026453793049, 0.0354604534804821, 0.016790721565485, 0.03819073736667633, 0.04670068249106407, -0.05441199615597725, 0.016023797914385796, -0.10824279487133026, -0.06405135989189148, -0.09402532875537872, 0.008396985940635204, 0.021330978721380234, -0.058389995247125626, -0.0515948086977005, 0.02285577915608883, 0.052265919744968414, -0.05111362040042877, -0.028827566653490067, 0.013363363221287727, -0.06274005770683289, 0.006875917781144381, 0.03890277445316315, 0.011837686412036419, 0.002121781464666128, 0.12987135350704193, 0.0031329679768532515, -0.050310008227825165, 0.11794852465391159, -0.05853765085339546, 0.07368666678667068, -0.10629748553037643, -0.010931559838354588, -0.04397498816251755, 0.03514242544770241, 0.06458086520433426, -0.019727859646081924, -0.06982942670583725, 0.0810670405626297, 0.021654367446899414, 0.009016329422593117, -0.04081020504236221, -0.010887832380831242, -0.08365964144468307, -0.03223584592342377, 0.04170726239681244, -0.00958310253918171, 0.004972684197127819, -0.039832934737205505, -0.02624141052365303, -0.03691069036722183, 0.0836024060845375, 0.10707692801952362, -0.09575881063938141, -0.05120144411921501, 0.0838766098022461, 0.012658603489398956, 0.012648610398173332, 0.03259268403053284, -0.023630741983652115, -0.0075109717436134815, 0.018027272075414658, -0.005765354260802269, 0.015830546617507935, -0.1721504032611847, -0.10230744630098343, -0.04680459946393967, -0.009948734194040298, -0.07418323308229446, -0.022660745307803154, 0.02724418230354786, 0.055943552404642105, -0.05552547052502632, 0.02945062331855297, -0.02925829216837883, 0.02838144637644291, 0.1408701390028, 0.025834862142801285, 0.04493110626935959, -0.041982170194387436, -0.040043238550424576, 0.011871254071593285, 0.047698840498924255, 0.08772293478250504, 0.003888287814334035, -0.08603714406490326, 0.009467299096286297, -0.045015547424554825, -0.058886054903268814, 0.08837741613388062, 0.0071022543124854565, -0.004645886365324259, -0.03280603513121605, 0.042520567774772644, -0.026831507682800293, -0.03214114159345627, -0.008999725803732872, 0.008999733254313469, -0.01154685765504837, -0.022039195522665977, 0.03750185668468475, -0.01546375174075365, -0.030821872875094414, 0.010443932376801968, 0.03148624300956726, -0.011521653272211552, -0.010033991187810898, 0.038957398384809494, -0.11096947640180588, -0.00721130333840847, 0.04597598314285278, -0.06080182269215584, -0.03195852041244507, -0.08564237505197525, 0.0017022358952090144, -0.08258330821990967, -0.01940491981804371, -0.015301428735256195, 0.022783776745200157, 0.0807470753788948, 0.026743341237306595, 0.021667631343007088, -0.015708573162555695, 0.05976168438792229, 0.040598269551992416, 0.028807256370782852, -0.12790602445602417, -0.03874583914875984, -0.05375247448682785, -0.032976504415273666, -0.015908503904938698, 0.03152577206492424, -0.11310246586799622, 0.023758919909596443, 0.14388151466846466, 0.04130200669169426, -0.005586939863860607, 0.020352620631456375, -0.006616299506276846, 0.054952263832092285, 0.09553668648004532, 0.06084099039435387, 0.0023256996646523476, -0.04681370407342911, -0.06406833231449127, 0.07875307649374008, 0.035840172320604324, 0.02155783213675022, -0.0037530213594436646, -0.01164452638477087, -0.01949692703783512, -0.004564541857689619, 0.015070567838847637, -0.022608060389757156, -0.030585315078496933, -0.04179878532886505, -0.03085893765091896, -0.05923745781183243, 0.0397263802587986, -0.055798716843128204, 0.014587217941880226, 0.00336059438996017, 0.012227848172187805, 0.10397292673587799, 0.019962312653660774, 0.08339063078165054, -0.005527966655790806, -0.050427429378032684, -0.03209367021918297, -0.08545433729887009, -0.03751656040549278, -0.0009885154431685805, 0.008005253039300442, 0.034304432570934296, -0.04278283938765526, -0.02440778724849224, -0.057177525013685226, 0.027602341026067734, 0.029366876929998398, 0.0017937254160642624, 0.010691534727811813, -0.021341903135180473, -0.007282295264303684, -0.027300912886857986, -0.13895347714424133, -0.015762221068143845, 0.08176350593566895, -0.01620492711663246, 0.01922476291656494, -0.055501025170087814, 0.03970726951956749, 0.036852020770311356, -0.011854578740894794, 0.05920751392841339, 0.00853036344051361, 0.02452791854739189, 0.05990578234195709, 0.01766475848853588, 0.04760340228676796, -0.020306836813688278, -0.0049767508171498775, -0.006044149398803711, 0.016874436289072037, -0.01254665944725275, 0.027149619534611702, 0.06652777642011642, 0.012241499498486519, 0.00245275953784585, 0.06578037142753601, -0.055096354335546494, -0.014261284843087196, -0.030357379466295242, -0.01042207982391119, -0.04808842018246651, -0.08009149134159088, 0.05230255424976349, 0.0032040756195783615, 0.03525812178850174, 4.5909853899745865e-33, 0.06272678077220917, -0.08519724756479263, -0.05545581504702568, -0.004045575857162476, 0.05762867629528046, -0.003722188761457801, 0.05557730793952942, -0.006339374464005232, -0.05595210939645767, 0.053802669048309326, 0.014758242294192314, 0.00241912342607975, 0.02352191135287285, -0.03414211794734001, -0.06250093132257462, -0.04847226291894913, -0.01680011861026287, -0.016512515023350716, -0.029834484681487083, 0.05453033745288849, 0.05679415166378021, -0.06742815673351288, 0.02232854999601841, -0.02988792210817337, 0.04486582428216934, 0.004398571327328682, -0.06311088055372238, 0.03754550218582153, 0.0260201133787632, 0.037893280386924744, -0.07894254475831985, 0.038327936083078384, -0.021346410736441612, 0.09872087836265564, -0.018594658002257347, 0.04018363729119301, 0.016641903668642044, -0.08954080194234848, -0.069221131503582, -0.05248752608895302, 0.14304114878177643, -0.04644472524523735, -0.015861645340919495, 0.045958127826452255, -0.008794065564870834, 0.04195820540189743, -0.07364213466644287, 0.07717154175043106, -0.017909398302435875, -0.025098487734794617, 0.038028784096241, 0.0317356251180172, 0.026948874816298485, 0.006774023175239563, 0.0354168526828289, 0.146836057305336, -0.0012104157358407974, 0.024988912045955658, -0.04138634726405144, -0.039201974868774414, 0.012009368278086185, 0.02997405454516411, 0.014721489511430264, 0.07117820531129837, -0.10730117559432983, -0.00481963949277997, 0.029609471559524536, 0.004584518726915121, -0.08793990314006805, 0.024924680590629578, -0.007625818718224764, -0.055949948728084564, -0.01977432519197464, 0.02437690831720829, -0.0019606887362897396, -0.02712719701230526, 0.008408754132688046, -0.04346403479576111, 0.00805849488824606, -0.02446056343615055, 0.027303431183099747, -0.028985239565372467, -0.043607696890830994, -0.016666825860738754, -0.01060829684138298, 0.055340103805065155, -0.010798769071698189, -0.06532388180494308, -0.037457797676324844, 0.03474097698926926, -0.07630816847085953, -0.020747192203998566, -0.10965713858604431, 0.09084083884954453, -0.007490413263440132, 4.925814155951967e-32, 0.02125527523458004, 0.00741533050313592, 0.0609591007232666, -0.08737186342477798, -0.021668625995516777, -0.07942178845405579, 0.051206547766923904, 0.12378861010074615, -0.004935910925269127, 0.0492619164288044, 0.07768385112285614, -0.06567852944135666, -0.010003657080233097, 0.022784197703003883, 0.05498099327087402, 0.10773909091949463, 0.07350648939609528, 0.026498936116695404, -0.017657382413744926, -0.14806850254535675, 0.005105891730636358, -0.011648205108940601, -0.01894194260239601, -0.03283620625734329, -0.05356460064649582, 0.02007952146232128, -0.027780525386333466, 0.011685683391988277, 0.013792203739285469, -0.021472778171300888, -0.009610110893845558, 0.03211793676018715, -0.000533738115336746, -0.035688433796167374, 0.061873845756053925, 0.054620396345853806, 0.07266626507043839, -0.06317125260829926, 0.009911400265991688, 0.06399667263031006, -0.029953384771943092, 0.11352603137493134, -0.06323055922985077, 0.011032053269445896, 0.03194765746593475, 0.02930326573550701, -0.038916561752557755, 0.020822107791900635, -0.07936064898967743, 0.020759375765919685, 0.0516994334757328, 0.030711021274328232, -0.018893323838710785, -0.037122491747140884, -0.0221287552267313, 0.015253244899213314, -0.03159144148230553, -0.04782577604055405, 0.0484883114695549, 0.04230222851037979, 0.03804302215576172, 0.10168739408254623, 0.08477556705474854, -0.026190076023340225]))\n",
      "(123, {'text': 'faq | What options are available for monitoring and managing compute instances in Oracle Cloud Infrastructure?\\n\\nYou can use the Oracle Cloud Infrastructure Console, the command line interface (CLI), and the API for monitoring and managing compute instances.', 'path': 'faq'}, array('f', [0.07451286166906357, 0.009401126764714718, -0.022385796532034874, -0.0868741050362587, 0.008077915757894516, -0.005682583898305893, 0.004277854226529598, 0.05928995832800865, 0.05707375332713127, 0.03641024976968765, 0.055756695568561554, -0.048736851662397385, -0.007954152300953865, -0.06985147297382355, -0.055477969348430634, -0.11108090728521347, -0.0039743706583976746, 0.040751975029706955, -0.013057931326329708, -0.0864899680018425, 0.01399267464876175, 0.014621083624660969, -0.08233348280191422, -0.036505602300167084, -0.04935929551720619, -0.030667083337903023, 0.043701834976673126, 0.012667990289628506, -0.016501056030392647, 0.006184144876897335, 0.03820400685071945, -0.04158681258559227, -0.01806851290166378, 0.007004672195762396, -0.04721486568450928, 0.08458904922008514, -0.05969587340950966, -7.436318992404267e-05, -0.013276267796754837, 0.048151563853025436, 0.04808266833424568, -0.04663568362593651, -0.024020211771130562, 0.03202954679727554, -0.004972199909389019, -0.06967855989933014, -0.03241143375635147, -0.04543109983205795, -0.04870174452662468, 0.005584982689470053, 0.021280605345964432, -0.018322840332984924, 0.03243471309542656, -0.06095055863261223, -0.05339624360203743, -0.03743312507867813, 0.04819723963737488, 0.12187321484088898, -0.059791989624500275, -0.0451386421918869, 0.040609896183013916, -0.0027557408902794123, 0.022901713848114014, 0.01849125325679779, -0.03612726181745529, 0.009200789034366608, 0.007168123964220285, 0.007827124558389187, 0.0007488991832360625, -0.13997933268547058, -0.047270528972148895, -0.05423690751194954, -0.029011195525527, -0.07263945043087006, -0.031238200142979622, 0.01536522340029478, 0.020067892968654633, -0.03571749106049538, -0.01850046031177044, 0.010540837422013283, 0.03022627718746662, 0.06267432868480682, -0.0052731758914887905, 0.043386414647102356, 0.008524365723133087, 0.00760881369933486, 0.004173163324594498, 0.09421790391206741, 0.08628516644239426, 0.011453012004494667, -0.018638798967003822, 0.0682997927069664, -0.003055091481655836, -0.055471763014793396, 0.011822028085589409, 0.03856838494539261, -0.023393690586090088, -0.06356512755155563, 0.02012767642736435, -0.03539898619055748, -0.021149244159460068, -0.02482709102332592, 0.05159929394721985, -0.002370144473388791, -0.018951568752527237, 0.04533412680029869, -0.06434454023838043, -0.025882603600621223, -0.0016182702966034412, 0.005816753953695297, -0.032887112349271774, 0.05692949518561363, -0.0036185423377901316, -0.11099962890148163, 0.06167091056704521, 0.048742420971393585, -0.04222555458545685, -0.0018014233792200685, -0.04377900809049606, 0.0036274900194257498, -0.010184968821704388, -0.006834619212895632, 0.04882929474115372, 0.02397765778005123, 0.16901348531246185, 0.06031693518161774, 0.0774165689945221, -0.008684048429131508, 0.05870812386274338, 0.0042189983651041985, 0.011846802197396755, -0.07593704760074615, -0.052630819380283356, -0.05339581146836281, -0.023014010861516, 0.022461753338575363, 0.09314737468957901, -0.11872412264347076, 0.033546898514032364, 0.10381278395652771, 0.06806669384241104, -0.10552111268043518, 0.012330536730587482, 0.01213360670953989, 0.09499787539243698, 0.08024062216281891, -0.015437706373631954, -0.030251240357756615, -0.13493041694164276, -0.12914586067199707, 0.07696636766195297, 0.05494371056556702, 0.0765022337436676, 0.022936725988984108, -0.01580197922885418, 0.018917014822363853, 0.004161006771028042, -0.008593186736106873, -0.017995672300457954, 0.007473986130207777, -0.017065927386283875, 0.00960593856871128, -0.08217398822307587, 0.01871659606695175, -0.11651264131069183, 0.062192581593990326, 0.01762010157108307, -0.002604951849207282, 0.07903511822223663, -0.013972441665828228, 0.07503654062747955, 0.06688577681779861, -0.08309277147054672, -0.039921607822179794, -0.09850654751062393, -0.09281302988529205, 0.05708834156394005, 0.006096747238188982, 0.03580999746918678, -0.04223044589161873, 0.01274797972291708, -0.06340815126895905, 0.02264535054564476, -0.01558489166200161, -0.03922741115093231, 0.03017701767385006, -0.03926609456539154, -0.016038376837968826, -0.06721120327711105, -0.08389690518379211, -0.06125425547361374, -0.010474654845893383, -0.013513579033315182, 0.04852638021111488, -0.035711415112018585, 0.02278258465230465, -0.004223871044814587, 0.016997041180729866, -0.06155139580368996, 0.06126530468463898, 0.050648875534534454, 0.05144800618290901, 0.04082901403307915, 0.03669663891196251, -0.023946572095155716, 0.029687220230698586, -0.07493487745523453, 0.07409238815307617, -0.0041318596340715885, -0.023141158744692802, 0.079978808760643, 0.0043755704537034035, 0.03365977481007576, 0.05696869269013405, -0.014889164827764034, 0.030423477292060852, 0.017756005749106407, 0.01580057293176651, -0.06796657294034958, -0.03434445336461067, 0.07724766433238983, -0.00088571070227772, -0.05308341979980469, 5.3512058719841765e-33, 0.024102598428726196, -0.07123291492462158, -0.02452905848622322, 0.0005725717055611312, 0.059885233640670776, 0.0020917942747473717, 0.0720987617969513, 0.037671688944101334, -0.010779638774693012, -0.004882389679551125, -0.01231622975319624, 0.019642645493149757, -0.0014546116581186652, 0.01587451808154583, -0.029539262875914574, -0.00027590597164817154, -0.01348395086824894, -0.023502852767705917, -0.03323928639292717, 0.00941692665219307, 0.06045873835682869, -0.087474524974823, 0.0410236120223999, -0.08337867259979248, 0.007650754414498806, 0.008259918540716171, -0.08374454081058502, 0.03279518336057663, 0.003496735356748104, 0.02949630282819271, -0.06091967597603798, 0.021263357251882553, -0.007310596760362387, 0.08165644854307175, -0.026763837784528732, 0.0036118493881076574, 0.05007246509194374, -0.056757498532533646, -0.07401606440544128, 0.03813384845852852, 0.11341623216867447, -0.04088038578629494, 0.013520711101591587, 0.050350770354270935, 0.014352457597851753, 0.03300607576966286, -0.0474030002951622, 0.08197174966335297, -0.07812479138374329, -0.0540912039577961, -0.0019952955190092325, 0.04339513182640076, 0.032545920461416245, 0.025814976543188095, 0.010126283392310143, 0.0867295190691948, 0.040598224848508835, 0.03761474788188934, -0.12098132073879242, 0.01951402984559536, -0.019070545211434364, 0.025722524151206017, -0.007817755453288555, 0.09729211777448654, -0.10238172858953476, 0.008350703865289688, 0.023762382566928864, 0.0032638295087963343, -0.04219503700733185, 0.008300437591969967, 0.00022087240358814597, -0.10436902940273285, -0.03221965581178665, -0.0015149227110669017, 0.015711016952991486, -0.03486543893814087, -0.02338373102247715, -0.091954305768013, -0.03342714533209801, -0.06440053880214691, 0.0874810516834259, 0.029611224308609962, -0.02139691635966301, -0.06471738964319229, -0.002952790353447199, 0.06847305595874786, 0.019975287839770317, -0.02903182990849018, 0.0010951576987281442, 0.024493278935551643, -0.1365756392478943, -0.013131396844983101, -0.04875487834215164, 0.04070925712585449, 0.04108784347772598, 4.577824922564765e-32, 0.028962381184101105, 0.03609214723110199, 0.11099418997764587, -0.0571853406727314, 0.007585181389003992, -0.06268060207366943, 0.019218388944864273, 0.08226045966148376, -0.023395387455821037, 0.015022123232483864, 0.04045636206865311, -0.03708810359239578, -0.05542292073369026, 0.002638098318129778, 0.09004974365234375, 0.057748276740312576, 0.01029459573328495, 0.03679346665740013, -0.024552518501877785, -0.1283714324235916, -0.03292124345898628, -0.01470155455172062, 0.047291167080402374, 0.018792755901813507, -0.053148116916418076, 0.034786395728588104, -0.01695205457508564, -0.03158010169863701, -0.0017219354631379247, 0.0010446255328133702, 0.045039620250463486, 0.03975222632288933, 0.08659801632165909, -0.04175792261958122, 0.09667592495679855, 0.04966576024889946, 0.0026521815452724695, -0.016713237389922142, 0.016969867050647736, -0.010021889582276344, -0.029895955696702003, 0.11585976183414459, -0.12629622220993042, 0.023388812318444252, 0.0655020996928215, 0.0819159522652626, 0.024376360699534416, 0.004491694737225771, -0.04319075122475624, 0.0005688200471922755, 0.12148189544677734, -0.0011182946618646383, -0.049595486372709274, -0.014407572336494923, 0.0007432158454321325, 0.0452539324760437, -0.016404198482632637, -0.0505557507276535, 0.008286731317639351, 0.04321742802858353, 0.006314244586974382, 0.062220361083745956, -0.01309232134371996, -0.03862131014466286]))\n",
      "(124, {'text': 'faq | How can you automate the management of compute instances in Oracle Cloud Infrastructure?\\n\\nYou can automate the management of compute instances by using scripts and tools that interact with the Oracle Cloud Infrastructure API, allowing for programmatic control and automation.', 'path': 'faq'}, array('f', [0.06395833939313889, 0.01355250645428896, -0.04200445115566254, -0.10459639877080917, -0.04011925682425499, -0.01673058420419693, 0.007034067530184984, 0.028721457347273827, -0.002568464493378997, 0.002423057099804282, 0.012753679417073727, -0.026316000148653984, 0.018880140036344528, -0.0861721858382225, -0.04921349883079529, -0.07556603848934174, -0.037211060523986816, 0.022075530141592026, -0.034556593745946884, -0.042878229171037674, 0.020680615678429604, 0.026938054710626602, -0.08091394603252411, -0.054822247475385666, -0.03379056230187416, -0.01345470454543829, 0.08047304302453995, 0.046873267740011215, 0.005967544857412577, -0.022444386035203934, 0.05368993803858757, -0.04506777226924896, -0.02445014752447605, 0.03682951629161835, -0.001949779107235372, 0.11508242040872574, -0.1241745576262474, 0.005244063679128885, -0.04581712931394577, 0.03206987679004669, 0.021167872473597527, -0.02478734217584133, -0.05442095175385475, 0.03598303720355034, 0.007213339675217867, 0.021853264421224594, -0.03340063989162445, 0.00444082822650671, -0.07818492501974106, -0.03413555026054382, -0.0023891504388302565, -0.03884345293045044, 0.00014980994455982, -0.03357463702559471, -0.08291468024253845, -0.0026153260841965675, 0.06274338811635971, 0.1218392550945282, -0.052116431295871735, -0.044775523245334625, 0.043120093643665314, 0.024701181799173355, 0.049004826694726944, 0.04343390464782715, 0.001537164207547903, 0.01299589965492487, -0.005891023203730583, -0.0008768207626417279, -0.009177470579743385, -0.08480549603700638, -0.08982794731855392, -0.05292666330933571, -0.030219487845897675, -0.05310666933655739, -0.043201107531785965, 0.059399671852588654, 0.01840253733098507, -0.02601957507431507, -0.02044093608856201, 0.007336905691772699, 0.007111810613423586, 0.06275597214698792, 0.011332366615533829, 0.05443134903907776, -0.04075224697589874, 0.044869694858789444, 0.021531829610466957, 0.008910861797630787, 0.09000726789236069, -0.0013495753519237041, -0.031221002340316772, 0.015841523185372353, 0.034034598618745804, -0.07564595341682434, 0.034631986171007156, -0.01830236241221428, -0.0036143504548817873, -0.05747503787279129, 0.05749634653329849, -0.027304692193865776, -0.05354728177189827, -0.030966466292738914, 0.030291667208075523, -0.05387566238641739, -0.010302902199327946, 0.0861620232462883, -0.061253201216459274, -0.06007852032780647, 0.010700390674173832, 0.015051132999360561, -0.041505277156829834, 0.03317265957593918, 0.04774312674999237, -0.0888424813747406, -0.008492431603372097, 0.07564331591129303, -0.01748451590538025, -0.0196305513381958, -0.07180159538984299, 0.027252068743109703, -0.08166041970252991, 0.027652768418192863, 0.040871087461709976, 0.0009640303323976696, 0.10562831908464432, 0.07041992992162704, 0.02890142984688282, -0.017716610804200172, 0.036284610629081726, -0.007401265203952789, -0.01892419345676899, -0.10546766221523285, -0.02202647179365158, -0.08530182391405106, -0.027812888845801353, 0.015362518839538097, 0.049128077924251556, -0.13560236990451813, 0.04653242230415344, 0.10561677813529968, 0.05539548024535179, -0.039676062762737274, 0.005650572013109922, -0.018750185146927834, 0.1120426282286644, 0.08318015187978745, -0.0034836630802601576, -0.06598463654518127, -0.10479644685983658, -0.11907915025949478, 0.10173678398132324, 0.04244431480765343, 0.025504624471068382, -0.0011205310001969337, 0.009634323418140411, 0.007270951755344868, 0.044421449303627014, -0.02015879936516285, 0.018404260277748108, -0.056562863290309906, -0.08473390340805054, 0.05450388416647911, -0.06514192372560501, 0.03191594406962395, -0.08168568462133408, 0.034443072974681854, 0.05864431709051132, -0.0052179149352014065, 0.03417167067527771, 0.022383589297533035, 0.07390300929546356, 0.05968631058931351, -0.04544483497738838, -0.0019753538072109222, -0.0818113312125206, -0.0911102369427681, 0.0677715539932251, -0.024304665625095367, 0.014712262898683548, 0.008790885098278522, -0.0013361049350351095, -0.035188622772693634, 0.00424480065703392, 0.018695618957281113, -0.03818690776824951, -0.027371244505047798, -0.0159318707883358, 0.004891160875558853, -0.0371893011033535, -0.1312156617641449, -0.079886794090271, 0.12333310395479202, 0.02641964890062809, 0.011208838783204556, 0.011301551014184952, 0.04034706950187683, 0.043874822556972504, 0.04197333753108978, 0.02596009522676468, 0.07254097610712051, 0.011781143955886364, 0.014069666154682636, 0.027979016304016113, 0.03497305512428284, 0.04062600061297417, 0.01361524686217308, -0.03527342155575752, 0.07453552633523941, 0.004663287196308374, -0.030278978869318962, 0.03749492019414902, -0.04480742663145065, 0.0449896864593029, 0.048891495913267136, -0.002992876572534442, -0.011495373211801052, -0.05290316417813301, -0.0044382428750395775, -0.0333864763379097, -0.03525950387120247, 0.07273667305707932, 0.016679678112268448, -0.0162819791585207, 5.687503050810925e-33, 0.03897333890199661, -0.0857270285487175, -0.038971226662397385, 0.041961148381233215, 0.06406590342521667, 0.003649673191830516, 0.06945715844631195, -0.001006217789836228, -0.05320413038134575, 0.015835994854569435, 0.010729558765888214, 0.05078262463212013, 0.011108950711786747, -0.06920742243528366, -0.02780384011566639, -0.021761620417237282, 0.02649671398103237, 0.03584187105298042, -0.014630014076828957, 0.03481871262192726, 0.07431143522262573, -0.05892663076519966, 0.03133463114500046, -0.06477487832307816, -0.01927829161286354, -0.027893755584955215, -0.0944371372461319, 0.06997604668140411, 0.00026894515031017363, 0.06819193065166473, -0.04373716190457344, 0.019651131704449654, -0.026539260521531105, 0.060564976185560226, -0.02513744868338108, 0.018478453159332275, 0.0114701297134161, -0.04163023829460144, -0.06486683338880539, 0.045685745775699615, 0.1649244725704193, -0.06865900009870529, -0.04426340013742447, 0.03282899409532547, 0.04481814429163933, -0.010267662815749645, -0.00655979523435235, 0.06794754415750504, -0.04176117107272148, 0.011069254018366337, -0.04396074265241623, 0.035092100501060486, 0.019299142062664032, -0.0028283700812608004, 0.03856239840388298, 0.08250997960567474, 0.027300439774990082, 0.03406837582588196, -0.08008534461259842, 0.014456774108111858, -0.014354492537677288, 0.03607418015599251, 0.04040161520242691, 0.09775960445404053, -0.1145489513874054, 0.017980370670557022, 0.02615460380911827, -0.024366645142436028, -0.01972012221813202, 0.022236499935388565, 0.007566825952380896, -0.07873125374317169, -0.054764047265052795, 0.022951342165470123, -0.006839933339506388, -0.047838807106018066, -0.006436530500650406, -0.08470483124256134, -0.01669209823012352, -0.028996886685490608, 0.04014413431286812, -0.008659103885293007, -0.024519119411706924, -0.059779323637485504, -0.06293558329343796, 0.08681239932775497, -0.011519750580191612, -0.04512329399585724, 0.04663088545203209, 0.023422379046678543, -0.11432158201932907, -0.027972275391221046, 0.010921909473836422, 0.025264598429203033, -0.002979700453579426, 4.9153963372678044e-32, 0.016977520659565926, 0.05674031376838684, 0.1121649220585823, -0.033369410783052444, 0.009404553100466728, -0.10856161266565323, 0.03837469965219498, 0.11660678684711456, -0.030372735112905502, 0.003052149899303913, 0.10631360858678818, -0.05348380655050278, -0.0021846166346222162, 0.04634011909365654, 0.060819417238235474, 0.12884873151779175, 0.020531540736556053, 0.022737717255949974, -0.05481565371155739, -0.10199350863695145, -0.02377781644463539, -0.025551997125148773, 0.04205084219574928, 0.011755745857954025, -0.019381549209356308, 0.04253615438938141, -0.0059423381462693214, -0.02109597437083721, 0.08706485480070114, 0.03682660311460495, -0.029621241614222527, 0.03101710043847561, 0.03804188221693039, -0.039544615894556046, 0.044267572462558746, 0.03135167434811592, 0.0068096923641860485, -0.013675183989107609, -0.03902594372630119, -0.019661815837025642, -0.034669168293476105, 0.164484441280365, -0.053374290466308594, -0.01661570928990841, 0.0370744951069355, 0.0020878445357084274, -0.037311676889657974, -0.012304101139307022, -0.03544396907091141, -0.06580282002687454, 0.038605280220508575, -0.012258804403245449, -0.05169104039669037, 0.006720743607729673, 0.024070044979453087, 0.04485537111759186, -0.05503079295158386, -0.05363287776708603, 0.06486514210700989, 0.010836402885615826, -0.006954604759812355, 0.08056515455245972, 0.04534990340471268, -0.08130337297916412]))\n",
      "(185, {'text': 'faq | What should you do if you need to switch from on-demand capacity to reserved capacity?\\n\\nTo switch from on-demand capacity to reserved capacity, you would need to create new instances under the reserved capacity model and manage the transition carefully.', 'path': 'faq'}, array('f', [0.03833196684718132, 0.006522267125546932, -0.09164055436849594, 0.057849496603012085, 0.02576560527086258, 0.04414578899741173, -0.013533706776797771, 0.014140060171484947, -0.034516192972660065, -0.026585059240460396, -0.04467008635401726, 0.038568805903196335, 0.05627325549721718, 0.0027180900797247887, 0.1077457144856453, -0.001576595357619226, -0.007676084991544485, 0.052092134952545166, -0.00333559513092041, -0.0651993528008461, 0.01486971415579319, -0.07232679426670074, -0.10013924539089203, -0.06507124751806259, 0.06068800762295723, -0.02830071747303009, 0.017049716785550117, 0.04504445567727089, 0.009840177372097969, -0.013463065028190613, -0.05142435058951378, -0.04107033461332321, 0.03769632428884506, -0.07359707355499268, 0.07266897708177567, 0.004997103475034237, -0.04283907264471054, 0.044603608548641205, -0.06079836189746857, -0.03105268068611622, 0.0007480196072719991, 0.03916192427277565, -0.11146537959575653, 0.0017868098802864552, -0.030518414452672005, -0.011925514787435532, -0.0610811822116375, 0.008542769588530064, 0.02015468291938305, -0.01760072447359562, 0.04321140795946121, 0.058773282915353775, 0.012733404524624348, 0.07680554687976837, -0.020499637350440025, -0.02927538752555847, 0.09517810493707657, 0.011400301940739155, -0.016264604404568672, -0.02452149987220764, 0.003056954126805067, -0.05893241986632347, 0.006307750474661589, -0.00022201830870471895, -0.04547226056456566, 0.09470057487487793, -0.035128287971019745, 0.050873201340436935, -0.005110966041684151, 0.009699173271656036, -0.08058827370405197, 0.0030042920261621475, -0.05556553974747658, -0.08959054946899414, -0.03467557206749916, 0.016164837405085564, 0.016422687098383904, -0.03868734464049339, 0.028842268511652946, 0.01290061604231596, 0.04153487831354141, 0.017143890261650085, -0.03526642173528671, -0.04252905771136284, -0.09272222965955734, 0.015748148784041405, -0.02783445082604885, 0.031206540763378143, -0.052374377846717834, -0.03688102215528488, -0.024775777012109756, 0.07523509860038757, 0.08782609552145004, 0.07220281660556793, -0.04288718104362488, -0.05154743790626526, -0.05618158355355263, 0.014122678898274899, 0.03766633942723274, -0.05589473620057106, 0.00662905303761363, 0.012199553661048412, 0.05125037208199501, 0.024324588477611542, -0.04221639037132263, -0.08198489993810654, 0.0343141108751297, 0.010103585198521614, 0.013219119049608707, 0.07588482648134232, -0.03405516594648361, 0.050094109028577805, -0.021128853783011436, 0.04485546424984932, 0.039164744317531586, 0.1189160868525505, -0.07839146256446838, -0.05745268613100052, 0.03755941614508629, -0.029775578528642654, -0.07695069164037704, 0.05127491429448128, 0.06903303414583206, -0.08111698180437088, -0.03353441134095192, 0.010471409186720848, 0.02549535594880581, -0.05404133349657059, -0.044821009039878845, -0.10449506342411041, -0.0213607307523489, -0.03224455565214157, -0.11534465104341507, -0.06379702687263489, 0.03514961153268814, 0.03581655025482178, 0.02823052741587162, -0.04800323769450188, 0.006053310353308916, 0.046164799481630325, -0.0135723315179348, -0.027782483026385307, -0.009936364367604256, -0.01872667856514454, 0.07581126689910889, 0.08954481780529022, 0.07793313264846802, -0.018565069884061813, -0.017189815640449524, 0.0073709506541490555, -0.04088303819298744, 0.015713995322585106, 0.007680883631110191, -0.0028825956396758556, -0.005967814940959215, -0.06402444839477539, 0.039536960422992706, 0.024832982569932938, -0.015794752165675163, 0.023858867585659027, -0.015170612372457981, 0.02167721837759018, 0.035492878407239914, -0.012898123823106289, -0.09960868209600449, 0.09172160923480988, -0.04312945902347565, 0.018767379224300385, 0.11388031393289566, 0.04869700223207474, 0.03236408159136772, 0.03224446624517441, -0.021346936002373695, -0.044584859162569046, 0.062746062874794, -0.08917603641748428, 0.06760524958372116, -0.07980863749980927, -0.05009286478161812, -0.06617937982082367, -0.047836270183324814, 0.010982357896864414, -0.016545377671718597, 0.030141588300466537, -0.030189841985702515, -0.014691741205751896, 0.05423527956008911, -0.05531923845410347, -0.05111692100763321, -0.034123267978429794, 0.048932697623968124, -0.015184220857918262, 0.07203607261180878, 0.016939828172326088, -0.0502866692841053, -0.03214024752378464, -0.05715392902493477, -0.02055094763636589, -0.023182790726423264, -0.03836064785718918, -0.09640510380268097, 0.040982238948345184, -0.04263255372643471, -0.012697848491370678, 0.045036278665065765, 0.08627595007419586, 0.007194296456873417, -0.01888353005051613, -0.038712337613105774, 0.013255729340016842, 0.08471759408712387, 0.0873601883649826, -0.013463877141475677, -0.07193992286920547, 0.07030580192804337, -0.001270138192921877, 0.09641943871974945, 0.004360194783657789, -0.012576458044350147, 0.003656242974102497, -0.10267315804958344, 0.021210694685578346, 0.12214922159910202, -5.6753521126432686e-33, -0.08498768508434296, -0.05345558375120163, -0.024030864238739014, 0.0077353897504508495, 0.0055967215448617935, -0.0009988202946260571, 0.04362909868359566, -0.08220651745796204, -0.03654193878173828, 0.005132236052304506, -0.033635303378105164, -0.004149101674556732, -0.0015685510588809848, 0.03959203138947487, -0.1296839863061905, -0.0009517176076769829, -0.07488574087619781, -0.01063324511051178, 0.010051915422081947, 0.012109831906855106, 0.04079931601881981, -0.09180288016796112, 0.04487182945013046, -0.014288187958300114, 0.004440599586814642, 0.008207136765122414, -0.0664701759815216, 0.05553319677710533, -0.08002468943595886, -0.028699738904833794, -0.039432477205991745, -0.0847570076584816, -0.013008221983909607, -0.01569398120045662, -0.036919958889484406, -0.06952068954706192, -0.0716976672410965, -0.0045114425010979176, -0.05961328372359276, 0.1056254655122757, 0.05830608680844307, -0.007755158469080925, 0.015148167498409748, 0.000289374467683956, 0.01770903915166855, 0.08030679076910019, 0.1053311675786972, -0.10515456646680832, 0.021462196484208107, -0.05673632770776749, 0.009955105371773243, -0.03590366616845131, 0.0702621191740036, 0.010457927361130714, 0.015030394308269024, -0.02037982828915119, 0.09654821455478668, -0.012815156951546669, -0.016336631029844284, -0.016159752383828163, 0.12485215067863464, -0.05658344551920891, -0.08410373330116272, -0.058668721467256546, -0.0864512249827385, -0.055383164435625076, 0.0018115566344931722, -0.0926598533987999, -0.010789850726723671, -0.03725172579288483, -0.06385685503482819, 0.026815010234713554, 0.06846713274717331, -0.027062688022851944, -0.0653686448931694, -0.05916094034910202, 0.019680919125676155, 0.03615495190024376, 0.01307857595384121, 0.04002435505390167, 0.02316257171332836, -0.014323567040264606, 0.08428045362234116, -0.008105338551104069, -0.008624267764389515, 0.02625727467238903, 0.03650679811835289, -0.043544504791498184, -0.02138802781701088, -0.06612985581159592, -0.05449601635336876, 0.04853450506925583, -0.0043837446719408035, 0.029609642922878265, -0.02157559059560299, 7.348836269794169e-32, -0.032076023519039154, 0.0683334693312645, 0.09648313373327255, -0.019200395792722702, 0.1558353155851364, -0.09065329283475876, 0.10061650723218918, 0.01115202996879816, 0.015340922400355339, 0.017745714634656906, -0.024040885269641876, -0.08930326998233795, 0.08409950882196426, 0.07671941071748734, -0.01698995567858219, 0.13909843564033508, 0.010107873007655144, -0.038431085646152496, -0.034570690244436264, 0.04716053232550621, 0.011376634240150452, 0.01838301308453083, 0.0347648523747921, 0.03593771159648895, 0.025414012372493744, 0.006784835830330849, 0.09440510720014572, 0.018829181790351868, 0.065248042345047, -0.0670945942401886, -0.00919509120285511, 0.05560797080397606, 0.033741675317287445, -0.051270242780447006, 0.013326398096978664, -0.008315026760101318, -0.012235305272042751, 0.008150596171617508, -0.012783252634108067, -0.013259145431220531, -0.015126140788197517, -0.0187801793217659, -0.00872923992574215, 0.041423022747039795, -0.007636839523911476, -0.0329444594681263, -0.033410266041755676, -0.014331226237118244, 0.03939679637551308, 0.022389071062207222, 0.07850617915391922, -0.0022630528546869755, 0.035680677741765976, -0.06450594216585159, 0.0310934130102396, -0.0022874532733112574, -0.06556762754917145, 0.10073922574520111, 0.03193078190088272, 0.05062880367040634, -0.012297454290091991, -0.030196895822882652, -0.051350004971027374, 0.03718748688697815]))\n",
      "(186, {'text': \"faq | Are there limitations to how much reserved capacity you can request?\\n\\nYes, your request for reserved capacity is subject to service limits. If you anticipate exceeding these limits, it's advisable to request a service limit increase.\", 'path': 'faq'}, array('f', [0.06113964691758156, -0.025045305490493774, -0.03952150419354439, 0.0458810031414032, 0.013730179518461227, 0.03175709769129753, -0.050604622811079025, 0.024214867502450943, -0.007480966858565807, 0.006200422998517752, -0.034300606697797775, 0.060817401856184006, 0.03619104251265526, 0.0468745194375515, 0.05577270686626434, -0.03248800337314606, 0.015155759640038013, 0.02584954723715782, -0.05133483186364174, -0.023301657289266586, -0.013466433621942997, -0.046686604619026184, -0.060346465557813644, -0.07933969795703888, -0.01274386327713728, -0.07986659556627274, -0.025930996984243393, -0.003840792691335082, 0.05584125220775604, -0.0028602834790945053, -0.05326198786497116, 0.0038075228221714497, -0.0034057125449180603, -0.037514686584472656, 0.15191909670829773, -0.031247984617948532, -0.01494328211992979, -0.018608635291457176, -0.037270672619342804, 0.05864496901631355, -0.005267505068331957, 0.05903848260641098, -0.07833056151866913, 0.02848111093044281, 0.020447948947548866, 0.04223881661891937, -0.052209362387657166, 0.01198483258485794, 0.0076087103225290775, -0.05027521029114723, 0.024567894637584686, 0.06120928376913071, 0.06724539399147034, 0.08350062370300293, -0.05026505887508392, -0.11821620911359787, 0.016666242852807045, -0.016393855214118958, -0.09730367362499237, 0.03256584703922272, 0.04993708059191704, -0.11666638404130936, 0.008936860598623753, -0.01961340755224228, -0.013010840862989426, 0.08683556318283081, -0.027880731970071793, 0.08394613862037659, 0.004610286094248295, 0.057142626494169235, 0.018125014379620552, 0.0681343525648117, -0.0908380076289177, -0.019540052860975266, 0.028759539127349854, 0.08047303557395935, 0.041692253202199936, -0.0030169871170073748, 0.055479779839515686, -0.055046241730451584, -0.06152603402733803, 0.04821374639868736, 0.025347014889121056, -0.011727848090231419, -0.06085435301065445, -0.055127840489149094, -0.02146342024207115, 0.11927192658185959, -0.05869489908218384, 0.0020420278888195753, 0.022424429655075073, 0.06511051207780838, 0.026359127834439278, 0.04327133670449257, -0.09722480922937393, -0.05420912057161331, -0.03662751987576485, -0.0648222342133522, -0.09240052849054337, -0.03559328243136406, 0.040710095316171646, 0.025445859879255295, 0.0030888111796230078, 0.07916384935379028, -0.041425153613090515, 0.004448697902262211, 0.05483758822083473, 0.07381896674633026, -0.038433972746133804, 0.053320884704589844, 0.03501298651099205, 0.03583447262644768, 0.01830202341079712, -0.017718605697155, 0.010867254808545113, 0.07409477978944778, -0.10601215809583664, -0.02346140332520008, 0.009249428287148476, -0.028836172074079514, -0.09685312956571579, 0.0773768201470375, 0.03931534290313721, -0.024673189967870712, -0.06026130169630051, -0.0030471435748040676, -0.021076247096061707, 0.013300569728016853, -0.027559367939829826, -0.06037600338459015, -0.05878780782222748, -0.07361678034067154, -0.05573436617851257, -0.09914561361074448, 0.03359224274754524, -0.001890796236693859, 0.06430832296609879, -0.059910912066698074, -0.0029256651178002357, 0.09397415816783905, 0.03928665444254875, -0.03796934336423874, 0.023732302710413933, 0.00845278985798359, 0.12415122985839844, 0.07623707503080368, 0.056755635887384415, 0.031940657645463943, 0.030813293531537056, -0.06293395161628723, -0.06349971890449524, 0.03377625346183777, 0.004488053265959024, -0.007287627551704645, -0.004118182696402073, 0.007241223938763142, 0.0716654360294342, 0.02948145568370819, -0.001412108656950295, 0.08595830947160721, 0.051170021295547485, -0.06308512389659882, 0.05281457304954529, 0.0029872534796595573, -0.07558774948120117, 0.015591520816087723, -0.07012137025594711, 0.002359292469918728, 0.05891026183962822, 0.046131353825330734, 0.027136702090501785, 0.05771549791097641, -0.04285275936126709, -0.06451237946748734, -0.003323927754536271, -0.09618327766656876, -0.042150549590587616, 0.03749794512987137, -0.06245134398341179, -0.02235676720738411, -0.11899501085281372, 0.024459991604089737, -0.01030619814991951, 0.05959794670343399, -0.02128640189766884, 0.005592626985162497, 0.054985858500003815, 0.03193196281790733, 0.0007116819033399224, -0.02991320565342903, 0.026818128302693367, -0.048093874007463455, 0.07879853993654251, 0.002384819323197007, -0.01032628770917654, -0.0013890431728214025, -0.023964770138263702, 0.006125705782324076, -0.036895669996738434, -0.03575200214982033, -0.04140933230519295, 0.07254596799612045, -0.08423662930727005, -0.03691902011632919, 0.04401685297489166, 0.08906324952840805, 0.013281948864459991, 0.026508014649152756, -0.06864967942237854, -0.03747633099555969, 0.08313415199518204, -0.0011374425375834107, 0.030754119157791138, -0.0688474103808403, 0.023993128910660744, 0.06289777159690857, 0.09153930842876434, -0.02204928733408451, -0.05185659974813461, -0.008627112954854965, -0.08811814337968826, -0.0073392149060964584, 0.0348643958568573, 8.201199272392505e-33, -0.034241802990436554, -0.05093567073345184, -0.08194603025913239, -0.007189818192273378, 0.001245281775481999, -0.005070939660072327, 0.03455755114555359, -0.07109785079956055, -0.006900855805724859, -0.028196213766932487, -0.05315513536334038, -0.01031168270856142, -0.015361916273832321, 0.02493426948785782, -0.1396038681268692, -0.03171427920460701, -0.09343261271715164, -0.04583136364817619, 0.051033273339271545, -0.04531347379088402, 6.86503917677328e-05, -0.048546403646469116, 0.06826435774564743, 0.013074085116386414, 0.0627298355102539, 0.04932628571987152, -0.07010256499052048, 0.04828236252069473, -0.07009394466876984, 0.059834521263837814, 0.028447143733501434, -0.03365316614508629, -0.04367527365684509, 0.04554738104343414, 0.0010596051579341292, -0.11676865071058273, 0.02884790301322937, 0.09342841804027557, -0.02898479253053665, 0.07044298201799393, 0.031072597950696945, -0.025559959933161736, 0.11825378239154816, -0.03121386468410492, 0.022606680169701576, 0.022074541077017784, 0.024209659546613693, -0.07475889474153519, 0.05496123433113098, 0.02162519469857216, -0.03435872122645378, -0.045785002410411835, 0.07888183742761612, 0.05102584511041641, 0.06043414771556854, 0.0031139387283474207, 0.06479963660240173, 0.012591611593961716, 0.040485624223947525, -0.025826113298535347, 0.046134788542985916, -0.04106789454817772, -0.05043180659413338, -0.08660747855901718, -0.01893487758934498, 0.045045290142297745, 0.011834058910608292, -0.10911853611469269, -0.019545234739780426, -0.014727368950843811, -0.060927532613277435, -0.006952841766178608, -0.02195661887526512, 0.08266186714172363, -0.11264385282993317, -0.006045631133019924, 0.02268041856586933, 0.05234713852405548, 0.03967200219631195, -0.009603269398212433, -0.02175605297088623, 0.025738658383488655, 0.034211378544569016, -0.03548488765954971, 0.037939269095659256, 0.0031091319397091866, 0.07795832306146622, -0.01892801746726036, -0.004978019278496504, 0.012172036804258823, 0.012037920765578747, 0.058965351432561874, -0.0394793339073658, 0.00561553193256259, -0.024751827120780945, 5.112089162128608e-32, -0.06341630220413208, 0.06799418479204178, 0.007556564174592495, 0.005440803244709969, 0.12142851203680038, -0.11361072212457657, 0.030477244406938553, -0.018541783094406128, 0.055562835186719894, 0.05825670808553696, 0.044385649263858795, -0.06674505025148392, 0.03616009280085564, 0.042748842388391495, -0.07569064944982529, 0.03197998180985451, -0.014922182075679302, -0.03296038135886192, -0.04793054983019829, 0.04250527545809746, 0.060485612601041794, 0.034119777381420135, -0.004508648999035358, -0.010457727126777172, 0.014797216281294823, 0.01894691400229931, 0.057642046362161636, 0.05512438714504242, -0.02038203924894333, -0.07406371831893921, -0.03822416812181473, 0.040738143026828766, -0.03865548595786095, -0.10648347437381744, 0.0015101608587428927, -0.008467145264148712, -0.06024997681379318, 0.003725595073774457, -0.04853937774896622, 0.0005990894278511405, -0.00839167833328247, -0.0807989239692688, 0.004931793548166752, 0.06553049385547638, 0.015181680209934711, -0.08700889348983765, -0.045216888189315796, 0.044005926698446274, 0.06695693731307983, 0.03265785053372383, 0.0286893118172884, 0.006372286006808281, 0.08075739443302155, -0.0018557999283075333, -0.03271866217255592, 0.043760646134614944, 0.003671136684715748, 0.05474455654621124, 0.0449676550924778, 0.03469126671552658, -0.015494843944907188, -0.03288521617650986, -0.024626905098557472, 0.029629716649651527]))\n"
     ]
    }
   ],
   "source": [
    "with connection.cursor() as cursor:\n",
    "    # Define the query to select all rows from a table\n",
    "    query = f\"SELECT * FROM {table_name}\"\n",
    "\n",
    "    # Execute the query\n",
    "    cursor.execute(query)\n",
    "\n",
    "    # Fetch all rows\n",
    "    rows = cursor.fetchall()\n",
    "\n",
    "    # Print the rows\n",
    "    for row in rows[:5]:\n",
    "        print(row)"
   ]
  },
  {
   "cell_type": "code",
   "execution_count": 11,
   "metadata": {},
   "outputs": [],
   "source": [
    "topK = 3\n",
    "\n",
    "sql = f\"\"\"select payload, vector_distance(vector, :vector, COSINE) as score\n",
    "from {table_name}\n",
    "order by score\n",
    "fetch approx first {topK} rows only\"\"\""
   ]
  },
  {
   "cell_type": "code",
   "execution_count": 12,
   "metadata": {},
   "outputs": [],
   "source": [
    "question = 'My resources no longer appear. How can I restore them?'"
   ]
  },
  {
   "cell_type": "code",
   "execution_count": 13,
   "metadata": {},
   "outputs": [],
   "source": [
    "with connection.cursor() as cursor:\n",
    "  embedding = list(encoder.encode(question))\n",
    "  vector = array.array(\"f\", embedding)"
   ]
  },
  {
   "cell_type": "code",
   "execution_count": 14,
   "metadata": {},
   "outputs": [],
   "source": [
    "with connection.cursor() as cursor:\n",
    "  embedding = list(encoder.encode(question))\n",
    "  vector = array.array(\"f\", embedding)\n",
    "\n",
    "  results  = []\n",
    "\n",
    "  for (info, score, ) in cursor.execute(sql, vector=vector):\n",
    "      text_content = info.read()\n",
    "      results.append((score, json.loads(text_content)))"
   ]
  },
  {
   "cell_type": "code",
   "execution_count": 15,
   "metadata": {},
   "outputs": [
    {
     "name": "stdout",
     "output_type": "stream",
     "text": [
      "[(0.2884202845201732,\n",
      "  {'text': 'faq | My resources no longer appear. How can I restore them?\\n'\n",
      "           '\\n'\n",
      "           'If you have a Free Tier account and your resources no longer '\n",
      "           'appear, it’s likely that your Free Trial has expired and your paid '\n",
      "           'resources have been reclaimed (terminated). You can verify if this '\n",
      "           'is the case by doing the following: \\n'\n",
      "           'Log in to the Console\\n'\n",
      "           'Check for a banner at the top of the Console with the following '\n",
      "           'text: “You are using a Free Tier account. To access all services '\n",
      "           'and resources, upgrade to a paid account.”\\n'\n",
      "           '\\n'\n",
      "           'If you see this message, your resources have been reclaimed and '\n",
      "           'can’t be restored.',\n",
      "   'path': 'faq'}),\n",
      " (0.6864412401442181,\n",
      "  {'text': 'faq | How do I recover my data once the 30-day Free Trial comes to '\n",
      "           'an end?\\n'\n",
      "           '\\n'\n",
      "           'You are responsible for exporting and importing all of your data '\n",
      "           'manually or using tools supported by the object storage.',\n",
      "   'path': 'faq'}),\n",
      " (0.7147451825962471,\n",
      "  {'text': 'faq | How do I change which resources I want to designate as '\n",
      "           'Always Free?\\n'\n",
      "           '\\n'\n",
      "           'In short, you can’t. Eligible resources are designated Always Free '\n",
      "           'when they are created. After you provision an Always Free '\n",
      "           'resource, the Always Free status is not transferable to another '\n",
      "           'resource. However, you can delete an existing Always Free resource '\n",
      "           'in order to create a new Always Free resource in its place.',\n",
      "   'path': 'faq'})]\n"
     ]
    }
   ],
   "source": [
    "import pprint\n",
    "pprint.pp(results)"
   ]
  },
  {
   "cell_type": "code",
   "execution_count": 16,
   "metadata": {},
   "outputs": [
    {
     "data": {
      "application/vnd.jupyter.widget-view+json": {
       "model_id": "4ca2cfe068a74964b627c036c2b412df",
       "version_major": 2,
       "version_minor": 0
      },
      "text/plain": [
       "tokenizer_config.json:   0%|          | 0.00/1.54k [00:00<?, ?B/s]"
      ]
     },
     "metadata": {},
     "output_type": "display_data"
    },
    {
     "data": {
      "application/vnd.jupyter.widget-view+json": {
       "model_id": "104224cf4f6e44f09a52788b646f7dcc",
       "version_major": 2,
       "version_minor": 0
      },
      "text/plain": [
       "tokenizer.model:   0%|          | 0.00/500k [00:00<?, ?B/s]"
      ]
     },
     "metadata": {},
     "output_type": "display_data"
    },
    {
     "data": {
      "application/vnd.jupyter.widget-view+json": {
       "model_id": "198f70021c864b108a5b6966b9fceb44",
       "version_major": 2,
       "version_minor": 0
      },
      "text/plain": [
       "tokenizer.json:   0%|          | 0.00/1.84M [00:00<?, ?B/s]"
      ]
     },
     "metadata": {},
     "output_type": "display_data"
    },
    {
     "data": {
      "application/vnd.jupyter.widget-view+json": {
       "model_id": "8af4a172ddb24667840c466f433652ed",
       "version_major": 2,
       "version_minor": 0
      },
      "text/plain": [
       "special_tokens_map.json:   0%|          | 0.00/411 [00:00<?, ?B/s]"
      ]
     },
     "metadata": {},
     "output_type": "display_data"
    },
    {
     "name": "stderr",
     "output_type": "stream",
     "text": [
      "You are using the default legacy behaviour of the <class 'transformers.models.llama.tokenization_llama_fast.LlamaTokenizerFast'>. This is expected, and simply means that the `legacy` (previous) behavior will be used so nothing changes for you. If you want to use the new behaviour, set `legacy=False`. This should only be set if you understand what it means, and thoroughly read the reason why this was added as explained in https://github.com/huggingface/transformers/pull/24565 - if you loaded a llama tokenizer from a GGUF file you can ignore this message.\n"
     ]
    }
   ],
   "source": [
    "from transformers import LlamaTokenizerFast\n",
    "import sys\n",
    "\n",
    "tokenizer = LlamaTokenizerFast.from_pretrained(\"hf-internal-testing/llama-tokenizer\")\n",
    "\n",
    "\n",
    "tokenizer.model_max_length = sys.maxsize\n",
    "\n",
    "def truncate_string(string, max_tokens):\n",
    "    # Tokenize the text and count the tokens\n",
    "    tokens = tokenizer.encode(string, add_special_tokens=True) \n",
    "    # Truncate the tokens to a maximum length\n",
    "    truncated_tokens = tokens[:max_tokens]\n",
    "    # transform the tokens back to text\n",
    "    truncated_text = tokenizer.decode(truncated_tokens)\n",
    "    return truncated_text"
   ]
  },
  {
   "cell_type": "code",
   "execution_count": 17,
   "metadata": {},
   "outputs": [],
   "source": [
    "# transform docs into a string array using the \"paylod\" key\n",
    "docs_as_one_string = \"\\n=========\\n\".join([doc[\"text\"] for doc in docs])\n",
    "docs_truncated = truncate_string(docs_as_one_string, 1000)"
   ]
  },
  {
   "cell_type": "code",
   "execution_count": 18,
   "metadata": {},
   "outputs": [],
   "source": [
    "prompt = f\"\"\"\\\n",
    "    <s>[INST] <<SYS>>\n",
    "    You are a helpful assistant named Oracle chatbot. \n",
    "    USE ONLY the sources below and ABSOLUTELY IGNORE any previous knowledge.\n",
    "    Use Markdown if appropriate.\n",
    "    Assume the customer is highly technical.\n",
    "    <</SYS>> [/INST]\n",
    "\n",
    "    [INST]\n",
    "    Respond to PRECISELY to this question: \"{question}.\",  USING ONLY the following information and IGNORING ANY PREVIOUS KNOWLEDGE.\n",
    "    Include code snippets and commands where necessary.\n",
    "    NEVER mention the sources, always respond as if you have that knowledge yourself. Do NOT provide warnings or disclaimers.\n",
    "    =====\n",
    "    Sources: {docs_truncated}\n",
    "    =====\n",
    "    Answer (Three paragraphs, maximum 50 words each, 90% spartan):\n",
    "    [/INST]\n",
    "    \"\"\""
   ]
  },
  {
   "cell_type": "code",
   "execution_count": 19,
   "metadata": {},
   "outputs": [],
   "source": [
    "import oci"
   ]
  },
  {
   "cell_type": "code",
   "execution_count": 20,
   "metadata": {},
   "outputs": [
    {
     "name": "stdout",
     "output_type": "stream",
     "text": [
      "**************************Chat Result**************************\n"
     ]
    }
   ],
   "source": [
    "compartment_id = \"ocid1.tenancy.oc1..aaaaaaaaogia3wprum3yvc5qhcrdcxzrtwloiusgk5dbb5uibgcayapljwtq\"\n",
    "\n",
    "# Crear un proveedor de autenticación de instancias principales\n",
    "signer = oci.auth.signers.InstancePrincipalsSecurityTokenSigner()\n",
    "\n",
    "# Service endpoint\n",
    "endpoint = \"https://inference.generativeai.us-chicago-1.oci.oraclecloud.com\"\n",
    "\n",
    "generative_ai_inference_client = oci.generative_ai_inference.GenerativeAiInferenceClient(config={}, signer=signer, service_endpoint=endpoint, retry_strategy=oci.retry.NoneRetryStrategy(), timeout=(10,240))\n",
    "chat_detail = oci.generative_ai_inference.models.ChatDetails()\n",
    "\n",
    "content = oci.generative_ai_inference.models.TextContent()\n",
    "content.text = f\"{prompt}\"\n",
    "message = oci.generative_ai_inference.models.Message()\n",
    "message.role = \"USER\"\n",
    "message.content = [content]\n",
    "chat_request = oci.generative_ai_inference.models.GenericChatRequest()\n",
    "chat_request.api_format = oci.generative_ai_inference.models.BaseChatRequest.API_FORMAT_GENERIC\n",
    "chat_request.messages = [message]\n",
    "chat_request.max_tokens = 1000\n",
    "chat_request.temperature = 1\n",
    "chat_request.frequency_penalty = 0\n",
    "chat_request.presence_penalty = 0\n",
    "chat_request.top_p = 0.75\n",
    "chat_request.top_k = -1\n",
    "\n",
    "chat_detail.serving_mode = oci.generative_ai_inference.models.OnDemandServingMode(model_id=\"ocid1.generativeaimodel.oc1.us-chicago-1.amaaaaaask7dceyarleil5jr7k2rykljkhapnvhrqvzx4cwuvtfedlfxet4q\")\n",
    "chat_detail.chat_request = chat_request\n",
    "\n",
    "chat_detail.compartment_id = compartment_id\n",
    "chat_response = generative_ai_inference_client.chat(chat_detail)\n",
    "# Print result\n",
    "print(\"**************************Chat Result**************************\")\n",
    "#print(vars(chat_response))"
   ]
  },
  {
   "cell_type": "code",
   "execution_count": 21,
   "metadata": {},
   "outputs": [
    {
     "name": "stdout",
     "output_type": "stream",
     "text": [
      "### Restoring Resources\n",
      "\n",
      "If your resources no longer appear, you may need to re-authenticate or re-initialize your Oracle Cloud Infrastructure (OCI) configuration. Run the command `oci iam compartment list` to verify your compartment settings.\n",
      "\n",
      "### Re-initializing OCI Configuration\n",
      "\n",
      "To re-initialize your OCI configuration, run the command `oci setup config` and follow the prompts to re-enter your configuration settings. This will re-authenticate your session and restore access to your resources.\n",
      "\n",
      "### Verifying Resources\n",
      "\n",
      "After re-initializing your OCI configuration, run the command `oci resource search` to verify that your resources are restored. If issues persist, contact Oracle Cloud support for further assistance.\n"
     ]
    }
   ],
   "source": [
    "print(chat_response.data.chat_response.choices[0].message.content[0].text)"
   ]
  },
  {
   "cell_type": "code",
   "execution_count": null,
   "metadata": {},
   "outputs": [],
   "source": []
  }
 ],
 "metadata": {
  "kernelspec": {
   "display_name": "Python 3",
   "language": "python",
   "name": "python3"
  },
  "language_info": {
   "codemirror_mode": {
    "name": "ipython",
    "version": 3
   },
   "file_extension": ".py",
   "mimetype": "text/x-python",
   "name": "python",
   "nbconvert_exporter": "python",
   "pygments_lexer": "ipython3",
   "version": "3.10.12"
  }
 },
 "nbformat": 4,
 "nbformat_minor": 2
}
