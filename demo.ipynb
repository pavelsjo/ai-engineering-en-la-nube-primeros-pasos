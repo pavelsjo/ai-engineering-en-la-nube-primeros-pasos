{
 "cells": [
  {
   "cell_type": "code",
   "execution_count": 6,
   "metadata": {},
   "outputs": [],
   "source": [
    "import os\n",
    "\n",
    "def loadFAQs(directory_path):\n",
    "   faqs = {}\n",
    "\n",
    "   for filename in os.listdir(directory_path):\n",
    "      if filename.endswith(\".txt\"):  # assuming FAQs are in .txt files\n",
    "         file_path = os.path.join(directory_path, filename)\n",
    "\n",
    "         with open(file_path) as f:\n",
    "            raw_faq = f.read()\n",
    "\n",
    "         filename_without_ext = os.path.splitext(filename)[0]  # remove .txt extension\n",
    "         faqs[filename_without_ext] = [text.strip() for text in raw_faq.split('=====')]\n",
    "\n",
    "   return faqs"
   ]
  },
  {
   "cell_type": "code",
   "execution_count": 7,
   "metadata": {},
   "outputs": [
    {
     "data": {
      "text/plain": [
       "{'faq': ['Who are you and what can you do?\\n\\nI am DORA, the Digital ORacle Assistant, a digital assistant working for Oracle EMEA. I can answer questions about Oracle Cloud (OCI) and especially about the Free Trial and Always Free programs.',\n",
       "  'What is Oracle Cloud Free Tier?\\n\\nOracle Cloud Free Tier allows you to sign up for an Oracle Cloud account which provides a number of Always Free services and a Free Trial with US$300 of free credit to use on all eligible Oracle Cloud Infrastructure services for up to 30 days. The Always Free services are available for an unlimited period of time. The Free Trial services may be used until your US$300 of free credits are consumed or the 30 days has expired, whichever comes first.',\n",
       "  'Who should use Oracle Cloud Free Tier?\\n\\nOracle Cloud Free Tier services are for everyone. Whether you’re a developer building and testing applications, a startup founder creating new systems with the intention of scaling later, an enterprise looking to test things before moving to cloud, a student wanting to learn, or an academic developing curriculum in the cloud, Oracle Cloud Free Tier enables you to learn, explore, build and test for free.',\n",
       "  'Who is eligible for Oracle Cloud Free Tier?\\n\\nOne Oracle Cloud Free Trial or Always Free account is permitted per person. Please note:\\n\\nCreating or attempting to create multiple free accounts is prohibited.\\nAll contact and billing information provided must be accurate, valid, and used with consent for the duration of the account.\\nFailure to comply with these requirements may result in the suspension or termination of your account.',\n",
       "  'Why do I need to provide credit or debit card information when I sign up for Oracle Cloud Free Tier?\\n\\nTo provide free Oracle Cloud accounts to our valued customers, we need to ensure that you are who you say you are. We use your contact information and credit/debit card information for account setup and identity verification. Oracle may periodically check the validity of your card, resulting in a temporary “authorization” hold. These holds are removed by your bank, typically within three to five days, and do not result in actual charges to your account.',\n",
       "  'What payment methods does Oracle accept?\\n\\nWe accept credit cards and debit cards that function like credit cards. We do not accept debit cards with a PIN or virtual, single-use, or prepaid cards.',\n",
       "  'Is Oracle Cloud Free Tier available in all countries?\\n\\nOracle Cloud Free Tier is currently available in all regions where commercial Oracle Cloud Infrastructure service is available. See the data regions page for detailed service availability. * If your first-choice data region isn’t available, please select an adjacent region. If you are unable to find the country or territory you require, please contact Oracle Sales or Cloud Support using the Chat link in the menu bar. The Oracle Sales team can help you sign up for Oracle Cloud Free Tier.',\n",
       "  'How do I sign up for Oracle Cloud Free Tier?\\n\\nYou can sign up on the Oracle Cloud Free Tier sign up page.',\n",
       "  'How do I get help if I have problems signing up or signing in?\\n\\nContact the Oracle Cloud support team using the Chat link in the menu bar.',\n",
       "  'Does Oracle Cloud Free Tier include service level agreements (SLAs) and technical support?\\n\\nOracle Cloud Free Tier does not include SLAs. Community support through our forums is available to all customers. Customers using only Always Free resources are not eligible for Oracle Support. Limited support is available for Oracle Cloud Free Tier with Free Trial credits. After you use all of your credits or after your trial period ends (whichever comes first), you must upgrade to a paid account to access Oracle Support. If you choose not to upgrade and continue to use Always Free Services, you will not be eligible to raise a service request in My Oracle Support.',\n",
       "  'What are Always Free services?\\n\\nAlways Free services are part of Oracle Cloud Free Tier. Always Free services are available for an unlimited time. Some limitations apply. As new Always Free services become available, you will automatically be able to use those as well.\\n\\nThe following services are available as Always Free:\\n\\nAMD-based Compute\\nArm-based Ampere A1 Compute\\nBlock Volume\\nObject Storage\\nArchive Storage\\nFlexible Load Balancer\\nFlexible Network Load Balancer\\nVPN Connect\\nAutonomous Data Warehouse\\nAutonomous Transaction Processing\\nAutonomous JSON Database\\nNoSQL Database (Phoenix Region only)\\nAPEX Application Development\\nResource Manager (Terraform)\\nMonitoring\\nNotifications\\nLogging\\nApplication Performance Monitoring\\nService Connector Hub\\nVault\\nBastions\\nSecurity Advisor\\nVirtual Cloud Networks\\nSite-to-Site VPN\\nContent Management Starter Edition\\nEmail Delivery',\n",
       "  'What can I do with Always Free Oracle Autonomous Database?\\n\\nWith Oracle Autonomous Database now always free, developers can access a full database experience and built-in development tools for free—without worrying about losing work at the end of a trial period. Autonomous Database is a multimodel database for virtually any type of data (including relational, JSON, spatial, graph, multimedia, XML, files, and more), any workload (transactional, data warehouse, and analytics), and any interface (full SQL, REST data access, and language drivers). The service includes free development tools such as SQL Developer IDE, Oracle Application Express (APEX) for low-code app creation, Oracle REST Data Services, and powerful command-line utilities. To keep building even when you are disconnected from Oracle Cloud, you can mix Always Free Oracle Autonomous Database with a compatible always-free version of Oracle Database that runs on your laptop (see Oracle Database XE).',\n",
       "  'What can I do with Always Free Oracle Cloud Infrastructure?\\n\\nWith Always Free Oracle Cloud Infrastructure services, you get the essentials you need to build and test applications in the cloud. This includes two compute instances, NVMe SSD-powered block storage, high-bandwidtou’ll be notified by email when billing begins.h object storage, archive storage, and load balancing, all on our enterprise-grade virtual networks. These resources enable you to prototype two-tier high availability applications, test server cloning and other advanced storage features, or build basic data pipelines with object storage, as just a few examples. Coupling with Always Free Autonomous Database or our Free Tier gives you even more options. Our cloud infrastructure includes rich APIs, SDKs for Java, Python, Ruby, and Go, and cool plug-ins for Jenkins, Packer, and Grafana. And you can automate it all with Terraform.',\n",
       "  'I need more instances or larger sizes of Always Free services. What should I do?\\n\\nIf your cloud account is in Free Trial period or has paid status, you can directly upgrade an Always Free resource to a paid resource to get more processing power, data storage, and network bandwidth. If your account has finished Free Trial without upgrading to paid status, you can continue using Always Free resources but you cannot upgrade Always Free resources to paid resources until the account is first upgraded to paid status.\\n\\nYou may upgrade an account to paid status at any time from the Account Management area in Oracle Cloud Console. You will be able to choose between Pay As You Go or Monthly Flex plans. Alternatively, you may contact Oracle Sales for assistance. See cloud cost estimator for details.\\n\\nIn addition, you may spend free credits during a Free Trial period to create more instances or larger instances than allowed for Always Free. Note that paid instances created during a trial period will be reclaimed when the Free Trial ends, whereas Always Free resources will continue to be available even after the Free Trial period.',\n",
       "  'I just signed up and I can’t access specific services. What can I do?\\n\\nRegistering your account with all services and regions can take a few minutes. Check again after a few minutes have passed.',\n",
       "  'How do I change which resources I want to designate as Always Free?\\n\\nIn short, you can’t. Eligible resources are designated Always Free when they are created. After you provision an Always Free resource, the Always Free status is not transferable to another resource. However, you can delete an existing Always Free resource in order to create a new Always Free resource in its place.',\n",
       "  'My resources no longer appear. How can I restore them?\\n\\nIf you have a Free Tier account and your resources no longer appear, it’s likely that your Free Trial has expired and your paid resources have been reclaimed (terminated). You can verify if this is the case by doing the following: \\nLog in to the Console\\nCheck for a banner at the top of the Console with the following text: “You are using a Free Tier account. To access all services and resources, upgrade to a paid account.”\\n\\nIf you see this message, your resources have been reclaimed and can’t be restored.',\n",
       "  'I get an “out of host capacity” error when I try to create an Always Free Compute instance. What can I do?\\n\\nAn \"out of host capacity\" error indicates a temporary lack of Always Free shapes in your home region. Oracle is working to provide more capacity, though it might take several days before additional capacity is available in your home region. If your home region has multiple availability domains, try creating the instance in a different availability domain. If that doesn’t work, wait a while, and then try to launch the instance again.',\n",
       "  'Is my Free Tier account eligible for support?\\n\\nCommunity support through our forums is available to all customers. Customers using only Always Free resources are not eligible for Oracle Support. Limited support is available to Free Tier accounts with Free Trial credits. After you use all of your credits or after your trial period ends (whichever comes first), you must upgrade to a paid account to access Oracle Support. If you choose not to upgrade and continue to use Always Free Services, you will not be eligible to raise a service request in My Oracle Support. See Getting Help and Contacting Support.',\n",
       "  'Are Always Free services available for paid accounts?\\n\\nYes, for paid accounts using universal credit pricing.',\n",
       "  'What is Free Trial?\\n\\nFree Trial is part of Oracle Cloud Free Tier and provides US$300 of free credits to use on all eligible Oracle Cloud Infrastructure services for up to 30 days. The Free Trial period may end either because all free credits are spent or 30 days has been reached.',\n",
       "  'For how long can I use my Free Trial credits?\\n\\nYou must use all your Free Trial credits within 30 days of signing up for Oracle Cloud Free Tier. Any credits that are unused at the end of the 30-day period will automatically expire. The Always Free services will continue to be available for unlimited time as long as you use the services.',\n",
       "  \"Is it possible to extend my Free Trial?\\n\\nIf you need additional credits or time, you can schedule a call with an Oracle sales representative using the Upgrade page in the Console. Sales representatives have the authority to extend trials or issue additional credits if appropriate.\\n\\nIf you don't see an Upgrade link on the Console page you’re viewing, you can click the Oracle Cloud logo at the top of the Console and then look for the Upgrade link in the sidebar on the right side of the page.\",\n",
       "  \"What happens when my Free Trial expires or my credits are used up?\\n\\nWhen you've reached the end of your 30-day trial or used all your Free Trial credits (whichever comes first), you’ll be notified and will have a grace period of 30 days, starting from the expiration date, to upgrade to paid. You will no longer be able to create new paid resources, but your account will remain active. Your resources will continue to exist for a few days, allowing you to upgrade your account and keep your resources before they're reclaimed by Oracle. If you do not upgrade to paid by the end of the grace period, your Free Trial service instances and data will be deleted. (Note that reclaimed resources can’t be recovered—they are permanently deleted.)\\n\\nResources identified as Always Free will not be reclaimed. After your Free Trial expires, you'll continue to be able to use and manage your existing Always Free resources, and can create new Always Free resources according to tenancy limits.\\n\\nHowever, if you have more Ampere A1 Compute instances provisioned than are available for an Always Free tenancy, all existing Ampere A1 instances are disabled and then deleted after 30 days, unless you upgrade to a paid account. To continue using your existing Arm-based instances as an Always Free user, before your trial ends, ensure that your total use of OCPUs and memory across all the Ampere A1 Compute instances in your tenancy is within the Always Free limit.\",\n",
       "  \"If I upgrade, do I keep my Free Trial credit balance?\\n\\nYes, if you upgrade during the Free Trial period, you won’t be billed until you've reached the end of your 30-day trial or used all of your Free Trial credits (whichever comes first). You’ll be notified by email when billing begins.\",\n",
       "  'After I upgrade my account, can I downgrade?\\n\\nThere is no option to downgrade your account. However, with a paid account, you’ll continue to have access to Always Free resources, and you’ll only pay for the standard resources you use. No minimums and no prepayment are required for your paid account.',\n",
       "  'How do I recover my data once the 30-day Free Trial comes to an end?\\n\\nYou are responsible for exporting and importing all of your data manually or using tools supported by the object storage.',\n",
       "  'What is Oracle Cloud Promotion?\\n\\nOracle Cloud Promotion is another term for Free Trial.',\n",
       "  'How do I convert my Oracle Cloud Free Tier account to a paid account?\\n\\nYou can upgrade your cloud account to paid at any time. Simply go to Account Management in the Oracle Cloud Console and complete the upgrade steps.',\n",
       "  'Is my credit usage rate discounted during Free Trial?\\n\\nYes, during the Free Trial period of 30 days, your usage rates are discounted. This will let you gain free, hands-on experience with the wide range of Oracle Cloud services.',\n",
       "  'What are the discounted rates?\\n\\nDuring the 30-day Free Trial period, you will consume your trial credits at the deeply discounted Oracle IaaS rates for all platform services including Oracle Database Cloud, Java Cloud Service (WebLogic), and other services, as compared to a regular OCI Rate Card',\n",
       "  'How do I terminate my Free Tier account?\\n\\nPlease refer to the documentation section on deleting a Free Tier Tenancy and Cloud Account for details on account termination.',\n",
       "  'Free Tier is currently available in all regions where commercial Oracle Cloud Infrastructure service is available. See the data regions page for detailed service availability. The US$300 free credit is available in select countries and valid for up to 30 days. Oracle Cloud credits are consumed at discounted rates during the 30-day promotional period. The capacity limits listed under each service are only estimates and reflect the maximum capacity you can get if you consume your entire credit on one service during the promotional period. The maximum capacity per service you get can be less if you consume multiple services. The list of services and capacity estimates are subject to change. Your credit balance is available to you in the Oracle Cloud Infrastructure Console.',\n",
       "  '1 OCPU on x86 CPU Architecture (AMD and Intel) = 2 vCPUs; 1 OCPU on Arm CPU Architecture (Ampere) = 1 vCPU',\n",
       "  'Availability to Free Tier is subject to capacity limits.',\n",
       "  'What is Oracle Cloud Infrastructure Compute?\\n\\nOracle Cloud Infrastructure Compute allows you to provision and manage compute hosts, known as instances, to meet your compute and application requirements.',\n",
       "  'What can you do with Oracle Cloud Infrastructure Compute instances?\\n\\nYou can access instances securely, restart them, attach and detach volumes, and terminate them when no longer needed. Local drive changes are lost upon termination, but saved volume changes are retained.',\n",
       "  'What types of instances are available in Oracle Cloud Infrastructure?\\n\\nOracle Cloud Infrastructure offers both bare metal and virtual machine instances.',\n",
       "  'What is the advantage of using a bare metal compute instance?\\n\\nBare metal instances provide dedicated physical server access for highest performance and strong isolation.',\n",
       "  'What is a virtual machine (VM) instance in Oracle Cloud Infrastructure?\\n\\nA virtual machine (VM) is an independent computing environment running on top of physical bare metal hardware, allowing isolation and the ability to run multiple VMs.',\n",
       "  'How do Oracle Cloud Infrastructure VM compute instances compare to bare metal instances?\\n\\nVM compute instances run on the same hardware as bare metal instances, leveraging the same cloud-optimized hardware, firmware, software stack, and networking infrastructure.',\n",
       "  'Where can I find more information about the Compute service and related services?\\n\\nYou can learn more about the Compute service and related services in the provided link.',\n",
       "  'What should I review when working with Compute instances in Oracle Cloud Infrastructure?\\n\\nYou should review the \"Best Practices for Your Compute Instances\" for important information about working with your Compute instances.',\n",
       "  'How can Linux instances on Oracle Cloud Infrastructure apply critical kernel patches without rebooting?\\n\\nLinux instances can use Oracle Ksplice to apply critical kernel patches without rebooting. It works for Oracle Linux, CentOS, and Ubuntu.',\n",
       "  'Is Compute Always Free eligible in Oracle Cloud Infrastructure?\\n\\nYes, Compute is Always Free eligible. You can find more information about Always Free resources in the provided link, including capabilities and limitations.',\n",
       "  'What factors should you consider when creating a compute instance in Oracle Cloud Infrastructure?\\n\\nWhen creating a compute instance, consider factors like the number of CPUs, amount of memory, and network resources to select the most appropriate instance type for your applications.',\n",
       "  'What are burstable instances in Oracle Cloud Infrastructure?\\n\\nBurstable instances are virtual machine (VM) instances that provide a baseline level of CPU performance with the ability to burst to a higher level for occasional spikes in usage.',\n",
       "  'What do shielded instances do in Oracle Cloud Infrastructure?\\n\\nShielded instances harden the firmware security on bare metal hosts and VMs to defend against malicious boot-level software.',\n",
       "  'What are extended memory VM instances in Oracle Cloud Infrastructure?\\n\\nExtended memory VM instances provide more memory and cores than standard shapes, catering to workloads that require extra resources.',\n",
       "  'What types of shape categories are offered by Oracle Cloud Infrastructure?\\n\\nOracle Cloud Infrastructure offers standard shapes, DenseIO shapes, GPU shapes, and high-performance computing (HPC) and optimized shapes.',\n",
       "  'What are standard shapes in Oracle Cloud Infrastructure used for?\\n\\nStandard shapes are designed for general-purpose workloads and are suitable for a wide range of applications, offering a balance of cores, memory, and network resources.',\n",
       "  'What are DenseIO shapes in Oracle Cloud Infrastructure used for?\\n\\nDenseIO shapes are designed for large databases, big data workloads, and applications requiring high-performance local storage with locally-attached NVMe-based SSDs.',\n",
       "  'What are GPU shapes in Oracle Cloud Infrastructure designed for?\\n\\nGPU shapes are designed for hardware-accelerated workloads, with Intel or AMD CPUs and NVIDIA graphics processors. Some bare metal GPU shapes support cluster networking.',\n",
       "  'What are HPC and optimized shapes in Oracle Cloud Infrastructure for?\\n\\nHPC and optimized shapes are designed for high-performance computing workloads that require high-frequency processor cores, and they support cluster networking.',\n",
       "  'Where can I find more information about the available shapes in Oracle Cloud Infrastructure?\\n\\nYou can find more information about the available bare metal and VM shapes in the provided links.',\n",
       "  'How do you provision and manage compute hosts in Oracle Cloud Infrastructure?\\n\\nYou can provision and manage compute hosts using Oracle Cloud Infrastructure Compute.',\n",
       "  'What happens to local drive changes when you terminate an instance in Oracle Cloud Infrastructure?\\n\\nLocal drive changes are lost when you terminate an instance.',\n",
       "  'What is the primary benefit of using bare metal compute instances in Oracle Cloud Infrastructure?\\n\\nBare metal compute instances provide dedicated physical server access for the highest performance and strong isolation.',\n",
       "  'What is the purpose of a virtual machine (VM) instance in Oracle Cloud Infrastructure?\\n\\nA VM instance is an independent computing environment that runs on top of physical bare metal hardware, allowing isolation and the ability to run multiple VMs.',\n",
       "  'Where can I find additional information about the Compute service and related services in Oracle Cloud Infrastructure?\\n\\nYou can find more information about the Compute service and related services by following the provided link.',\n",
       "  'What important information should you review when working with Compute instances in Oracle Cloud Infrastructure?\\n\\nIt is essential to review the \"Best Practices for Your Compute Instances\" for important guidance on working with your Compute instances.',\n",
       "  'How can you apply critical kernel patches to Linux instances in Oracle Cloud Infrastructure without rebooting?\\n\\nYou can use Oracle Ksplice to apply critical kernel patches to Linux instances without the need for a reboot. This works for Oracle Linux, CentOS, and Ubuntu.',\n",
       "  \"Is Compute part of Oracle Cloud Infrastructure's Always Free resources?\\n\\nYes, Compute is Always Free eligible. You can find more details, including capabilities and limitations, in the provided link.\",\n",
       "  'What considerations should you take into account when selecting an instance type for your applications in Oracle Cloud Infrastructure?\\n\\nWhen creating a compute instance, you should consider factors like the number of CPUs, amount of memory, and network resources to choose the most suitable instance type for your applications.',\n",
       "  'What are burstable instances, and how do they function in Oracle Cloud Infrastructure?\\n\\nBurstable instances in Oracle Cloud Infrastructure are virtual machine (VM) instances that provide a baseline level of CPU performance but can burst to a higher level to support occasional spikes in usage.',\n",
       "  'What is the purpose of shielded instances in Oracle Cloud Infrastructure?\\n\\nShielded instances in Oracle Cloud Infrastructure enhance the firmware security on both bare metal hosts and VMs to defend against malicious boot-level software.',\n",
       "  'What distinguishes extended memory VM instances in Oracle Cloud Infrastructure from standard shapes?\\n\\nExtended memory VM instances offer more memory and cores than standard shapes, making them ideal for workloads that require additional resources.',\n",
       "  'What categories of shapes are available in Oracle Cloud Infrastructure to meet different compute and application requirements?\\n\\nOracle Cloud Infrastructure provides various shape categories, including standard shapes, DenseIO shapes, GPU shapes, and high-performance computing (HPC) and optimized shapes.',\n",
       "  'When would you choose DenseIO shapes for your workloads in Oracle Cloud Infrastructure?\\n\\nDenseIO shapes are suitable for large databases, big data workloads, and applications that require high-performance local storage with locally-attached NVMe-based SSDs.',\n",
       "  'What are GPU shapes typically used for in Oracle Cloud Infrastructure?\\n\\nGPU shapes in Oracle Cloud Infrastructure are designed for hardware-accelerated workloads and include Intel or AMD CPUs and NVIDIA graphics processors. Some bare metal GPU shapes support cluster networking.',\n",
       "  'In which scenarios are HPC and optimized shapes in Oracle Cloud Infrastructure beneficial?\\n\\nHPC and optimized shapes are designed for high-performance computing workloads that require high-frequency processor cores and are suitable for applications that need cluster networking.',\n",
       "  'Where can I access more detailed information about the available shapes in Oracle Cloud Infrastructure?\\n\\nYou can find more detailed information about the available bare metal and VM shapes in the provided links.',\n",
       "  'How does Oracle Cloud Infrastructure Compute pricing work?\\n\\nOracle Cloud Infrastructure Compute pricing is based on the resources you consume, including instances, storage, and networking. It varies depending on the instance type and usage.',\n",
       "  \"Can you resize a compute instance in Oracle Cloud Infrastructure after it's been created?\\n\\nYes, you can resize a compute instance in Oracle Cloud Infrastructure to change its shape and allocate more or fewer resources as needed.\",\n",
       "  'What is the process of attaching a volume to a compute instance in Oracle Cloud Infrastructure?\\n\\nTo attach a volume to a compute instance, you can use the Oracle Cloud Infrastructure Console, the command line interface, or the API to specify the instance and the volume to attach.',\n",
       "  'How do you detach a volume from a compute instance in Oracle Cloud Infrastructure?\\n\\nTo detach a volume from a compute instance, you can use the Oracle Cloud Infrastructure Console, the command line interface, or the API to specify the instance and the volume to detach.',\n",
       "  \"What is the purpose of creating a snapshot of a volume in Oracle Cloud Infrastructure?\\n\\nCreating a snapshot of a volume in Oracle Cloud Infrastructure allows you to capture a point-in-time copy of the volume's data for backup or cloning purposes.\",\n",
       "  'Can you access compute instances in Oracle Cloud Infrastructure from a remote location?\\n\\nYes, you can access compute instances in Oracle Cloud Infrastructure securely from a remote location using SSH or RDP, depending on the operating system.',\n",
       "  'How can you restart a compute instance in Oracle Cloud Infrastructure?\\n\\nYou can restart a compute instance in Oracle Cloud Infrastructure using the Oracle Cloud Infrastructure Console, the command line interface, or the API.',\n",
       "  'What happens to local drives when you restart a compute instance in Oracle Cloud Infrastructure?\\n\\nLocal drive contents remain intact when you restart a compute instance in Oracle Cloud Infrastructure.',\n",
       "  'How does Oracle Cloud Infrastructure handle saved changes to volumes attached to a compute instance when it is terminated?\\n\\nOracle Cloud Infrastructure retains saved changes to volumes attached to a compute instance even when the instance is terminated.',\n",
       "  'What is the purpose of Oracle Cloud Infrastructure Always Free resources?\\n\\nOracle Cloud Infrastructure Always Free resources provide a way to use certain services and resources in the cloud for free, with limitations on usage.',\n",
       "  'Are there any limitations to using Oracle Cloud Infrastructure Always Free resources?\\n\\nYes, Always Free resources in Oracle Cloud Infrastructure have usage limitations and are subject to specific terms and conditions.',\n",
       "  'What considerations should be taken into account when selecting the appropriate instance type for an application in Oracle Cloud Infrastructure?\\n\\nFactors such as CPU count, memory size, and network resources should be considered when choosing the right instance type for an application in Oracle Cloud Infrastructure.',\n",
       "  'How do burstable instances differ from standard instances in Oracle Cloud Infrastructure?\\n\\nBurstable instances provide a baseline level of CPU performance but can burst to a higher level for brief periods, whereas standard instances offer consistent CPU performance.',\n",
       "  'What are the characteristics of shielded instances in Oracle Cloud Infrastructure?\\n\\nShielded instances have enhanced firmware security on both bare metal hosts and VMs to protect against malicious boot-level software.',\n",
       "  'When is it beneficial to use extended memory VM instances in Oracle Cloud Infrastructure?\\n\\nExtended memory VM instances are useful for workloads that require more memory and cores than what is available with standard shapes.',\n",
       "  'Can you run multiple VMs on the same hardware with Oracle Cloud Infrastructure VM compute instances?\\n\\nYes, Oracle Cloud Infrastructure VM compute instances allow you to run multiple VMs on the same physical hardware, providing isolation.',\n",
       "  'What are the main differences between Intel and AMD processors in Oracle Cloud Infrastructure GPU shapes?\\n\\nGPU shapes in Oracle Cloud Infrastructure come with either Intel or AMD CPUs and NVIDIA graphics processors, but the primary difference lies in the CPU manufacturer.',\n",
       "  'What is cluster networking, and which Oracle Cloud Infrastructure shapes support it?\\n\\nCluster networking allows high-performance networking between instances. Some bare metal GPU shapes in Oracle Cloud Infrastructure support cluster networking.',\n",
       "  'What advantages do standard shapes offer for general-purpose workloads in Oracle Cloud Infrastructure?\\n\\nStandard shapes provide a balanced combination of cores, memory, and network resources, making them suitable for a wide range of applications.',\n",
       "  'How can DenseIO shapes benefit workloads that require high-performance local storage?\\n\\nDenseIO shapes in Oracle Cloud Infrastructure are equipped with locally-attached NVMe-based SSDs, making them ideal for workloads demanding high-performance local storage.',\n",
       "  'What types of workloads benefit from Oracle Cloud Infrastructure GPU shapes?\\n\\nOracle Cloud Infrastructure GPU shapes are designed for hardware-accelerated workloads, including those that require GPU acceleration for specific tasks.',\n",
       "  'What is the key advantage of HPC and optimized shapes in Oracle Cloud Infrastructure?\\n\\nHPC and optimized shapes offer high-frequency processor cores, making them suitable for high-performance computing workloads.',\n",
       "  'How does Oracle Cloud Infrastructure charge for compute instances?\\n\\nOracle Cloud Infrastructure charges for compute instances based on factors like the instance type, storage usage, and network data transfer.',\n",
       "  'Can you modify the configuration of a running compute instance in Oracle Cloud Infrastructure?\\n\\nYes, you can modify the configuration of a running compute instance in Oracle Cloud Infrastructure, including resizing the instance.',\n",
       "  'What is the Oracle Cloud Infrastructure Console, and how can it be used to manage compute instances?\\n\\nThe Oracle Cloud Infrastructure Console is a web-based interface that allows you to manage compute instances, create and modify resources, and monitor your cloud environment.',\n",
       "  'Is there a command line interface available for managing compute instances in Oracle Cloud Infrastructure?\\n\\nYes, Oracle Cloud Infrastructure provides a command line interface (CLI) that you can use to manage compute instances, volumes, and other resources.',\n",
       "  'What is the API, and how is it used to interact with Oracle Cloud Infrastructure Compute services?\\n\\nThe API (Application Programming Interface) allows developers to interact with Oracle Cloud Infrastructure Compute services programmatically, enabling automation and integration with other applications.',\n",
       "  'What is the purpose of an instance shape in Oracle Cloud Infrastructure?\\n\\nAn instance shape in Oracle Cloud Infrastructure defines the number of CPUs, amount of memory, and network resources allocated to a compute instance.',\n",
       "  'Can you change the shape of a running compute instance in Oracle Cloud Infrastructure?\\n\\nYes, you can change the shape of a running compute instance in Oracle Cloud Infrastructure by resizing it to a different instance shape.',\n",
       "  'How can you allocate more resources to a compute instance in Oracle Cloud Infrastructure?\\n\\nYou can allocate more resources to a compute instance by resizing it to a larger instance shape that offers more CPUs, memory, and network resources.',\n",
       "  'What is the recommended practice for backing up data in Oracle Cloud Infrastructure?\\n\\nThe recommended practice for backing up data in Oracle Cloud Infrastructure is to create snapshots of volumes to capture point-in-time copies of data.',\n",
       "  \"What is the purpose of SSH in Oracle Cloud Infrastructure, and how is it used for secure access?\\n\\nSSH (Secure Shell) is used for secure remote access to compute instances in Oracle Cloud Infrastructure, allowing secure communication between the user's computer and the instance.\",\n",
       "  \"How do you use RDP to access Windows-based compute instances in Oracle Cloud Infrastructure?\\n\\nRemote Desktop Protocol (RDP) is used to access Windows-based compute instances in Oracle Cloud Infrastructure, enabling remote graphical access to the instance's desktop.\",\n",
       "  'What are the options for securely accessing Linux-based compute instances in Oracle Cloud Infrastructure?\\n\\nSecure access to Linux-based compute instances in Oracle Cloud Infrastructure can be achieved using SSH, which provides secure command-line access.',\n",
       "  'What are the primary security considerations when accessing compute instances in Oracle Cloud Infrastructure?\\n\\nSecurity considerations when accessing compute instances in Oracle Cloud Infrastructure include proper authentication, secure access methods, and the use of security groups and firewalls to control network traffic.',\n",
       "  'What is the Oracle Cloud Infrastructure Marketplace, and how does it relate to compute instances?\\n\\nThe Oracle Cloud Infrastructure Marketplace is a platform that offers a wide range of pre-configured software and solutions that can be easily deployed on compute instances.',\n",
       "  'How can you deploy applications and services on compute instances in Oracle Cloud Infrastructure?\\n\\nYou can deploy applications and services on compute instances in Oracle Cloud Infrastructure by configuring the instance with the required software, libraries, and configurations.',\n",
       "  'What is the significance of using Oracle Ksplice for critical kernel patches in Oracle Cloud Infrastructure?\\n\\nOracle Ksplice allows critical kernel patches to be applied to Linux instances without the need to reboot, ensuring continuous availability and reducing downtime.',\n",
       "  'How do extended memory VM instances differ from standard VM instances in Oracle Cloud Infrastructure?\\n\\nExtended memory VM instances provide more memory and cores than standard VM instances, making them suitable for memory-intensive workloads.',\n",
       "  'What types of workloads benefit from using Oracle Cloud Infrastructure standard shapes?\\n\\nOracle Cloud Infrastructure standard shapes are versatile and can accommodate a wide range of general-purpose workloads, including web applications, databases, and development environments.',\n",
       "  'What is the advantage of using DenseIO shapes in Oracle Cloud Infrastructure for workloads?\\n\\nDenseIO shapes are ideal for workloads that require high-performance local storage, such as large databases, big data analytics, and applications that depend on low-latency storage.',\n",
       "  'How can GPU shapes in Oracle Cloud Infrastructure accelerate workloads?\\n\\nGPU shapes in Oracle Cloud Infrastructure come with graphics processors that accelerate workloads like machine learning, rendering, and video processing by offloading computation to the GPU.',\n",
       "  'In which situations would you use HPC and optimized shapes in Oracle Cloud Infrastructure?\\n\\nHPC and optimized shapes are designed for high-performance computing workloads, including scientific simulations, modeling, and rendering tasks that require maximum processing power.',\n",
       "  'What is cluster networking, and why is it important for certain workloads in Oracle Cloud Infrastructure?\\n\\nCluster networking allows instances to communicate efficiently with each other over a high-speed, low-latency network, making it crucial for workloads requiring coordinated parallel processing.',\n",
       "  'How do Intel-based and AMD-based GPU shapes in Oracle Cloud Infrastructure differ in terms of performance?\\n\\nIntel-based and AMD-based GPU shapes may offer different performance levels, and the choice between them depends on the specific requirements of your workload.',\n",
       "  'What is the primary benefit of Oracle Cloud Infrastructure Compute Shapes?\\n\\nOracle Cloud Infrastructure Compute Shapes offer a wide range of options to match your specific workload requirements, from general-purpose to high-performance computing.',\n",
       "  'How does Oracle Cloud Infrastructure charge for storage usage in compute instances?\\n\\nOracle Cloud Infrastructure charges for storage usage based on the amount of storage attached to your compute instances, with pricing varying depending on the type and volume of storage.',\n",
       "  'Can you change the shape of a compute instance while it is running in Oracle Cloud Infrastructure?\\n\\nYes, you can change the shape of a running compute instance in Oracle Cloud Infrastructure to allocate more or fewer resources as needed.',\n",
       "  'What is the Oracle Cloud Infrastructure Compute API, and how can it be used?\\n\\nThe Oracle Cloud Infrastructure Compute API allows developers to programmatically manage and interact with compute instances, including creating, modifying, and terminating instances.',\n",
       "  'What options are available for monitoring and managing compute instances in Oracle Cloud Infrastructure?\\n\\nYou can use the Oracle Cloud Infrastructure Console, the command line interface (CLI), and the API for monitoring and managing compute instances.',\n",
       "  'How can you automate the management of compute instances in Oracle Cloud Infrastructure?\\n\\nYou can automate the management of compute instances by using scripts and tools that interact with the Oracle Cloud Infrastructure API, allowing for programmatic control and automation.',\n",
       "  \"What is the primary purpose of a snapshot in Oracle Cloud Infrastructure?\\n\\nA snapshot in Oracle Cloud Infrastructure is used to capture a point-in-time copy of a volume's data, providing a backup or cloning mechanism.\",\n",
       "  'Can you modify the configuration of a compute instance in Oracle Cloud Infrastructure while it is running?\\n\\nYes, you can modify the configuration of a running compute instance in Oracle Cloud Infrastructure, including resizing the instance to allocate more or fewer resources.',\n",
       "  \"What are the key differences between Oracle Cloud Infrastructure's bare metal compute instances and virtual machine (VM) instances, and how do these differences impact application performance?\\n\\nBare metal compute instances provide dedicated physical server access, offering superior performance and isolation compared to VM instances that share hardware. The impact on application performance depends on the specific workload; applications requiring high isolation and performance may benefit from bare metal instances, while VMs are suitable for less resource-intensive workloads.\",\n",
       "  'Can you explain the process of securely attaching volumes to a compute instance in Oracle Cloud Infrastructure, and how does this capability facilitate data management and application scalability?\\n\\nSecurely attaching volumes to a compute instance involves using the Oracle Cloud Infrastructure Console, CLI, or API to specify the instance and volume for attachment. This capability facilitates data management by enabling the expansion of storage without impacting existing data, and it supports application scalability as more storage can be added as needed.',\n",
       "  'What is the significance of creating snapshots for volumes in Oracle Cloud Infrastructure, and how does this practice contribute to data protection and disaster recovery strategies?\\n\\nCreating snapshots for volumes allows users to capture point-in-time copies of data, which is crucial for data protection and disaster recovery. Snapshots serve as backup copies that can be restored in case of data loss or system failures, enhancing the overall resilience of applications and systems.',\n",
       "  'In Oracle Cloud Infrastructure, how do you effectively access compute instances from remote locations, and what role do SSH and RDP play in this process?\\n\\nSecure access to compute instances from remote locations in Oracle Cloud Infrastructure can be achieved using SSH for Linux-based instances and RDP for Windows-based instances. SSH and RDP facilitate secure and encrypted connections, allowing remote management and administration of instances from anywhere with an internet connection.',\n",
       "  'Could you elaborate on the concept of Always Free resources in Oracle Cloud Infrastructure, and how can users leverage them for various use cases while staying within the specified limitations?\\n\\nAlways Free resources in Oracle Cloud Infrastructure are services and resources that can be used without incurring charges, subject to certain usage limitations. Users can leverage these resources for development, testing, small-scale applications, and learning purposes, all while adhering to the restrictions outlined in the terms and conditions.',\n",
       "  'When selecting the appropriate instance type for an application in Oracle Cloud Infrastructure, what key factors should be considered, and how do these factors influence the overall performance and resource allocation of the instances?\\n\\nSelecting the right instance type in Oracle Cloud Infrastructure involves evaluating factors such as CPU count, memory size, and network resources. These factors determine the performance and resource allocation of instances, ensuring they meet the specific demands of the application, whether it requires high CPU power, ample memory, or extensive network capabilities.',\n",
       "  'What role do burstable instances play in Oracle Cloud Infrastructure, and how can they balance CPU performance for applications with variable workloads? Can you provide an example of a use case?\\n\\nBurstable instances in Oracle Cloud Infrastructure provide a baseline level of CPU performance with the ability to burst to a higher level when required. They are ideal for applications with variable workloads, such as web servers that experience occasional traffic spikes. The baseline ensures consistent performance, while the burst capability handles increased load.',\n",
       "  'How do shielded instances enhance security in Oracle Cloud Infrastructure, and what types of security threats do they protect against? Can you provide an example of a scenario where shielded instances are beneficial?\\n\\nShielded instances in Oracle Cloud Infrastructure harden firmware security to defend against malicious boot-level software and firmware-based attacks. They protect against threats such as rootkits and other malicious code that might compromise system integrity. For instance, shielded instances are valuable in financial institutions where security and compliance are paramount.',\n",
       "  'What is the primary use case for extended memory VM instances in Oracle Cloud Infrastructure, and how do they contribute to the performance and scalability of memory-intensive workloads?\\n\\nExtended memory VM instances are designed for memory-intensive workloads that require more memory and cores. They enhance the performance and scalability of such workloads, allowing them to handle larger datasets, in-memory processing, and applications like real-time analytics or high-performance databases.',\n",
       "  \"How can Oracle Cloud Infrastructure's shape categories, including standard, DenseIO, GPU, and HPC/optimized shapes, meet the diverse needs of various applications? Can you provide examples of applications that benefit from each shape category?\\n\\nOracle Cloud Infrastructure's shape categories cater to a wide range of applications. Standard shapes suit general-purpose workloads, while DenseIO shapes are ideal for data-intensive applications. GPU shapes are tailored for machine learning and graphics-heavy workloads. HPC/optimized shapes are intended for high-performance computing, making them suitable for scientific simulations and research applications.\",\n",
       "  'What is cluster networking in Oracle Cloud Infrastructure, and how does it optimize communication between instances in a cluster? Could you provide an example of a use case where cluster networking is advantageous?\\n\\nCluster networking in Oracle Cloud Infrastructure enables instances to communicate efficiently with low latency, optimizing coordination between instances in a cluster. It is beneficial for applications like scientific simulations where multiple instances must work together to solve complex problems, requiring rapid data exchange between nodes.',\n",
       "  \"In Oracle Cloud Infrastructure, what are the key differences between Intel and AMD processors in GPU shapes, and how does the choice impact GPU-accelerated workloads?\\n\\nIntel and AMD processors in GPU shapes may offer different performance characteristics, and the choice depends on the specific requirements of GPU-accelerated workloads. For example, an application favoring Intel's CPU architecture may benefit from Intel-based GPU shapes, while others optimized for AMD may choose AMD-based GPU shapes.\",\n",
       "  'How do Oracle Cloud Infrastructure Compute Shapes address the needs of various applications, from general-purpose workloads to high-performance computing, and how can users make informed decisions when selecting the most suitable shape for their applications?\\n\\nOracle Cloud Infrastructure Compute Shapes offer a range of options, ensuring users can match specific workload requirements. General-purpose shapes are well-suited for diverse applications, while specialized shapes like HPC/optimized are tailored for high-performance computing. Users should assess their application requirements in terms of CPU power, memory, and network resources to make informed shape selections.',\n",
       "  'What factors influence Oracle Cloud Infrastructure Compute pricing, and how can users manage their costs effectively while provisioning and managing instances?\\n\\nOracle Cloud Infrastructure Compute pricing is influenced by instance type, storage usage, and network data transfer. To manage costs effectively, users should select the most appropriate instance type for their workloads, optimize storage usage, and monitor network data transfer, ensuring that resources are\\n\\n allocated efficiently.',\n",
       "  'Can you elaborate on the ways in which users can monitor and manage compute instances in Oracle Cloud Infrastructure, and how can automation and scripting be employed for streamlined management?\\n\\nUsers can monitor and manage compute instances in Oracle Cloud Infrastructure using the Console, CLI, and API. Automation and scripting allow for streamlined management by enabling programmatic control and automation of tasks, ensuring efficient resource allocation and maintenance.',\n",
       "  'What role does the Oracle Cloud Infrastructure Marketplace play in simplifying the deployment of software and solutions on compute instances, and how can users benefit from this platform?\\n\\nThe Oracle Cloud Infrastructure Marketplace simplifies the deployment of pre-configured software and solutions on compute instances, reducing setup time and complexity. Users can take advantage of a wide range of readily available solutions for their applications, saving time and effort in configuring and installing software.',\n",
       "  'Can you explain the use of Oracle Ksplice for applying critical kernel patches in Oracle Cloud Infrastructure, and how does this practice contribute to system availability and security?\\n\\nOracle Ksplice allows critical kernel patches to be applied to Linux instances without requiring a system reboot. This practice enhances system availability by reducing downtime during patch application, ensuring that applications remain accessible. It also contributes to security by keeping systems up-to-date and protected against vulnerabilities.',\n",
       "  'In the context of Oracle Cloud Infrastructure, how do extended memory VM instances differ from standard VM instances, and when should users opt for extended memory VMs?\\n\\nExtended memory VM instances offer more memory and cores than standard VM instances, making them suitable for memory-intensive workloads. Users should opt for extended memory VMs when their applications require a higher amount of memory and processing power to handle large datasets or in-memory processing.',\n",
       "  'What are some examples of workloads that benefit from using Oracle Cloud Infrastructure standard shapes, and how do these shapes provide a balanced combination of resources for general-purpose use?\\n\\nOracle Cloud Infrastructure standard shapes are suitable for a variety of general-purpose workloads, including web applications, databases, and development environments. These shapes provide a balance of CPU cores, memory, and network resources, ensuring versatility for different applications.',\n",
       "  'What advantages do DenseIO shapes offer for specific workloads in Oracle Cloud Infrastructure, and how do locally-attached NVMe-based SSDs enhance the performance of data-intensive applications?\\n\\nDenseIO shapes in Oracle Cloud Infrastructure are well-suited for data-intensive workloads, such as large databases and big data analytics. Locally-attached NVMe-based SSDs provide low-latency, high-performance storage, which is crucial for applications that depend on rapid access to data.',\n",
       "  'How can GPU shapes in Oracle Cloud Infrastructure accelerate specific workloads, and what types of applications benefit from the GPU acceleration they provide?\\n\\nGPU shapes in Oracle Cloud Infrastructure come with graphics processors that accelerate workloads such as machine learning, rendering, and video processing. Applications that require GPU acceleration for tasks like image recognition, 3D rendering, or scientific simulations benefit from these shapes.',\n",
       "  'When should users consider employing HPC and optimized shapes in Oracle Cloud Infrastructure, and what types of high-performance computing workloads are most compatible with these shapes?\\n\\nHPC and optimized shapes in Oracle Cloud Infrastructure are suitable for high-performance computing workloads that require high-frequency processor cores. Scientific simulations, finite element analysis, and rendering tasks are examples of workloads that benefit from the increased processing power of these shapes.',\n",
       "  'What is cluster networking in Oracle Cloud Infrastructure, and how does it support efficient communication between instances? Can you provide an example of a scenario where cluster networking is vital?\\n\\nCluster networking enables instances in Oracle Cloud Infrastructure to communicate efficiently with low latency, facilitating coordinated parallel processing. It is essential for scenarios like running a distributed database where multiple nodes must exchange data quickly and efficiently to maintain data consistency.',\n",
       "  'How do Intel and AMD-based GPU shapes differ in Oracle Cloud Infrastructure, and how should users choose between them based on their specific workload requirements?\\n\\nIntel and AMD-based GPU shapes may differ in terms of performance characteristics. Users should choose between them based on the compatibility of their workload with a particular CPU architecture. For instance, if their application is optimized for Intel CPUs, an Intel-based GPU shape would be the preferred choice.',\n",
       "  'How does Oracle Cloud Infrastructure Compute Shapes cater to the diverse needs of various applications, and what are some factors that users should consider when selecting the most suitable shape for their workloads?\\n\\nOracle Cloud Infrastructure Compute Shapes offer a variety of options, from general-purpose to specialized shapes, to accommodate diverse application needs. Users should consider factors such as CPU requirements, memory size, and network resources to select the shape that aligns with the specific demands of their workloads.',\n",
       "  'What factors influence Oracle Cloud Infrastructure Compute pricing, and how can users effectively manage their costs while provisioning and managing instances for their applications?\\n\\nOracle Cloud Infrastructure Compute pricing is determined by factors including instance type, storage usage, and network data transfer. To manage costs effectively, users should choose cost-efficient instance types, optimize storage usage, and monitor network data transfer, ensuring that resources are used efficiently.',\n",
       "  'How do users access and manage compute instances in Oracle Cloud Infrastructure, and what role does automation play in streamlining these processes for efficient resource allocation?\\n\\nUsers can access and manage compute instances in Oracle Cloud Infrastructure through the Console, CLI, and API. Automation is essential for streamlining these processes by enabling programmatic control and the automation of routine tasks, ensuring efficient resource allocation and maintenance.',\n",
       "  'How can the Oracle Cloud Infrastructure Marketplace simplify the deployment of software and solutions on compute instances, and what are the potential benefits for users leveraging this platform?\\n\\nThe Oracle Cloud Infrastructure Marketplace simplifies software deployment by offering pre-configured solutions for easy installation. Users can benefit from reduced setup time and effort, access a wide range of applications, and ensure the efficient deployment of software and services on their compute instances.',\n",
       "  'Can you explain the role of Oracle Ksplice in applying critical kernel patches in Oracle Cloud Infrastructure, and how does this practice contribute to enhanced system availability and security?\\n\\nOracle Ksplice facilitates the application of critical kernel patches to Linux instances without the need for system reboots. This contributes to enhanced system availability by minimizing downtime during patching, ensuring uninterrupted access to applications. Additionally, it bolsters security by keeping systems up-to-date and protected against vulnerabilities.',\n",
       "  'In the context of Oracle Cloud Infrastructure, what distinguishes extended memory VM instances from standard VM instances, and when should users consider utilizing extended memory VMs?\\n\\nExtended memory VM instances in Oracle Cloud Infrastructure offer more memory and cores than standard VM instances, making them suitable for memory-intensive workloads. Users should consider extended memory VMs when their applications require additional memory and processing power for tasks like in-memory processing, real-time analytics, or high-performance databases.',\n",
       "  'How do DenseIO shapes in Oracle Cloud Infrastructure enhance the performance of data-intensive workloads, and what is the role of locally-attached NVMe-based SSDs in achieving this improvement?\\n\\nDenseIO shapes are tailored for data-intensive workloads, such as large databases and big data analytics. The inclusion\\n\\n of locally-attached NVMe-based SSDs in these shapes significantly boosts performance by providing low-latency, high-speed storage, which is crucial for applications that depend on rapid data access.',\n",
       "  'In Oracle Cloud Infrastructure, how do Intel and AMD-based GPU shapes differ, and what considerations should users take into account when choosing between them based on their workload requirements?\\n\\nIntel and AMD-based GPU shapes may differ in terms of performance characteristics. Users should consider the compatibility of their workload with a specific CPU architecture when choosing between them. For instance, if an application is optimized for Intel CPUs, selecting an Intel-based GPU shape is advisable.',\n",
       "  \"How do Oracle Cloud Infrastructure Compute Shapes cater to a diverse range of application needs, from general-purpose workloads to high-performance computing, and what factors should users consider when selecting the most suitable shape for their applications?\\n\\nOracle Cloud Infrastructure Compute Shapes offer a variety of options to meet specific application requirements. General-purpose shapes are versatile and suitable for a wide range of applications, while specialized shapes, such as HPC/optimized, are tailored for high-performance computing. Users should assess their applications' needs in terms of CPU power, memory, and network resources to make informed shape selections.\",\n",
       "  'What factors impact Oracle Cloud Infrastructure Compute pricing, and how can users effectively manage their costs while provisioning and managing instances for their applications?\\n\\nOracle Cloud Infrastructure Compute pricing is influenced by instance type, storage usage, and network data transfer. Users can manage costs effectively by choosing cost-efficient instance types, optimizing storage usage, and monitoring network data transfer to ensure resources are used efficiently.',\n",
       "  'How can users access and manage compute instances in Oracle Cloud Infrastructure, and how does automation enhance the efficiency of resource allocation and management?\\n\\nUsers can access and manage compute instances in Oracle Cloud Infrastructure using the Console, CLI, and API. Automation plays a crucial role in streamlining resource allocation and management by enabling programmatic control and the automation of routine tasks, ensuring efficient resource utilization and maintenance.',\n",
       "  'How does the Oracle Cloud Infrastructure Marketplace simplify the deployment of software and solutions on compute instances, and what benefits can users gain from utilizing this platform?\\n\\nThe Oracle Cloud Infrastructure Marketplace simplifies software and solution deployment by offering pre-configured options for easy installation. Users can benefit from reduced setup time and complexity, access a wide range of applications, and ensure efficient software deployment on their compute instances.',\n",
       "  'Can you explain how Oracle Ksplice is utilized to apply critical kernel patches in Oracle Cloud Infrastructure, and what advantages does this approach offer in terms of system availability and security?\\n\\nOracle Ksplice allows for the application of critical kernel patches to Linux instances in Oracle Cloud Infrastructure without requiring a system reboot. This approach enhances system availability by minimizing downtime during patching, ensuring uninterrupted access to applications. Additionally, it contributes to security by keeping systems up-to-date and safeguarded against vulnerabilities.',\n",
       "  'What is the purpose of GPU shapes in Oracle Cloud Infrastructure, and how do they accelerate workloads? Can you provide examples of applications that benefit from GPU acceleration?\\n\\nGPU shapes in Oracle Cloud Infrastructure are designed to accelerate specific workloads by incorporating graphics processors. Applications such as machine learning, video rendering, and scientific simulations benefit from GPU acceleration, as it offloads computation to the GPU, resulting in faster and more efficient processing.',\n",
       "  'What is cluster networking in Oracle Cloud Infrastructure, and how does it enable efficient communication between instances? Can you provide a scenario where cluster networking plays a crucial role?\\n\\nCluster networking in Oracle Cloud Infrastructure facilitates efficient and low-latency communication between instances, supporting coordinated parallel processing. It is essential for scenarios such as running a distributed database where multiple nodes must exchange data rapidly to maintain data consistency and availability.',\n",
       "  'When is it advisable to use HPC and optimized shapes in Oracle Cloud Infrastructure, and what types of high-performance computing workloads are well-suited for these shapes?\\n\\nHPC and optimized shapes in Oracle Cloud Infrastructure are best suited for high-performance computing workloads that require high-frequency processor cores. Examples of such workloads include scientific simulations, computational modeling, and rendering tasks that demand maximum processing power.',\n",
       "  'What are the different types of host capacity available for launching compute instances?\\n\\nThere are four types of host capacity you can choose from: On-demand capacity, preemptible capacity, reserved capacity, and dedicated capacity.',\n",
       "  \"What is on-demand capacity, and how does it work?\\n\\nOn-demand capacity allows you to pay only for the compute capacity you use, with charges incurred by the second. You pay solely for the seconds your instances are running, but it's important to note that capacity availability is not guaranteed for large workloads.\",\n",
       "  'Can you explain preemptible capacity and its purpose?\\n\\nPreemptible capacity is a cost-saving option where you use preemptible instances for workloads that run briefly or can be interrupted when the capacity is needed elsewhere. These instances function like regular compute instances, but they are terminated when the capacity is reclaimed.',\n",
       "  'What is the advantage of using preemptible capacity?\\n\\nThe primary advantage of preemptible capacity is cost savings. Since you pay less for these instances, they are an economical choice for workloads with flexibility in execution timing.',\n",
       "  'How does reserved capacity work, and what is its purpose?\\n\\nReserved capacity involves reserving capacity for future use and ensuring its availability when you need to create compute instances. The reserved capacity is consumed when you launch instances against the reservation, and it increases when instances are terminated.',\n",
       "  'What is the key benefit of reserved capacity?\\n\\nThe main benefit of reserved capacity is the assurance of available resources for your compute instances, offering predictability and a way to maintain reserved capacity for your specific needs.',\n",
       "  'What is dedicated capacity, and when would you use it?\\n\\nDedicated capacity allows you to run VM instances on servers exclusive to your tenancy, ensuring they are not shared with other customers. This is ideal for meeting compliance and regulatory requirements for isolation and node-based or host-based licensing needs.',\n",
       "  'How can dedicated capacity be useful for compliance requirements?\\n\\nDedicated capacity is valuable for achieving compliance as it guarantees that your VM instances are isolated, which is often a requirement in certain compliance standards. It provides a higher level of security and control over your infrastructure.',\n",
       "  'Are there any limitations to these capacity types?\\n\\nYes, service limits and compartment quotas apply to all host capacity types. If you plan to reserve capacity that exceeds your service limits, you must request a service limit increase in advance.',\n",
       "  'What happens to unused reserved capacity?\\n\\nUnused reserved capacity is metered differently than used reserved capacity. When instances launched against reserved capacity are terminated, the unused capacity is returned to the reservation, increasing the overall available reserved capacity.',\n",
       "  'How can I get more information about these different capacity types?\\n\\nFor more detailed information about each capacity type, you can refer to the respective documentation: Preemptible Instances for preemptible capacity, Capacity Reservations for reserved capacity, and Dedicated Virtual Machine Hosts for dedicated capacity.',\n",
       "  'Is there a way to request an increase in service limits for reserved capacity?\\n\\nYes, if you anticipate that your reserved capacity needs will exceed your current service limits, you should request a service limit increase. This ensures that you can reserve the necessary capacity when required.',\n",
       "  'Is there a default capacity type when launching compute instances?\\n\\nYes, the default capacity type for launching compute instances is on-demand capacity. This means that you will pay for compute capacity based on actual usage, with charges incurred by the second.',\n",
       "  'Can you use preemptible instances for long-running workloads?\\n\\nPreemptible instances are designed for workloads that run for brief periods or can be interrupted when capacity is needed elsewhere. They are not suitable for long-running workloads.',\n",
       "  'Is preemptible capacity available on a first-come, first-served basis?\\n\\nYes, preemptible instances are allocated on a first-come, first-served basis, and the capacity may not always be immediately available.',\n",
       "  'What is the key advantage of using dedicated capacity over other types?\\n\\nThe primary advantage of dedicated capacity is the complete isolation it provides, making it ideal for meeting strict compliance requirements and specific licensing needs.',\n",
       "  'Are there any additional costs associated with using dedicated capacity?\\n\\nYes, using dedicated capacity typically involves higher costs compared to other capacity types due to the exclusive use of dedicated servers.',\n",
       "  'Can you change the type of host capacity for an existing instance?\\n\\nHost capacity types are generally selected at the time of instance creation. You cannot easily change the capacity type for an existing instance.',\n",
       "  'What should you do if you need to switch from on-demand capacity to reserved capacity?\\n\\nTo switch from on-demand capacity to reserved capacity, you would need to create new instances under the reserved capacity model and manage the transition carefully.',\n",
       "  \"Are there limitations to how much reserved capacity you can request?\\n\\nYes, your request for reserved capacity is subject to service limits. If you anticipate exceeding these limits, it's advisable to request a service limit increase.\",\n",
       "  'What are some use cases for using preemptible capacity?\\n\\nPreemptible capacity is suitable for tasks like batch processing, data analysis, rendering, and other short-term workloads that can tolerate interruptions.',\n",
       "  'Can you use dedicated capacity for workloads that require high levels of security?\\n\\nYes, dedicated capacity is an excellent choice for workloads that demand a high level of security and isolation, as it ensures your instances run on servers exclusive to your tenancy.',\n",
       "  'How can I ensure that I have access to the capacity type I need when I need it?\\n\\nYou can use reserved capacity to ensure you have access to the capacity you need when you need it. This involves reserving capacity in advance to guarantee availability for your compute instances.',\n",
       "  'What are the components required to launch an instance in Oracle Cloud Infrastructure?\\n\\nTo launch an instance in Oracle Cloud Infrastructure, you need the following components:\\n\\n- Availability domain, which is the data center hosting cloud resources in your geographical region.\\n- Virtual cloud network, a virtualized network environment that includes subnets, route tables, and gateways.\\n- Key pair (for Linux instances), a security mechanism for SSH access.\\n- Password (for Windows instances), used to access Windows platform image instances.\\n- Image, which serves as a template for the virtual hard drive, determining the OS and software.\\n- Shape, a template specifying the number of CPUs, memory, and other resources.\\n- Tags for organizing resources based on business needs.\\n- Optional volume attachments are also possible.',\n",
       "  'What is an availability domain in Oracle Cloud Infrastructure?\\n\\nAn availability domain in Oracle Cloud Infrastructure is a data center located within your geographic region that hosts various cloud resources, including instances. Users can place instances in the same or different availability domains depending on performance and redundancy requirements. It ensures high availability and fault tolerance within the Oracle Cloud.',\n",
       "  'What is a virtual cloud network in Oracle Cloud Infrastructure?\\n\\nA virtual cloud network in Oracle Cloud Infrastructure is a virtualized version of a traditional network. It includes components such as subnets, route tables, and gateways and provides the environment in which your instances operate. At least one cloud network must be set up before you can launch instances in Oracle Cloud Infrastructure.',\n",
       "  \"What is a key pair, and why is it required for Linux instances in Oracle Cloud Infrastructure?\\n\\nA key pair is a security mechanism required for Secure Shell (SSH) access to an instance in Oracle Cloud Infrastructure. For Linux instances, it's essential for secure remote access. Users generate and manage key pairs to authenticate and establish a secure connection to their instances, ensuring data security and access control.\",\n",
       "  'What is a password used for in Oracle Cloud Infrastructure for Windows instances?\\n\\nIn Oracle Cloud Infrastructure, a password is a security mechanism required to access instances using a Windows platform image. When launching an instance with a Windows image, the cloud infrastructure generates an initial, one-time password. This password can be retrieved using the console or API and must be changed after the initial login for security reasons.',\n",
       "  'What is an image in Oracle Cloud Infrastructure, and how is it used?\\n\\nAn image in Oracle Cloud Infrastructure is a template of a virtual hard drive that specifies the operating system and other software for an instance. Users can launch instances from various sources, including Oracle Cloud Infrastructure platform images, trusted third-party images, pre-built Oracle enterprise images, custom images, and community images. Images are crucial in defining the software environment for your instances.',\n",
       "  'What is a shape in Oracle Cloud Infrastructure, and why is it important?\\n\\nIn Oracle Cloud Infrastructure, a shape is a template that determines the number of CPUs, the amount of memory, and other allocated resources for a newly created instance. Choosing the right shape is vital as it directly impacts the performance and capabilities of your instance. Oracle offers a range of shapes, including both bare metal and virtual machine (VM) options.',\n",
       "  'How can tags be applied to resources in Oracle Cloud Infrastructure?\\n\\nIn Oracle Cloud Infrastructure, you can apply tags to your resources to help organize and categorize them according to your business needs. You can attach tags when creating a resource or update them later as required. Tags are a useful way to manage and identify resources, making it easier to track and organize them within your Oracle Cloud Infrastructure environment.',\n",
       "  'What are the options for launching instances in Oracle Cloud Infrastructure from images?\\n\\nYou can launch instances in Oracle Cloud Infrastructure from various image sources, including:\\n1. Oracle Cloud Infrastructure platform images.\\n2. Trusted third-party images from the Partner Image catalog.\\n3. Pre-built Oracle enterprise images enabled for Oracle Cloud Infrastructure.\\n4. Custom images, which allow users to bring their own images.\\n5. Community images, created and published by community members for use by other community members.\\n6. Boot volumes.',\n",
       "  'What is the purpose of attaching volumes to an instance in Oracle Cloud Infrastructure?\\n\\nAttaching volumes to an instance in Oracle Cloud Infrastructure allows you to expand storage capacity and separate data from the instance itself. This can be useful for storing large amounts of data or ensuring data persistence even if the instance is terminated. Volumes can be attached as needed to meet specific storage requirements. For more information on block volumes, see the Overview of Block Volume.',\n",
       "  \"How can you change the initial, one-time password for a Windows instance in Oracle Cloud Infrastructure?\\n\\nTo change the initial, one-time password for a Windows instance in Oracle Cloud Infrastructure, you can use the Windows operating system's built-in mechanisms for changing passwords. After the initial login, follow the appropriate steps to update the password securely and maintain the instance's security.\",\n",
       "  'What are the types of resources in Oracle Cloud Infrastructure that you can apply tags to?\\n\\nIn Oracle Cloud Infrastructure, you can apply tags to various resources, including instances, virtual cloud networks, subnets, route tables, gateways, and volumes. Tagging these resources helps you categorize and manage them effectively, making it easier to organize and track your resources based on your business requirements.',\n",
       "  \"How does the choice of an instance shape affect its performance in Oracle Cloud Infrastructure?\\n\\nThe choice of an instance shape in Oracle Cloud Infrastructure significantly impacts performance. Different shapes offer varying amounts of CPUs, memory, and resources. Choosing a shape that aligns with your application's requirements ensures optimal performance. For example, selecting a shape with more CPUs and memory provides better computational power, while smaller shapes are suitable for less resource-intensive workloads.\",\n",
       "  'What is the significance of a route table in Oracle Cloud Infrastructure?\\n\\nIn Oracle Cloud Infrastructure, a route table is a critical networking component responsible for routing traffic between subnets and gateways within a virtual cloud network. It defines the routing rules and ensures that network traffic is directed appropriately. Configuring route tables correctly is essential for efficient network communication within your Oracle Cloud Infrastructure environment.',\n",
       "  'What is the role of a gateway in a virtual cloud network in Oracle Cloud Infrastructure?\\n\\nA gateway in a virtual cloud network in Oracle Cloud Infrastructure serves as an entry or exit point for network traffic. It facilitates connectivity between your cloud resources and external networks, such as the internet or on-premises data centers. Gateways play a crucial role in enabling communication between your Oracle Cloud Infrastructure resources and the outside world.',\n",
       "  'Can you specify your own custom image when launching an instance in Oracle Cloud Infrastructure?\\n\\nYes, in Oracle Cloud Infrastructure, you can use custom images when launching instances. This allows you to define and use your own templates, including the operating system and software configurations. Custom images are useful for replicating specific software environments and ensuring consistency across your instances.',\n",
       "  'How can you ensure high availability for your instances in Oracle Cloud Infrastructure?\\n\\nTo ensure high availability for your instances in Oracle Cloud Infrastructure, you can place them in different availability domains within the same geographical region. This redundancy strategy minimizes the risk of downtime due to failures in a single data center. By distributing your instances across multiple availability domains, you enhance their resilience and reliability.',\n",
       "  'What are community images in Oracle Cloud Infrastructure, and who can use them?\\n\\nCommunity images in Oracle Cloud Infrastructure are images created and published by community members for the benefit of other community members. These images are available for use by anyone within the Oracle Cloud community. They provide a convenient way to share and utilize standardized image configurations across the platform.',\n",
       "  'What is the importance of managing key pairs for SSH access in Oracle Cloud Infrastructure?\\n\\nManaging key pairs for SSH access in Oracle Cloud Infrastructure is crucial for enhancing security. Key pairs ensure that only authorized users can access instances through SSH. By controlling and managing key pairs, you can protect your instances from unauthorized access and potential security threats, maintaining the integrity of your cloud environment.',\n",
       "  'How can you apply tags to resources after they have been created in Oracle Cloud Infrastructure?\\n\\nIn Oracle Cloud Infrastructure, you can apply tags to resources after they have been created by using the console or APIs. This flexibility allows you to adapt your tagging strategy as your resource management needs evolve. You can easily update and manage tags to organize and categorize resources based on your changing business requirements.']}"
      ]
     },
     "execution_count": 7,
     "metadata": {},
     "output_type": "execute_result"
    }
   ],
   "source": [
    "faqs = loadFAQs('.')\n",
    "faqs"
   ]
  },
  {
   "cell_type": "code",
   "execution_count": 8,
   "metadata": {},
   "outputs": [
    {
     "data": {
      "text/plain": [
       "[{'text': 'faq | Who are you and what can you do?\\n\\nI am DORA, the Digital ORacle Assistant, a digital assistant working for Oracle EMEA. I can answer questions about Oracle Cloud (OCI) and especially about the Free Trial and Always Free programs.',\n",
       "  'path': 'faq'},\n",
       " {'text': 'faq | What is Oracle Cloud Free Tier?\\n\\nOracle Cloud Free Tier allows you to sign up for an Oracle Cloud account which provides a number of Always Free services and a Free Trial with US$300 of free credit to use on all eligible Oracle Cloud Infrastructure services for up to 30 days. The Always Free services are available for an unlimited period of time. The Free Trial services may be used until your US$300 of free credits are consumed or the 30 days has expired, whichever comes first.',\n",
       "  'path': 'faq'}]"
      ]
     },
     "execution_count": 8,
     "metadata": {},
     "output_type": "execute_result"
    }
   ],
   "source": [
    "docs = [{'text': filename + ' | ' + section, 'path': filename} for filename, sections in faqs.items() for section in sections]\n",
    "\n",
    "# Sample the resulting data\n",
    "docs[:2]"
   ]
  },
  {
   "cell_type": "code",
   "execution_count": 9,
   "metadata": {},
   "outputs": [
    {
     "name": "stderr",
     "output_type": "stream",
     "text": [
      "/tmp/ipykernel_11094/3746924790.py:3: TqdmWarning: IProgress not found. Please update jupyter and ipywidgets. See https://ipywidgets.readthedocs.io/en/stable/user_install.html\n",
      "  from tqdm.autonotebook import tqdm, trange\n"
     ]
    }
   ],
   "source": [
    "import oracledb\n",
    "\n",
    "from tqdm.autonotebook import tqdm, trange\n",
    "\n"
   ]
  },
  {
   "cell_type": "code",
   "execution_count": 10,
   "metadata": {},
   "outputs": [
    {
     "name": "stdout",
     "output_type": "stream",
     "text": [
      "Successfully connected to Oracle Database\n"
     ]
    }
   ],
   "source": [
    "connection = oracledb.connect(\n",
    "    user=\"admin\",\n",
    "    password=\"Oracle123...\",\n",
    "    dsn=\"(description= (retry_count=20)(retry_delay=3)(address=(protocol=tcps)(port=1521)(host=adb.us-chicago-1.oraclecloud.com))(connect_data=(service_name=g1cde62092a80c9_pwyxg3f50l3b80w9_high.adb.oraclecloud.com))(security=(ssl_server_dn_match=yes)))\")  # the connection string copied from the cloud console\n",
    "\n",
    "print(\"Successfully connected to Oracle Database\")"
   ]
  },
  {
   "cell_type": "code",
   "execution_count": 11,
   "metadata": {},
   "outputs": [],
   "source": [
    "table_name = 'faqs'\n",
    "\n",
    "with connection.cursor() as cursor:\n",
    "    # Create the table\n",
    "    create_table_sql = f\"\"\"\n",
    "        CREATE TABLE IF NOT EXISTS {table_name} (\n",
    "            id NUMBER PRIMARY KEY,\n",
    "            payload CLOB CHECK (payload IS JSON),\n",
    "            vector VECTOR\n",
    "        )\"\"\"\n",
    "    try:\n",
    "        cursor.execute(create_table_sql)\n",
    "    except oracledb.DatabaseError as e:\n",
    "        raise\n",
    "\n",
    "    connection.autocommit = True"
   ]
  },
  {
   "cell_type": "code",
   "execution_count": 12,
   "metadata": {},
   "outputs": [
    {
     "name": "stderr",
     "output_type": "stream",
     "text": [
      "/home/ubuntu/.local/lib/python3.10/site-packages/transformers/tokenization_utils_base.py:1601: FutureWarning: `clean_up_tokenization_spaces` was not set. It will be set to `True` by default. This behavior will be depracted in transformers v4.45, and will be then set to `False` by default. For more details check this issue: https://github.com/huggingface/transformers/issues/31884\n",
      "  warnings.warn(\n"
     ]
    }
   ],
   "source": [
    "from sentence_transformers import SentenceTransformer\n",
    "encoder = SentenceTransformer('all-MiniLM-L12-v2')"
   ]
  },
  {
   "cell_type": "code",
   "execution_count": 13,
   "metadata": {},
   "outputs": [
    {
     "name": "stderr",
     "output_type": "stream",
     "text": [
      "Batches: 100%|██████████| 7/7 [00:16<00:00,  2.41s/it]\n"
     ]
    }
   ],
   "source": [
    "import array\n",
    "\n",
    "# Define a list to store the data\n",
    "data = [\n",
    "   {\"id\": idx, \"vector_source\": row['text'], \"payload\": row} \n",
    "   for idx, row in enumerate(docs)\n",
    "]\n",
    "\n",
    "# Collect all texts for batch encoding\n",
    "texts = [f\"{row['vector_source']}\" for row in data]\n",
    "\n",
    "# Encode all texts in a batch\n",
    "embeddings = encoder.encode(texts, batch_size=32, show_progress_bar=True)\n",
    "\n",
    "# Assign the embeddings back to your data structure\n",
    "for row, embedding in zip(data, embeddings):\n",
    "   row['vector'] = array.array(\"f\", embedding)"
   ]
  },
  {
   "cell_type": "code",
   "execution_count": 14,
   "metadata": {},
   "outputs": [],
   "source": [
    "import json\n",
    "\n",
    "with connection.cursor() as cursor:\n",
    "    # Truncate the table\n",
    "    cursor.execute(f\"truncate table {table_name}\")\n",
    "\n",
    "    prepared_data = [(row['id'], json.dumps(row['payload']), row['vector']) for row in data]\n",
    "\n",
    "    # Insert the data\n",
    "    cursor.executemany(\n",
    "        f\"\"\"INSERT INTO {table_name} (id, payload, vector)\n",
    "        VALUES (:1, :2, :3)\"\"\",\n",
    "        prepared_data\n",
    "    )\n",
    "\n",
    "    connection.commit()"
   ]
  },
  {
   "cell_type": "code",
   "execution_count": 15,
   "metadata": {},
   "outputs": [
    {
     "name": "stdout",
     "output_type": "stream",
     "text": [
      "(2, {'text': 'faq | Who should use Oracle Cloud Free Tier?\\n\\nOracle Cloud Free Tier services are for everyone. Whether you’re a developer building and testing applications, a startup founder creating new systems with the intention of scaling later, an enterprise looking to test things before moving to cloud, a student wanting to learn, or an academic developing curriculum in the cloud, Oracle Cloud Free Tier enables you to learn, explore, build and test for free.', 'path': 'faq'}, array('f', [0.047548577189445496, -0.022579016163945198, 0.01457521878182888, -0.021478641778230667, 0.01285360474139452, -0.01365294586867094, -0.07855579257011414, 0.05885817110538483, -0.003879772499203682, 0.0028984397649765015, 0.02300197258591652, 0.021663499996066093, -0.014754826202988625, -0.052749719470739365, 0.029338199645280838, -0.059429798275232315, 0.020581789314746857, 0.0016599860973656178, 0.00407831184566021, -0.05929175391793251, -0.04914326220750809, -0.030911842361092567, -0.024292899295687675, -0.03705216199159622, 0.021547431126236916, -0.04504275694489479, 0.01870144158601761, -0.030673837289214134, 0.04638981446623802, -0.05178496986627579, 0.09147506952285767, 0.07051720470190048, -0.024467777460813522, 0.013863733038306236, -0.08158397674560547, 0.06565603613853455, -0.09636595100164413, 0.009179329499602318, -0.050474341958761215, -0.0029880607035011053, -0.00046165150706656277, 0.0045801205560564995, -0.0866810753941536, 0.10340907424688339, -0.01130708772689104, -0.009085100144147873, 0.04297037795186043, -0.02421524003148079, -0.06668970733880997, -0.03345062956213951, 0.060571614652872086, -0.03217243030667305, 0.03259953111410141, 0.012983918190002441, -0.07291886955499649, 0.0766570121049881, 0.0704999566078186, 0.09103547036647797, -0.1383795589208603, -0.07525800168514252, 0.03050018846988678, -0.03524656221270561, -0.011938202194869518, 0.0008931168704293668, -0.07060036063194275, 0.06979556381702423, -0.0301593579351902, 0.04763803631067276, -0.005947946570813656, -0.1057547926902771, -0.08776389807462692, -0.0879206657409668, -0.002398679731413722, 0.0010757719865068793, -0.04271962121129036, 0.0012299190275371075, 0.052600208669900894, -0.019346246495842934, 0.05950235575437546, -0.006921233609318733, 0.005310229957103729, 0.10840950161218643, -0.07051931321620941, 0.015296468511223793, -0.051769670099020004, -0.0058598932810127735, 0.003337320638820529, 0.028811030089855194, 0.014047728851437569, 0.048255570232868195, -0.0017692249966785312, 0.056267064064741135, 0.05039660632610321, -0.07125470042228699, -0.000811319041531533, -0.007988656871020794, -0.05967835709452629, -0.07327385991811752, 0.022216008976101875, -0.012517462484538555, -0.036192744970321655, -0.0372687466442585, -0.02173965610563755, 0.010596223175525665, -0.027513934299349785, 0.07485716044902802, 0.010690262541174889, 0.03741518408060074, 0.041141919791698456, 0.002073885640129447, -0.04181747883558273, -0.009927366860210896, -0.011023500934243202, -0.13910017907619476, -0.11874068528413773, 0.010343748144805431, -0.0449642539024353, -0.02147527039051056, -0.06405452638864517, 0.04734210669994354, -0.05635393038392067, -0.022430619224905968, 0.025950998067855835, 0.021588418632745743, 0.027223851531744003, 0.04671129211783409, -0.016777314245700836, -0.006547068245708942, -0.055220477283000946, 0.09563987702131271, 0.12625080347061157, -0.0776301845908165, -0.013669445179402828, 0.003990846686065197, -0.016134191304445267, 0.024042965844273567, 0.04486943036317825, -0.0679856613278389, 0.012851830571889877, 0.057770390063524246, 0.04276715964078903, -0.02150939218699932, 0.048432882875204086, 0.07075177878141403, 0.03184878081083298, 0.030628474429249763, 0.003309820545837283, -0.009730775840580463, -0.030236052349209785, -0.03071143664419651, 0.0710582509636879, -0.005876555107533932, -0.0566055104136467, -0.03551124036312103, 0.04445141181349754, -0.03755814954638481, 0.0375228226184845, 0.05587853491306305, -0.012470885179936886, -0.0018796453950926661, -0.14903751015663147, -0.08099742978811264, -0.12438761442899704, 0.06410431861877441, -0.09150219708681107, 0.049033381044864655, 0.025936735793948174, 0.02963433973491192, 0.10804035514593124, -0.011406146921217442, 0.04646041989326477, -0.029487138614058495, -0.045098502188920975, -0.04082437977194786, -0.044789690524339676, -0.05172336846590042, -0.04842202365398407, 0.04176272824406624, -0.009601179510354996, -0.045399755239486694, -0.031499143689870834, -0.03197816386818886, -0.0061362991109490395, 0.02239130437374115, -0.027930056676268578, 0.006410369649529457, -0.05984175577759743, -0.015717539936304092, -0.016190404072403908, -0.12719395756721497, -0.07001391798257828, 0.03781367838382721, -0.028754020109772682, 0.050810497254133224, -0.07545506954193115, 0.0021437467075884342, 0.011106226593255997, 0.012587684206664562, 0.05335473641753197, 0.03120095282793045, -0.006495133973658085, 0.09877060353755951, 0.029449012130498886, 0.1106579601764679, 0.03834111988544464, -0.00014822797675151378, 0.007356740068644285, 0.004305101931095123, -0.019514888525009155, -0.015892373397946358, 0.05904577672481537, 0.003693448845297098, 0.0006629402050748467, -0.019330469891428947, -0.018134120851755142, 0.030278943479061127, 0.03824364393949509, 0.05685847997665405, -0.03425483778119087, 0.028258955106139183, 0.07533063739538193, 0.0526270791888237, 0.03153548389673233, 3.8364067298359665e-34, 0.047233011573553085, -0.05886076018214226, -0.0379430428147316, 0.022632881999015808, 0.08467857539653778, -0.06380107253789902, 0.007438560947775841, -0.053339555859565735, -0.025963518768548965, 0.08903879672288895, -0.03549214079976082, 0.02058773674070835, 0.06232810020446777, -0.0400727204978466, -0.047533079981803894, -0.02310301922261715, -0.05810149013996124, 0.013153940439224243, 0.04048191383481026, 0.06923747062683105, 0.040276654064655304, 0.029768850654363632, -0.0702628418803215, 0.12289758771657944, 0.04232243075966835, -0.012041348963975906, -0.12263898551464081, 0.002724716207012534, -0.000742581207305193, 0.06533115357160568, -0.04999057203531265, 0.03950296342372894, -0.028387311846017838, 0.06431392580270767, -0.019798671826720238, -0.03190849721431732, -0.01758738048374653, 0.027776114642620087, -0.011856957338750362, -0.0007843042840249836, 0.05326385423541069, 0.01776966266334057, 0.031653523445129395, -0.05359640344977379, -0.07048920542001724, 0.04403642192482948, 0.0437987856566906, 0.046342384070158005, -0.01915479078888893, -0.08544366806745529, -0.05720645934343338, 0.08882042020559311, 0.08186330646276474, 0.0068219732493162155, -0.02209482714533806, 0.03395771235227585, -0.057870667427778244, -0.015891853719949722, -0.043987687677145004, -0.059881895780563354, -0.0003360245027579367, -0.015578310936689377, 0.022028958424925804, 0.06757819652557373, -0.038406677544116974, 0.024475879967212677, 0.018625741824507713, 0.08099893480539322, -0.051751624792814255, -0.034388717263936996, -0.039029669016599655, -0.09846346080303192, -0.058743610978126526, -0.06029660999774933, -0.026515506207942963, -0.012482311576604843, -0.02856392040848732, 0.04892021417617798, -0.004651389550417662, -0.03465971723198891, 0.014856312423944473, -0.010655275546014309, 0.0068870591931045055, -0.01109711267054081, 0.04321405664086342, 0.005330010317265987, 0.051997195929288864, -0.11952410638332367, -0.01653100922703743, -0.049303650856018066, 0.011979883536696434, -0.035798121243715286, -0.08259721100330353, 0.0390741229057312, 0.0057501341216266155, 5.63551152342123e-32, -0.001198804471641779, 0.06409318745136261, 0.10036171972751617, -0.012536982074379921, -0.001322060590609908, -0.11009156703948975, -0.021761734038591385, 0.045341476798057556, 0.002478799084201455, 0.02547266334295273, 0.03289205580949783, -0.11938176304101944, -0.011063793674111366, 0.03458935767412186, 0.08338624984025955, 0.12968885898590088, 0.1028573140501976, 0.07926084846258163, -0.03271864354610443, -0.07049741595983505, -0.012147900648415089, 0.07814470678567886, -0.060639943927526474, -0.06324270367622375, -0.06758815795183182, 0.022665951400995255, 0.03739650547504425, -0.032244179397821426, 0.06048641726374626, -0.06091655418276787, -0.04622310400009155, 0.04064616933465004, -0.020753322169184685, -0.03550980985164642, 0.08355851471424103, 0.04400341212749481, 0.033487170934677124, -0.017246579751372337, -0.057049937546253204, 0.11623121052980423, 0.041602764278650284, 0.06973207741975784, 0.039975669234991074, -0.007402236107736826, -0.02261579968035221, 0.03643093630671501, -0.03523697331547737, 0.034483615309000015, 0.029618460685014725, 0.03430582210421562, 0.06152259558439255, 0.012094267643988132, -0.0061246720142662525, -0.02103310264647007, -0.02021191269159317, 0.014732440002262592, 0.02891126647591591, -0.04452114552259445, 0.026563318446278572, 0.074845090508461, 0.0822964757680893, 0.008254238404333591, 0.04547056183218956, -0.017801959067583084]))\n",
      "(3, {'text': 'faq | Who is eligible for Oracle Cloud Free Tier?\\n\\nOne Oracle Cloud Free Trial or Always Free account is permitted per person. Please note:\\n\\nCreating or attempting to create multiple free accounts is prohibited.\\nAll contact and billing information provided must be accurate, valid, and used with consent for the duration of the account.\\nFailure to comply with these requirements may result in the suspension or termination of your account.', 'path': 'faq'}, array('f', [0.09572412818670273, -0.017780624330043793, 0.021406780928373337, -0.023978866636753082, -0.0499395877122879, -0.00014306195953395218, -0.04435396194458008, 0.0194139014929533, 0.043817706406116486, 0.005534359719604254, 0.02439267747104168, -0.02127140387892723, 0.046731747686862946, -0.07648243755102158, 0.03835828974843025, -0.019396644085645676, -0.06209993734955788, 0.005788424983620644, -0.006562420632690191, -0.019045624881982803, -0.021764975041151047, -0.021367738023400307, -0.03426098823547363, -0.0630531758069992, 0.021293379366397858, -0.045069340616464615, 0.02113090083003044, -0.04297942668199539, 0.050910595804452896, 0.004072976764291525, 0.11729075759649277, 0.07120528072118759, -0.07229997217655182, 0.030587848275899887, -0.038536328822374344, -0.03303280845284462, -0.14318035542964935, 0.02151435986161232, -0.07817941159009933, 0.006748965475708246, -0.018477788195014, -0.0017484775744378567, -0.11330483853816986, 0.07453276216983795, -0.020147422328591347, 0.06639574468135834, 0.017337020486593246, 0.008463537320494652, -0.051533568650484085, -0.03468186408281326, 0.050523366779088974, -0.004644757602363825, 0.04265095293521881, -0.002178494120016694, -0.07877097278833389, -0.016572963446378708, 0.009479599073529243, 0.10578108578920364, -0.11765852570533752, -0.03959832340478897, -0.021189220249652863, -0.05801054462790489, -0.0016610430320724845, 0.005097455810755491, -0.08041279017925262, 0.08968967199325562, -0.046333324164152145, 0.05979987978935242, -0.00862050149589777, -0.06697611510753632, -0.04456595331430435, -0.07811469584703445, -0.07973655313253403, -0.0043618343770504, -0.022577116265892982, 0.053489960730075836, 0.020204927772283554, 0.06407884508371353, 0.04024823009967804, 0.0347059965133667, -0.0445592924952507, 0.11829517781734467, -0.04076993837952614, 0.0010799645679071546, -0.07960925251245499, 0.025686070322990417, 0.01198655180633068, 0.08522909879684448, 0.011812273412942886, 0.062004897743463516, -0.0016802026657387614, 0.0005126086180098355, 0.0711313858628273, -0.03355630114674568, -0.02881336584687233, -0.026790756732225418, -0.015038122422993183, -0.05314505472779274, -0.005834129638969898, -0.0167926587164402, -0.03797750174999237, -0.044626083225011826, -0.012323208153247833, 0.022036250680685043, -0.014089250937104225, 0.05938296020030975, 0.06452983617782593, 0.01869397796690464, 0.038047436624765396, -0.017471497878432274, -0.04250679165124893, -0.04747999832034111, 0.07792878150939941, -0.09579827636480331, -0.10986475646495819, 0.04995526373386383, -0.09434308111667633, -0.04477861896157265, -0.04568924009799957, -0.014678604900836945, -0.05609624460339546, -0.025548914447426796, 0.005925261881202459, 0.01118413545191288, 0.0339701846241951, 0.04810263589024544, 0.004483637399971485, 0.05394091457128525, -0.05590084195137024, 0.07060447335243225, 0.1485641747713089, -0.12080860882997513, -0.017783796414732933, -0.0044304742477834225, -0.006381613202393055, -0.008598359301686287, 0.00029849991551600397, -0.05135146528482437, 0.041066430509090424, 0.07177434861660004, 0.0476582832634449, -0.015887649729847908, 0.018617738038301468, 0.05626828223466873, 0.05612395703792572, 0.025973748415708542, -0.006253147963434458, -0.01000190805643797, -0.02903243526816368, 0.01901555247604847, 0.061032477766275406, -0.015294023789465427, -0.06267188489437103, 0.01922021061182022, 0.021671278402209282, 0.019736235961318016, 0.0366695299744606, 0.03091316483914852, -0.002058957237750292, -0.003456195117905736, -0.07618918269872665, -0.10842263698577881, -0.043077245354652405, 0.030537711456418037, -0.10126838833093643, 0.03453735262155533, 0.03266999125480652, 0.08239855617284775, 0.076746866106987, -0.05189071223139763, 0.06554870307445526, -0.02258140593767166, -0.10143869370222092, 0.010882126167416573, -0.0545046292245388, -0.05894755572080612, -0.017737355083227158, 0.07304911315441132, -0.03954675421118736, -0.03125354275107384, -0.15051408112049103, -0.04928109794855118, -0.019577398896217346, 0.0072365449741482735, -0.05405748263001442, 0.016004210337996483, -0.024660008028149605, -0.027166515588760376, 0.008202898316085339, -0.0581972599029541, -0.09686946123838425, 0.024914128705859184, -0.03936931863427162, 0.03281040117144585, -0.05047116428613663, 0.010529433377087116, 0.029198311269283295, -0.014393476769328117, 0.08209536969661713, 0.003472517477348447, 0.01453906949609518, 0.0441734753549099, 0.009053673595190048, 0.10405874252319336, 0.06438594311475754, 0.048081498593091965, 0.001009389292448759, 0.038675956428050995, -0.05921491980552673, 0.042528361082077026, 0.092641182243824, -0.04391461983323097, -0.012615988962352276, 0.040055349469184875, -0.035719387233257294, 0.07250133901834488, 0.03935006633400917, 0.046746160835027695, 0.004044204950332642, -0.001912417821586132, 0.005575436167418957, 0.029232045635581017, 0.013028101064264774, 4.0211836051966835e-33, -0.014997554011642933, -0.09372898936271667, -0.0503431111574173, -0.01610523834824562, 0.13093113899230957, 0.012035779654979706, 0.03118700347840786, -0.018529891967773438, -0.06772105395793915, 0.05113310366868973, -0.03307800367474556, -0.010968565940856934, 0.08143611252307892, -0.005780079402029514, -0.05150672420859337, -0.014037435874342918, -0.02456681616604328, 0.02620525099337101, 0.03909526392817497, 0.02681686170399189, 0.013718183152377605, 0.022481923922896385, -0.009251393377780914, 0.07696136832237244, 0.07968272268772125, 0.03427498787641525, -0.020690802484750748, 0.023419611155986786, 0.04598371684551239, 0.10256136953830719, -0.011008895933628082, 0.09206783771514893, -0.051777344197034836, 0.08787746727466583, -0.014561283402144909, -0.08990007638931274, -0.013030088506639004, 0.04561593011021614, -0.03970666602253914, 0.0377054400742054, 0.06085619330406189, -0.003905267920345068, 0.05788514390587807, -0.04752359166741371, -0.06156396120786667, 0.07299267500638962, 0.062270645052194595, 0.011195815168321133, 0.015449859201908112, -0.04870205745100975, -0.07840486615896225, 0.02949904277920723, 0.09656456857919693, 0.034076590090990067, 0.008901073597371578, 0.003539778757840395, -0.004037036560475826, -0.0324958935379982, 0.009718429297208786, -0.0519365556538105, -0.039420340210199356, -0.005657374858856201, 0.02372060902416706, 0.09511718153953552, 0.039153601974248886, -0.012331373058259487, 0.021421801298856735, 0.04944063723087311, -0.04715364798903465, -0.013485228642821312, -0.07548515498638153, -0.11137733608484268, -0.08962840586900711, -0.036525361239910126, -0.06088211014866829, -0.008841597475111485, -0.07926657050848007, 0.06174127012491226, 0.045369092375040054, -0.045043934136629105, 0.014063921757042408, 0.04538173973560333, -0.006364838220179081, 0.002940199337899685, 0.038848746567964554, 0.004323610570281744, 0.0069900029338896275, -0.09642496705055237, -0.03785816952586174, -0.012595131993293762, -0.022849051281809807, 0.006671180948615074, -0.03752989321947098, 0.030516942963004112, 0.00400698883458972, 4.006207586762017e-32, -0.023226946592330933, 0.05630769953131676, 0.10400345176458359, 0.026168467476963997, 0.049351416528224945, -0.09492102265357971, -0.03740750625729561, -0.026942821219563484, -0.040265269577503204, 0.05170468986034393, 0.0799630731344223, -0.09426318854093552, -0.020598208531737328, 0.015155147761106491, 0.07584241777658463, 0.0629492849111557, 0.04320944473147392, 0.03268977254629135, -0.02743253856897354, -0.04845387488603592, -0.01908157952129841, 0.013923821039497852, -0.06106335297226906, 0.00441394280642271, -0.06033788621425629, 0.01467868685722351, 0.043564967811107635, -0.02173530124127865, 0.05893978849053383, -0.08555040508508682, 0.004737898241728544, 0.03131994232535362, -0.01209530234336853, -0.04673897847533226, 0.08537155389785767, -0.057077568024396896, -0.033680837601423264, -0.05515746399760246, -0.050348516553640366, 0.047638002783060074, 0.004505547694861889, 0.037697289139032364, 0.028515072539448738, -0.025473346933722496, -0.0026933359913527966, 0.005902731325477362, -0.060762301087379456, 0.010336335748434067, 0.05111340433359146, 0.03327435627579689, 0.08034485578536987, 0.026944469660520554, 0.05754541978240013, -0.043369971215724945, -0.04066773131489754, 0.05675960332155228, 0.04156608134508133, -0.06379350274801254, 0.020144151523709297, 0.07176392525434494, 0.06931652128696442, 0.03102334775030613, 0.06104821339249611, -0.0439218133687973]))\n",
      "(6, {'text': 'faq | Is Oracle Cloud Free Tier available in all countries?\\n\\nOracle Cloud Free Tier is currently available in all regions where commercial Oracle Cloud Infrastructure service is available. See the data regions page for detailed service availability. * If your first-choice data region isn’t available, please select an adjacent region. If you are unable to find the country or territory you require, please contact Oracle Sales or Cloud Support using the Chat link in the menu bar. The Oracle Sales team can help you sign up for Oracle Cloud Free Tier.', 'path': 'faq'}, array('f', [0.10087427496910095, -0.030041836202144623, 0.011418342590332031, -0.03907639905810356, -0.03235461935400963, -0.007532821968197823, -0.10834136605262756, 0.02924707718193531, 0.043437644839286804, 0.012991762720048428, 0.025158919394016266, -0.021439440548419952, 0.004397101234644651, -0.04642973840236664, 0.016361020505428314, -0.09146282821893692, -0.03818948194384575, -0.008000667206943035, -0.011667642742395401, -0.08230655640363693, -0.034427426755428314, 0.019769547507166862, -0.03863777220249176, -0.045511163771152496, 0.08130199462175369, -0.03139262646436691, 0.06219543144106865, -0.027245940640568733, 0.044579148292541504, -0.05565546080470085, 0.10037098824977875, 0.04737142100930214, -0.08768816292285919, 0.006702147889882326, 0.023329563438892365, -0.002242845017462969, -0.15754511952400208, 0.006597510073333979, 0.004168258979916573, 0.0005043944693170488, -0.0023172402288764715, 0.004715501796454191, -0.09221451729536057, 0.1004834920167923, -0.06611377000808716, 0.008826024830341339, 0.05090606212615967, 0.01591428369283676, -0.04006427526473999, -0.05926569923758507, 0.013960951939225197, 0.03594810515642166, 0.029101885855197906, 0.021218305453658104, -0.03304699808359146, -0.011576715856790543, 0.02425961196422577, 0.11309827864170074, -0.10183978080749512, -0.023597443476319313, 0.03131919726729393, -0.010918740183115005, -0.006352976430207491, 0.0035275998525321484, -0.05738503113389015, 0.05583230033516884, -0.023516017943620682, 0.0370117723941803, -0.04333550110459328, -0.1447943150997162, -0.10674844682216644, -0.0777922198176384, -0.026845162734389305, 0.026658713817596436, 0.012361425906419754, 0.06135884299874306, 0.02783072553575039, 0.001333688385784626, 0.04918951541185379, 0.0247702207416296, 0.03359687328338623, 0.10592012852430344, -0.06120137870311737, -0.0011804740643128753, -0.062098175287246704, 0.005606275983154774, -0.006126421969383955, 0.007095993496477604, 0.004599833860993385, 0.011186308227479458, -0.06320200115442276, 0.007827313616871834, 0.0027354571502655745, 0.0006979720201343298, -0.030650045722723007, -0.038037948310375214, 0.0035440095234662294, -0.05005284398794174, 0.014753253199160099, -0.03877142071723938, -0.030167683959007263, -0.039588212966918945, -0.016736188903450966, -0.0023072275798767805, -0.004033898469060659, 0.056390728801488876, -0.0031102707143872976, 0.053514789789915085, 0.024735895916819572, 0.02247910015285015, -0.07919435203075409, 0.016820816323161125, 0.001912556355819106, -0.1000356525182724, -0.10764168202877045, 0.00011641338642220944, -0.06305460631847382, -0.07204779982566833, -0.041586581617593765, -0.009427079930901527, -0.06644025444984436, -0.07747593522071838, 0.03777984157204628, 0.021504472941160202, 0.06219496950507164, 0.0851377546787262, 0.02422596514225006, 0.006395275238901377, -0.0022347108460962772, -0.0071066515520215034, 0.1547156125307083, -0.07057905197143555, -0.0784529596567154, 0.027513829991221428, 0.0075531043112277985, 0.012279415503144264, 0.016202524304389954, -0.0640295147895813, 0.028666066005825996, 0.06778215616941452, 0.05767916142940521, -0.05963009595870972, 0.043537724763154984, 0.03605562075972557, 0.06888064742088318, 0.00973558984696865, -0.03749723732471466, 0.020349273458123207, -0.06825669854879379, -0.026357293128967285, 0.07010204344987869, -0.009987100027501583, -0.041274137794971466, -0.012635228224098682, 0.0070482343435287476, -0.05358333885669708, 0.025528017431497574, 0.045938342809677124, -0.02162400633096695, -0.003399238921701908, -0.09047818928956985, -0.07191959768533707, -0.08104147017002106, 0.023233575746417046, -0.152595654129982, 0.06328259408473969, 0.006589987780898809, 0.03730890154838562, 0.11776179820299149, 0.020053915679454803, 0.005132892169058323, 0.029132122173905373, -0.0402689166367054, 0.018169231712818146, -0.03963545337319374, -0.06853959709405899, -0.008972483687102795, 0.031492769718170166, -0.014624729752540588, -0.03853730112314224, -0.09233278781175613, -0.08787871897220612, 0.02371731586754322, 0.028308719396591187, -0.04902966693043709, 0.011320474557578564, -0.004520680755376816, -0.027617130428552628, -0.0179391298443079, -0.07382865250110626, -0.06044599786400795, -0.025628741830587387, 0.01400828082114458, 0.03738080710172653, -0.049695853143930435, 0.012098756618797779, -0.02623213641345501, 0.0024367680307477713, 0.09631537646055222, 0.02260805107653141, 0.06583543866872787, 0.12263582646846771, 0.05004555732011795, 0.13107949495315552, 0.03179439902305603, -0.00588606484234333, 0.020264828577637672, -0.007228233851492405, -0.08759847283363342, 0.05451974645256996, 0.04823339357972145, 0.008684503845870495, 0.06471855938434601, -0.007902564480900764, 0.0018915437394753098, 0.04859141260385513, 0.020042184740304947, 0.0002191312232753262, -0.07503711432218552, 0.021084671840071678, -0.01180072408169508, -0.011267714202404022, 0.02727263979613781, -4.136729924436714e-33, 0.0070109376683831215, -0.05910605564713478, -0.07389692217111588, 0.02596111409366131, 0.1015138328075409, -0.0004357414145488292, 0.034110452979803085, 0.05724380537867546, -0.04115629941225052, 0.06173405796289444, -0.02488446608185768, 0.0022678724490106106, 0.10341328382492065, -0.0032707101199775934, -0.01859051175415516, 0.06298716366291046, -0.05873189866542816, 0.02414708398282528, -0.01834491454064846, 0.0973459929227829, 0.015043172985315323, -0.09496477246284485, -0.028483962640166283, 0.059214137494564056, 0.03495178371667862, 0.008797775022685528, -0.07459890842437744, -0.007016011048108339, -0.021187756210565567, 0.07747276872396469, -0.01904396153986454, 0.054929740726947784, -0.049621760845184326, 0.08660931885242462, -0.06824220716953278, -0.0703483298420906, 0.007176404818892479, -0.011390403844416142, -0.024859730154275894, 0.013860924169421196, -0.006082876119762659, -0.012992091476917267, 0.039365772157907486, -0.007419896777719259, -0.10531296581029892, 0.040636301040649414, 0.05305357277393341, 0.042529892176389694, -0.017954813316464424, -0.09551413357257843, 0.022198105230927467, 0.06141472980380058, 0.0971565693616867, 0.07638329267501831, 0.032639190554618835, 0.08063656836748123, -0.05068524554371834, -0.002113897120580077, -0.04837976023554802, -0.020147161558270454, -0.038442421704530716, -0.0403485968708992, 0.06787015497684479, -0.02571452595293522, 0.03009602427482605, 0.05041782185435295, 0.042332474142313004, 0.058564797043800354, 0.015786001458764076, -0.01710350438952446, -0.0582638718187809, -0.047445911914110184, -0.08993224054574966, -0.014026234857738018, -0.05595691129565239, 0.03608643263578415, -0.012603597715497017, 0.03656098246574402, 0.028182338923215866, -0.017318950966000557, 0.011442650109529495, 0.022173654288053513, 0.004669398069381714, -0.03095989115536213, 0.005203183740377426, 0.03162314370274544, 0.022859105840325356, -0.10262557119131088, 0.03815775737166405, -0.06655669957399368, -0.08485344797372818, 0.029287999495863914, -0.018249964341521263, 0.049006905406713486, 0.006589131895452738, 5.248214934436882e-32, -0.011604275554418564, 0.016098473221063614, 0.07303141802549362, -0.004058061633259058, 0.03671344369649887, -0.05320734158158302, 0.027823960408568382, 0.016819195821881294, -0.042949795722961426, -0.009423699229955673, 0.01831343024969101, -0.04698645696043968, -0.03579523414373398, -0.035666290670633316, 0.04423801600933075, 0.08822953701019287, 0.0819585844874382, 0.04028784856200218, -0.014799087308347225, -0.03370961919426918, 0.01784958317875862, 0.051672980189323425, 0.0026164925657212734, -0.05241383612155914, -0.06340578198432922, 0.019159095361828804, -0.023355767130851746, 0.0008361709187738597, 0.0799652487039566, -0.0647510513663292, -0.022747747600078583, -0.0156546663492918, 0.03438140079379082, -0.09670526534318924, 0.13080203533172607, -0.03219631314277649, 0.009510625153779984, -0.03895779699087143, -0.09436792880296707, 0.02898186631500721, 0.09302268922328949, 0.03279652073979378, 0.043848082423210144, -0.012075023725628853, -0.0026138098910450935, -0.04260975122451782, -0.04378325864672661, 0.0654960572719574, 0.054885052144527435, 0.016337135806679726, 0.05898275226354599, 0.019071504473686218, -0.010773715563118458, -0.006398291327059269, -0.01617676392197609, 0.06898388266563416, 0.020861685276031494, -0.09094120562076569, 0.0012089135125279427, 0.08621979504823685, 0.04433920606970787, -0.018764574080705643, -0.01259883027523756, -0.025534437969326973]))\n",
      "(7, {'text': 'faq | How do I sign up for Oracle Cloud Free Tier?\\n\\nYou can sign up on the Oracle Cloud Free Tier sign up page.', 'path': 'faq'}, array('f', [0.08605948090553284, -0.027635861188173294, 0.019722603261470795, 0.025937184691429138, -0.014089580625295639, 0.03294602409005165, -0.05778725817799568, 0.04417935386300087, 0.0036701038479804993, -0.01982896402478218, 0.029386909678578377, -0.04348108172416687, 0.05186816304922104, -0.05538824200630188, 0.07450051605701447, -0.06302209943532944, -0.08452024310827255, 0.025131303817033768, 0.015730861574411392, -0.03188448026776314, -0.03301629051566124, -0.005711823236197233, -0.03914323449134827, -0.05360599234700203, 0.05090534687042236, -0.10118971019983292, 0.04381599649786949, -0.04062342271208763, 0.04124552011489868, -0.03647260367870331, 0.12467408925294876, 0.07822201400995255, -0.03192044794559479, 0.012366821058094501, -0.04222976043820381, 0.0045609488151967525, -0.1071045845746994, 0.03027200698852539, -0.0664081871509552, -0.011023962870240211, 0.010900742374360561, 0.003852223278954625, -0.05605822429060936, 0.12001221626996994, -0.013557846657931805, -0.03396447002887726, 0.050532687455415726, 0.021658815443515778, -0.02239985018968582, -0.10625100135803223, -0.007244788110256195, -0.04990396276116371, 0.021950261667370796, -0.027139252051711082, -0.039914947003126144, -0.024289578199386597, 0.04016244783997536, 0.08174190670251846, -0.09775795042514801, -0.041948992758989334, 0.024780485779047012, -0.05569919943809509, -0.007602487690746784, 0.04384000971913338, -0.07226216793060303, 0.08391891419887543, -0.04159801825881004, 0.06798815727233887, -0.0245368592441082, -0.09910833835601807, -0.12933139503002167, -0.09777024388313293, -0.059075821191072464, 0.013143019750714302, -0.02585267461836338, 0.06402086466550827, 0.04249301925301552, -0.026587164029479027, 0.04865309223532677, 0.0474109873175621, 0.024075742810964584, 0.11568144708871841, -0.05910884216427803, 0.02805115468800068, -0.0648234486579895, -0.04706622660160065, 0.02150764688849449, 0.043114203959703445, 0.03458421304821968, 0.04301385581493378, -0.029017377644777298, -0.00793897919356823, 0.031098296865820885, -0.06209523230791092, -0.035872772336006165, -0.0052687847055494785, -0.013361076824367046, -0.06291399896144867, 0.03503353148698807, -0.031071271747350693, -0.06369508802890778, -0.045914698392152786, 0.0027829499449580908, 0.010612938553094864, -0.013386852107942104, 0.02522631175816059, -0.012453771196305752, 0.003946700599044561, 0.02743791602551937, -0.03400798887014389, -0.019256969913840294, -0.049494948238134384, 0.08205785602331161, -0.12222181260585785, -0.05565106123685837, 0.018169771879911423, -0.0607336051762104, -0.019043177366256714, -0.018141431733965874, -0.005813588388264179, -0.04033245891332626, -0.05666186287999153, -0.030829889699816704, 0.002719348296523094, 0.07881327718496323, 0.025769270956516266, 0.061424076557159424, -0.014460315927863121, 0.006010783836245537, 0.07559119164943695, 0.12141676992177963, -0.043372657150030136, -0.04246877133846283, -0.035297028720378876, -0.017718035727739334, 0.0037886574864387512, 0.0003948822559323162, -0.027353253215551376, 0.033605217933654785, 0.043333571404218674, 0.05597394332289696, -0.05875135585665703, -0.0727841928601265, 0.05525658652186394, 0.0038995686918497086, -0.002290797419846058, -0.008741109631955624, -0.03627152740955353, -0.009800443425774574, -0.029227398335933685, 0.08047739416360855, 0.04779431223869324, -0.0472654327750206, -0.021868307143449783, -0.042970526963472366, -0.014813871122896671, -0.0004857741005253047, 0.03768866881728172, -0.001344125485047698, -0.00032778657623566687, -0.07271774858236313, -0.058277349919080734, -0.07581137865781784, 0.016340335831046104, -0.07502543926239014, 0.03716852143406868, 0.024551860988140106, 0.019574536010622978, 0.08633937686681747, -0.024434037506580353, 0.05117514356970787, 0.02120089903473854, -0.06719925999641418, 0.01316257193684578, -0.04187407344579697, -0.08612953126430511, 0.15512491762638092, 0.03830704092979431, 0.019701071083545685, -0.01461966335773468, -0.09837718307971954, -0.06985346972942352, -0.02799687720835209, 0.0038149498868733644, -0.018051184713840485, 0.004032476805150509, -0.041331492364406586, -0.04996258020401001, -0.02776438556611538, -0.14924007654190063, -0.06091231852769852, -0.014264476485550404, -0.05165183171629906, 0.011748692020773888, -0.06199991703033447, 0.0070946840569376945, -0.005327151622623205, -0.005471289157867432, 0.05037813261151314, 0.013706617057323456, -0.01425110176205635, 0.06595552712678909, 0.007536145858466625, 0.11132031679153442, 0.05893761292099953, 0.005073522217571735, -0.003438722575083375, 0.029573623090982437, 0.0032247789204120636, 0.06754624843597412, 0.08412394672632217, 0.006557441782206297, 0.04633766785264015, 0.04016776755452156, 0.019377589225769043, 0.02213149145245552, -0.007938199676573277, -0.022073199972510338, -0.03223123028874397, -0.003266033949330449, 0.06516753882169724, 0.06018424406647682, 0.0376705564558506, -7.270050524171831e-33, 0.022485744208097458, -0.13901929557323456, -0.02592312917113304, -0.0019685279112309217, 0.13832136988639832, -0.052411388605833054, 0.060554374009370804, 0.02033933810889721, -0.014513061381876469, 0.05965728312730789, -0.03928448632359505, 0.07459452748298645, 0.03712053224444389, -0.03198014199733734, -0.029955340549349785, -0.007967465557157993, -0.07518213242292404, 0.09984610229730606, 0.003312238957732916, 0.04933147504925728, 0.03962947800755501, -0.0616396963596344, -0.06821344792842865, 0.05247236415743828, 0.04685378447175026, 0.00504598394036293, -0.0077003901824355125, 0.024107394739985466, 0.028433268889784813, 0.031101586297154427, -0.011336381547152996, 0.04181644320487976, -0.040925636887550354, 0.021436534821987152, -0.03089170902967453, -0.021635791286826134, 0.028007443994283676, -0.0029456764459609985, -0.00011022840044461191, -0.03789234161376953, 0.032619182020425797, -0.03062322549521923, 0.010861859656870365, -0.050152815878391266, -0.09344582259654999, 0.07632655650377274, 0.01426070649176836, 0.020351529121398926, -0.030220702290534973, -0.050502270460128784, -0.010388326831161976, 0.027382856234908104, 0.0638788715004921, -0.0020718707237392664, -0.010529931634664536, 0.07725682854652405, -0.029152438044548035, 0.009327283129096031, -0.028535697609186172, -0.020852606743574142, -0.064045250415802, -0.01059617567807436, 0.03151143714785576, 0.05633648857474327, 0.020256616175174713, -0.009170185774564743, 0.006418338976800442, 0.03809868171811104, -0.05733420327305794, 0.027099095284938812, -0.11948532611131668, -0.07144010812044144, -0.036898765712976456, -0.03722280636429787, -0.0644579529762268, -0.006703760474920273, -0.005644064396619797, 0.06005417928099632, 0.009071489796042442, -0.03250705450773239, 0.055670544505119324, 0.020309893414378166, -0.03028443083167076, -0.04718002676963806, 0.029451917856931686, 0.08106768131256104, 0.02185443975031376, -0.10302941501140594, -0.008334722369909286, -0.028824785724282265, -0.024607649073004723, -0.045316796749830246, -0.008636566810309887, 0.020906688645482063, 0.05782558396458626, 3.9745115570864446e-32, -0.01170822512358427, 0.07457289099693298, 0.10363684594631195, -0.02336389757692814, 0.0719306617975235, -0.04544496908783913, 0.015745867043733597, 0.018754595890641212, -0.006019893568009138, -0.047047365456819534, 0.0335584431886673, -0.08394047617912292, -0.0390566885471344, 0.0016924304654821754, 0.09831378608942032, 0.07759114354848862, 0.07469940930604935, 0.049206193536520004, -0.004613963421434164, -0.09316469728946686, -0.03149091452360153, 0.033791590481996536, -0.027880243957042694, 0.004081266932189465, -0.04751376062631607, 0.050950612872838974, 0.05461358651518822, -0.0010031238198280334, 0.10196158289909363, -0.09106443077325821, 0.021224426105618477, 0.041532400995492935, 0.010991097427904606, -0.04727734625339508, 0.11646215617656708, -0.017364904284477234, 0.04368580877780914, -0.05523887276649475, -0.07478030771017075, 0.04887381196022034, 0.035475198179483414, 0.041972704231739044, -0.002322536427527666, -0.057473137974739075, -0.037613287568092346, 0.07545341551303864, -0.04300062730908394, 0.02539564110338688, 0.04398651048541069, -0.0032402959186583757, 0.0889064371585846, 0.011776371859014034, 0.00592992827296257, -0.07145508378744125, -0.08085469901561737, 0.10706111788749695, 0.01129255909472704, -0.06285745650529861, 0.029326584190130234, 0.03767658397555351, 0.061180513352155685, 0.0581895150244236, -0.024661997333168983, -0.024739334359765053]))\n",
      "(8, {'text': 'faq | How do I get help if I have problems signing up or signing in?\\n\\nContact the Oracle Cloud support team using the Chat link in the menu bar.', 'path': 'faq'}, array('f', [0.0847594290971756, -0.056181006133556366, 0.013619037345051765, 0.018985692411661148, -0.019301775842905045, -0.020066624507308006, -0.05085909366607666, 0.049994099885225296, -0.007094452157616615, 0.002771415514871478, -0.003581403288990259, -0.08409341424703598, 0.07575854659080505, -0.028520742431282997, 0.043680399656295776, 0.030879298225045204, -0.1234903410077095, -0.08694470673799515, -0.03606317564845085, -0.025322698056697845, -0.09104052186012268, -0.016280049458146095, -0.04530692100524902, -0.05602462589740753, 0.00278102932497859, -0.10329453647136688, 0.08209268003702164, -0.0005934337968938053, -0.011888377368450165, -0.004425396211445332, 0.08015138655900955, 0.03655565530061722, 0.008478816598653793, 0.011503161862492561, -0.0011600112775340676, 0.031609825789928436, -0.06571090221405029, -0.0004151308094151318, -0.018381837755441666, 0.00029714746051467955, 0.029871433973312378, -0.0375402607023716, -0.03409724310040474, 0.07558976858854294, -0.01822141371667385, -0.015453220345079899, 0.014410010538995266, 0.03872387111186981, 0.026423998177051544, -0.00837322324514389, -0.03278983384370804, -0.02414051815867424, 0.05506118759512901, -0.04480869695544243, -0.06429841369390488, -0.04465167224407196, 0.03519364073872566, 0.10086553543806076, -0.0651758536696434, -0.013882122002542019, 0.03619341179728508, -0.029838163405656815, -0.02310386300086975, 0.04340903088450432, -0.015060058794915676, -0.004088004119694233, -0.013086358085274696, 0.01767011545598507, 0.031427331268787384, -0.0705334022641182, -0.1494450867176056, -0.05869276449084282, -0.12833203375339508, 0.015267955139279366, 0.029464777559041977, 0.10732471942901611, 0.02446371130645275, -0.06770483404397964, 0.018828248605132103, 0.0004353902186267078, 0.023983575403690338, 0.07774409651756287, -0.020339015871286392, 0.06746271997690201, -0.05947759747505188, -0.010972374118864536, 0.07687966525554657, 0.031002525240182877, 0.033859167248010635, 0.05009288713335991, 0.0014717711601406336, 0.04542813077569008, 0.04471220076084137, -0.05348755791783333, -0.026666531339287758, -0.04501888528466225, 0.04673738405108452, -0.009192049503326416, -0.04320044815540314, 0.02183687500655651, -0.02787250280380249, 0.06408566236495972, 0.050868768244981766, -0.01926030032336712, -0.06713023781776428, 0.026942089200019836, 0.032565273344516754, -0.03775399550795555, 0.015976347029209137, 0.04678335785865784, -0.03965233266353607, -0.1455181986093521, 0.039235323667526245, -0.048886120319366455, -0.007406369782984257, 0.05362958088517189, -0.0596870556473732, -0.1081111803650856, 0.007170426193624735, -0.027715301141142845, -0.02139611728489399, -0.04341256618499756, 0.008005904965102673, -0.01611284725368023, 0.11361940950155258, 0.020993124693632126, 0.02652515470981598, -0.024310683831572533, 0.0396646112203598, 0.05785943940281868, 0.05924342945218086, 0.002367801498621702, -0.057060036808252335, -0.02296881377696991, -0.019274652004241943, -0.01285585667937994, -0.0010279476409778, -0.0201041828840971, 0.09094421565532684, 0.02284330502152443, 0.08465602993965149, -0.11297723650932312, -0.008091776631772518, 0.046449415385723114, 0.012763013131916523, 0.003649163758382201, -0.060954708606004715, 0.023366672918200493, 0.02425532601773739, -0.04621732607483864, 0.09963787347078323, 0.09106334298849106, 0.002940891543403268, 0.07992730289697647, 0.009171182289719582, 0.02811402827501297, 0.00679843919351697, -0.03398163244128227, 0.0015954218106344342, -0.057310380041599274, 0.0179060660302639, -0.04125377535820007, -0.023732081055641174, 0.04822704568505287, 0.007535144221037626, 0.03191594406962395, 0.004303515423089266, -0.02142302691936493, 0.03618767112493515, 0.008001944050192833, 0.07278705388307571, 0.029311133548617363, -0.006353133358061314, -0.0016898009926080704, -0.02760934829711914, -0.04774453863501549, 0.16958913207054138, 0.03786115348339081, -0.038047246634960175, 0.020474979653954506, -0.03028125874698162, -0.06106218323111534, -0.05770895257592201, -0.020943934097886086, 0.0077267843298614025, 0.025858445093035698, -0.04078598693013191, -0.03992573916912079, 0.0012820520205423236, -0.06928664445877075, -0.018726548179984093, -0.06924731284379959, -0.024913182482123375, -0.09741002321243286, -0.06823234260082245, -0.00837632641196251, 0.03537654131650925, -0.03689652681350708, 0.014815636910498142, -0.03614502400159836, -0.007316530682146549, 0.013606840744614601, 0.03396550565958023, 0.029362156987190247, -0.024897970259189606, 0.01440244447439909, -0.05951335281133652, 0.004128459375351667, -0.02275335043668747, 0.040534067898988724, 0.06432574987411499, 0.004684752784669399, 0.030016550794243813, 0.06504645198583603, -0.04008691757917404, 0.09680832177400589, 0.0069411019794642925, 0.0006298882071860135, 0.011392349377274513, -0.00699923699721694, 0.0646023079752922, 0.048426419496536255, -0.022029994055628777, 2.0872063917876113e-34, 0.002199225127696991, -0.09752143174409866, -0.04159751906991005, -0.05518277361989021, 0.12943822145462036, -0.050956208258867264, 0.08456607162952423, 0.047660503536462784, 0.06612492352724075, 0.01937307044863701, -0.0026411316357553005, 0.075617715716362, 0.0009039788274094462, -0.027630379423499107, -0.05950825661420822, -0.04854005575180054, -0.026059534400701523, 0.04056883975863457, 0.023642554879188538, -0.011928724125027657, 0.03936663642525673, -0.037741176784038544, -0.0434911772608757, 0.029167717322707176, 0.04139532148838043, 0.008924314752221107, 0.027864402160048485, -0.015080672688782215, -0.03462811931967735, 0.02689535729587078, 0.06020500138401985, 0.06547869741916656, -0.04283259063959122, 0.14764373004436493, -0.005398391280323267, -0.013809092342853546, 0.042110949754714966, 0.016889488324522972, -0.03934365138411522, -0.028229855000972748, 0.02638624981045723, 0.011726980097591877, 0.02492060326039791, -0.0657343789935112, -0.04668601602315903, 0.04468604177236557, 0.01652277633547783, -0.055738598108291626, -0.033246733248233795, 0.026929106563329697, -0.023303717374801636, -0.06535124033689499, 0.08854113519191742, -0.059577010571956635, 0.06073390692472458, 0.08970895409584045, 0.03297920152544975, -0.0453498512506485, -0.005066643934696913, -0.03447727486491203, -0.05866185203194618, 0.03169102221727371, 0.0458914116024971, -0.004166573751717806, 0.0023582251742482185, -0.04784373566508293, 0.035207364708185196, 0.08230199664831161, -0.0276239775121212, 0.04686954617500305, -0.08456927537918091, -0.12608014047145844, 0.013036028482019901, 0.03568309545516968, 0.0036621843464672565, -0.044341571629047394, -0.0410500206053257, 0.03238119184970856, 0.06873563677072525, 0.002016887068748474, -0.009222427383065224, 0.06254883110523224, -0.048201125115156174, -0.039748188108205795, -0.015175401233136654, 0.06946345418691635, 0.07857916504144669, -0.08089687675237656, -0.05792763829231262, 0.05379008874297142, -0.0770840272307396, -0.02980303019285202, -0.046678826212882996, 0.056544315069913864, 0.04687872901558876, 4.7740510761682924e-32, -0.0019385948544368148, -0.022421754896640778, 0.04991381987929344, -0.0024668730329722166, 0.0878683403134346, -0.030440647155046463, -0.03628809005022049, 0.07275685667991638, -0.0747637003660202, -0.04310622438788414, 0.012621413916349411, -0.059036821126937866, -0.001131596276536584, -0.0640152245759964, 0.05422317236661911, -0.06242432817816734, 0.03131721541285515, 0.03267556056380272, -0.029384583234786987, -0.16384533047676086, -0.05468471720814705, -0.05248770862817764, -0.06440235674381256, 0.032244183123111725, -0.06559546291828156, 0.06415478885173798, 0.035212013870477676, 0.028561335057020187, 0.01691301539540291, -0.07746023684740067, -0.02182556688785553, 0.05224668234586716, 0.07885219156742096, -0.010977206751704216, 0.05972288176417351, -0.06838119775056839, -0.013093612156808376, 0.003115333616733551, -0.13562731444835663, 0.05115369334816933, -0.03622066602110863, 0.1359180212020874, -0.035567235201597214, -0.051261305809020996, -0.020979031920433044, 0.10395994037389755, 0.025982089340686798, 0.0038738464936614037, -0.012069146148860455, -0.04028663411736488, 0.04221217334270477, -0.03804090619087219, -0.0031610801815986633, -0.07071824371814728, 0.007967429235577583, 0.027893442660570145, -0.009439554065465927, 0.002438731724396348, 0.052751678973436356, 0.0657784566283226, 0.008706621825695038, 0.07247383892536163, -0.045998647809028625, -0.010270494967699051]))\n"
     ]
    }
   ],
   "source": [
    "with connection.cursor() as cursor:\n",
    "    # Define the query to select all rows from a table\n",
    "    query = f\"SELECT * FROM {table_name}\"\n",
    "\n",
    "    # Execute the query\n",
    "    cursor.execute(query)\n",
    "\n",
    "    # Fetch all rows\n",
    "    rows = cursor.fetchall()\n",
    "\n",
    "    # Print the rows\n",
    "    for row in rows[:5]:\n",
    "        print(row)"
   ]
  },
  {
   "cell_type": "code",
   "execution_count": 16,
   "metadata": {},
   "outputs": [],
   "source": [
    "topK = 3\n",
    "\n",
    "sql = f\"\"\"select payload, vector_distance(vector, :vector, COSINE) as score\n",
    "from {table_name}\n",
    "order by score\n",
    "fetch approx first {topK} rows only\"\"\""
   ]
  },
  {
   "cell_type": "code",
   "execution_count": 17,
   "metadata": {},
   "outputs": [],
   "source": [
    "question = 'What is Always Free?'"
   ]
  },
  {
   "cell_type": "code",
   "execution_count": 18,
   "metadata": {},
   "outputs": [],
   "source": [
    "with connection.cursor() as cursor:\n",
    "  embedding = list(encoder.encode(question))\n",
    "  vector = array.array(\"f\", embedding)"
   ]
  },
  {
   "cell_type": "code",
   "execution_count": 19,
   "metadata": {},
   "outputs": [],
   "source": [
    "with connection.cursor() as cursor:\n",
    "  embedding = list(encoder.encode(question))\n",
    "  vector = array.array(\"f\", embedding)\n",
    "\n",
    "  results  = []\n",
    "\n",
    "  for (info, score, ) in cursor.execute(sql, vector=vector):\n",
    "      text_content = info.read()\n",
    "      results.append((score, json.loads(text_content)))"
   ]
  },
  {
   "cell_type": "code",
   "execution_count": 20,
   "metadata": {},
   "outputs": [
    {
     "name": "stdout",
     "output_type": "stream",
     "text": [
      "[(0.34205919353536807,\n",
      "  {'text': 'faq | What are Always Free services?\\n'\n",
      "           '\\n'\n",
      "           'Always Free services are part of Oracle Cloud Free Tier. Always '\n",
      "           'Free services are available for an unlimited time. Some '\n",
      "           'limitations apply. As new Always Free services become available, '\n",
      "           'you will automatically be able to use those as well.\\n'\n",
      "           '\\n'\n",
      "           'The following services are available as Always Free:\\n'\n",
      "           '\\n'\n",
      "           'AMD-based Compute\\n'\n",
      "           'Arm-based Ampere A1 Compute\\n'\n",
      "           'Block Volume\\n'\n",
      "           'Object Storage\\n'\n",
      "           'Archive Storage\\n'\n",
      "           'Flexible Load Balancer\\n'\n",
      "           'Flexible Network Load Balancer\\n'\n",
      "           'VPN Connect\\n'\n",
      "           'Autonomous Data Warehouse\\n'\n",
      "           'Autonomous Transaction Processing\\n'\n",
      "           'Autonomous JSON Database\\n'\n",
      "           'NoSQL Database (Phoenix Region only)\\n'\n",
      "           'APEX Application Development\\n'\n",
      "           'Resource Manager (Terraform)\\n'\n",
      "           'Monitoring\\n'\n",
      "           'Notifications\\n'\n",
      "           'Logging\\n'\n",
      "           'Application Performance Monitoring\\n'\n",
      "           'Service Connector Hub\\n'\n",
      "           'Vault\\n'\n",
      "           'Bastions\\n'\n",
      "           'Security Advisor\\n'\n",
      "           'Virtual Cloud Networks\\n'\n",
      "           'Site-to-Site VPN\\n'\n",
      "           'Content Management Starter Edition\\n'\n",
      "           'Email Delivery',\n",
      "   'path': 'faq'}),\n",
      " (0.48326675674258734,\n",
      "  {'text': 'faq | Are Always Free services available for paid accounts?\\n'\n",
      "           '\\n'\n",
      "           'Yes, for paid accounts using universal credit pricing.',\n",
      "   'path': 'faq'}),\n",
      " (0.4878003460767655,\n",
      "  {'text': 'faq | Could you elaborate on the concept of Always Free resources '\n",
      "           'in Oracle Cloud Infrastructure, and how can users leverage them '\n",
      "           'for various use cases while staying within the specified '\n",
      "           'limitations?\\n'\n",
      "           '\\n'\n",
      "           'Always Free resources in Oracle Cloud Infrastructure are services '\n",
      "           'and resources that can be used without incurring charges, subject '\n",
      "           'to certain usage limitations. Users can leverage these resources '\n",
      "           'for development, testing, small-scale applications, and learning '\n",
      "           'purposes, all while adhering to the restrictions outlined in the '\n",
      "           'terms and conditions.',\n",
      "   'path': 'faq'})]\n"
     ]
    }
   ],
   "source": [
    "import pprint\n",
    "pprint.pp(results)"
   ]
  },
  {
   "cell_type": "code",
   "execution_count": 27,
   "metadata": {},
   "outputs": [
    {
     "name": "stderr",
     "output_type": "stream",
     "text": [
      "You are using the default legacy behaviour of the <class 'transformers.models.llama.tokenization_llama_fast.LlamaTokenizerFast'>. This is expected, and simply means that the `legacy` (previous) behavior will be used so nothing changes for you. If you want to use the new behaviour, set `legacy=False`. This should only be set if you understand what it means, and thoroughly read the reason why this was added as explained in https://github.com/huggingface/transformers/pull/24565 - if you loaded a llama tokenizer from a GGUF file you can ignore this message.\n"
     ]
    }
   ],
   "source": [
    "from transformers import LlamaTokenizerFast\n",
    "import sys\n",
    "\n",
    "tokenizer = LlamaTokenizerFast.from_pretrained(\"hf-internal-testing/llama-tokenizer\")\n",
    "\n",
    "\n",
    "tokenizer.model_max_length = sys.maxsize\n",
    "\n",
    "def truncate_string(string, max_tokens):\n",
    "    # Tokenize the text and count the tokens\n",
    "    tokens = tokenizer.encode(string, add_special_tokens=True) \n",
    "    # Truncate the tokens to a maximum length\n",
    "    truncated_tokens = tokens[:max_tokens]\n",
    "    # transform the tokens back to text\n",
    "    truncated_text = tokenizer.decode(truncated_tokens)\n",
    "    return truncated_text"
   ]
  },
  {
   "cell_type": "code",
   "execution_count": 28,
   "metadata": {},
   "outputs": [],
   "source": [
    "# transform docs into a string array using the \"paylod\" key\n",
    "docs_as_one_string = \"\\n=========\\n\".join([doc[\"text\"] for doc in docs])\n",
    "docs_truncated = truncate_string(docs_as_one_string, 1000)"
   ]
  },
  {
   "cell_type": "code",
   "execution_count": 19,
   "metadata": {},
   "outputs": [],
   "source": [
    "prompt = f\"\"\"\\\n",
    "    <s>[INST] <<SYS>>\n",
    "    You are a helpful assistant named Oracle chatbot. \n",
    "    USE ONLY the sources below and ABSOLUTELY IGNORE any previous knowledge.\n",
    "    Use Markdown if appropriate.\n",
    "    Assume the customer is highly technical.\n",
    "    <</SYS>> [/INST]\n",
    "\n",
    "    [INST]\n",
    "    Respond to PRECISELY to this question: \"{question}.\",  USING ONLY the following information and IGNORING ANY PREVIOUS KNOWLEDGE.\n",
    "    Include code snippets and commands where necessary.\n",
    "    NEVER mention the sources, always respond as if you have that knowledge yourself. Do NOT provide warnings or disclaimers.\n",
    "    =====\n",
    "    Sources: {docs_truncated}\n",
    "    =====\n",
    "    Answer (Three paragraphs, maximum 50 words each, 90% spartan):\n",
    "    [/INST]\n",
    "    \"\"\""
   ]
  },
  {
   "cell_type": "code",
   "execution_count": 5,
   "metadata": {},
   "outputs": [],
   "source": [
    "import oci\n",
    "from oci.auth import signers\n",
    "\n",
    "# Compartment ID\n",
    "compartment_id = \"ocid1.compartment.oc1..aaaaaaaadbc47j6m3jv3ov2g4ladbrpg6spc2sycw7qiubdqc4eysi664byq\"\n",
    "\n",
    "# Crear un proveedor de autenticación de instancias principales\n",
    "signer = oci.auth.signers.InstancePrincipalsSecurityTokenSigner()\n",
    "\n",
    "# Service endpoint\n",
    "endpoint = \"https://inference.generativeai.us-chicago-1.oci.oraclecloud.com\"\n",
    "\n",
    "# GenAI client usando instance principals\n",
    "generative_ai_inference_client = oci.generative_ai_inference.GenerativeAiInferenceClient(\n",
    "    config={}, \n",
    "    signer=signer,\n",
    "    service_endpoint=endpoint,\n",
    "    retry_strategy=oci.retry.NoneRetryStrategy(),\n",
    "    timeout=(10,240)\n",
    ")"
   ]
  },
  {
   "cell_type": "code",
   "execution_count": 6,
   "metadata": {},
   "outputs": [],
   "source": [
    "prompt = ' HI'"
   ]
  },
  {
   "cell_type": "code",
   "execution_count": null,
   "metadata": {},
   "outputs": [],
   "source": [
    "chat_detail = oci.generative_ai_inference.models.ChatDetails()\n",
    "\n",
    "chat_request = oci.generative_ai_inference.models.CohereChatRequest()\n",
    "chat_request.message = prompt\n",
    "chat_request.max_tokens = 1000\n",
    "chat_request.temperature = 0.0\n",
    "chat_request.frequency_penalty = 0\n",
    "chat_request.top_p = 0.75\n",
    "chat_request.top_k = 0\n",
    "\n",
    "chat_detail.serving_mode = oci.generative_ai_inference.models.OnDemandServingMode(model_id=\"ocid1.generativeaimodel.oc1.us-chicago-1.amaaaaaask7dceyaycmwwnvu2gaqrffquofgmshlqzcdwpk727n4cykg34oa\")\n",
    "chat_detail.chat_request = chat_request\n",
    "chat_detail.compartment_id = compartment_id\n",
    "chat_response = generative_ai_inference_client.chat(chat_detail)\n",
    "\n",
    "pprint.pp(\n",
    "    chat_response.data.chat_response.chat_history[1].message\n",
    ")"
   ]
  },
  {
   "cell_type": "code",
   "execution_count": null,
   "metadata": {},
   "outputs": [],
   "source": []
  },
  {
   "cell_type": "code",
   "execution_count": null,
   "metadata": {},
   "outputs": [],
   "source": []
  },
  {
   "cell_type": "code",
   "execution_count": null,
   "metadata": {},
   "outputs": [],
   "source": []
  },
  {
   "cell_type": "code",
   "execution_count": null,
   "metadata": {},
   "outputs": [],
   "source": [
    "import oci\n",
    "from oci.auth import signers\n",
    "\n",
    "# Compartment ID\n",
    "compartment_id = \"ocid1.compartment.oc1..aaaaaaaadbc47j6m3jv3ov2g4ladbrpg6spc2sycw7qiubdqc4eysi664byq\"\n",
    "\n",
    "# Crear un proveedor de autenticación de instancias principales\n",
    "signer = oci.auth.signers.InstancePrincipalsSecurityTokenSigner()"
   ]
  },
  {
   "cell_type": "code",
   "execution_count": null,
   "metadata": {},
   "outputs": [],
   "source": []
  },
  {
   "cell_type": "code",
   "execution_count": null,
   "metadata": {},
   "outputs": [],
   "source": []
  },
  {
   "cell_type": "code",
   "execution_count": 21,
   "metadata": {},
   "outputs": [],
   "source": [
    "import oci\n",
    "\n",
    "compartment_id = \"ocid1.compartment.oc1..aaaaaaaadbc47j6m3jv3ov2g4ladbrpg6spc2sycw7qiubdqc4eysi664byq\"\n",
    "CONFIG_PROFILE = \"DEFAULT\"\n",
    "config = oci.config.from_file('config', CONFIG_PROFILE)\n",
    "\n",
    "# Service endpoint\n",
    "endpoint = \"https://inference.generativeai.us-chicago-1.oci.oraclecloud.com\"\n",
    "\n",
    "# GenAI client\n",
    "generative_ai_inference_client = oci.generative_ai_inference.GenerativeAiInferenceClient(config=config, service_endpoint=endpoint, retry_strategy=oci.retry.NoneRetryStrategy(), timeout=(10,240))"
   ]
  },
  {
   "cell_type": "code",
   "execution_count": 30,
   "metadata": {},
   "outputs": [
    {
     "name": "stdout",
     "output_type": "stream",
     "text": [
      "('Oracle Cloud Infrastructure offers an Always Free tier which provides access '\n",
      " 'to a range of services free of charge and without time limits. This includes '\n",
      " 'AMD and Arm-based compute options, Block Volume, Object Storage, and Archive '\n",
      " 'Storage. The Always Free tier is intended to cater to a diverse range of '\n",
      " 'users, from developers and startups to enterprises and students, offering an '\n",
      " 'opportunity to explore, build, and test on Oracle Cloud at no cost.\\n'\n",
      " '\\n'\n",
      " 'The specific Always Free services on offer are:\\n'\n",
      " '\\n'\n",
      " '- AMD-based Compute\\n'\n",
      " '- Arm-based Ampere A1 Compute\\n'\n",
      " '- Block Volume\\n'\n",
      " '- Object Storage\\n'\n",
      " '- Archive Storage\\n'\n",
      " '\\n'\n",
      " 'These services are available without any time restrictions, providing an '\n",
      " 'excellent opportunity to familiarize oneself with Oracle Cloud '\n",
      " 'Infrastructure.')\n"
     ]
    }
   ],
   "source": [
    "chat_detail = oci.generative_ai_inference.models.ChatDetails()\n",
    "\n",
    "chat_request = oci.generative_ai_inference.models.CohereChatRequest()\n",
    "chat_request.message = prompt\n",
    "chat_request.max_tokens = 1000\n",
    "chat_request.temperature = 0.0\n",
    "chat_request.frequency_penalty = 0\n",
    "chat_request.top_p = 0.75\n",
    "chat_request.top_k = 0\n",
    "\n",
    "chat_detail.serving_mode = oci.generative_ai_inference.models.OnDemandServingMode(model_id=\"cohere.command-r-plus\")\n",
    "chat_detail.chat_request = chat_request\n",
    "chat_detail.compartment_id = compartment_id\n",
    "chat_response = generative_ai_inference_client.chat(chat_detail)\n",
    "\n",
    "pprint.pp(\n",
    "    chat_response.data.chat_response.chat_history[1].message\n",
    ")"
   ]
  },
  {
   "cell_type": "code",
   "execution_count": null,
   "metadata": {},
   "outputs": [],
   "source": []
  }
 ],
 "metadata": {
  "kernelspec": {
   "display_name": "Python 3",
   "language": "python",
   "name": "python3"
  },
  "language_info": {
   "codemirror_mode": {
    "name": "ipython",
    "version": 3
   },
   "file_extension": ".py",
   "mimetype": "text/x-python",
   "name": "python",
   "nbconvert_exporter": "python",
   "pygments_lexer": "ipython3",
   "version": "3.10.12"
  }
 },
 "nbformat": 4,
 "nbformat_minor": 2
}
